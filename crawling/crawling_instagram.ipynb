{
 "cells": [
  {
   "cell_type": "code",
   "execution_count": 1,
   "metadata": {
    "colab": {
     "base_uri": "https://localhost:8080/",
     "height": 141
    },
    "id": "rmq0afzPYEnC",
    "outputId": "177f5eca-864c-4279-b039-1c681a66a7d3"
   },
   "outputs": [
    {
     "name": "stdout",
     "output_type": "stream",
     "text": [
      "Requirement already satisfied: selenium in c:\\users\\07\\anaconda3\\envs\\machinelearning\\lib\\site-packages (3.141.0)\n",
      "Requirement already satisfied: urllib3 in c:\\users\\07\\anaconda3\\envs\\machinelearning\\lib\\site-packages (from selenium) (1.25.10)\n"
     ]
    }
   ],
   "source": [
    "!pip install selenium"
   ]
  },
  {
   "cell_type": "code",
   "execution_count": null,
   "metadata": {
    "colab": {
     "base_uri": "https://localhost:8080/",
     "height": 1000
    },
    "id": "8dDL4116YEeh",
    "outputId": "b3aeef89-7987-4512-ca3b-fe4185cbb142"
   },
   "outputs": [
    {
     "name": "stderr",
     "output_type": "stream",
     "text": [
      "'apt-get'은(는) 내부 또는 외부 명령, 실행할 수 있는 프로그램, 또는\n",
      "배치 파일이 아닙니다.\n",
      "'apt-get'은(는) 내부 또는 외부 명령, 실행할 수 있는 프로그램, 또는\n",
      "배치 파일이 아닙니다.\n"
     ]
    }
   ],
   "source": [
    "!apt-get update\n",
    "!apt-get install chromium-chromedriver"
   ]
  },
  {
   "cell_type": "code",
   "execution_count": 2,
   "metadata": {
    "id": "CyikIzLEXHuB"
   },
   "outputs": [],
   "source": [
    "from selenium import webdriver\n",
    "import sys\n",
    "import pandas as pd\n",
    "from selenium.webdriver.chrome.options import Options\n",
    "import time\n",
    "import requests\n",
    "from bs4 import BeautifulSoup\n",
    "from selenium import webdriver as wd\n",
    "from selenium.webdriver.common.by import By\n",
    "from selenium.webdriver.support.ui import WebDriverWait\n",
    "from selenium.webdriver.support import expected_conditions as EC\n",
    "import time\n",
    "import re\n",
    "from selenium.common.exceptions import InvalidSessionIdException\n"
   ]
  },
  {
   "cell_type": "code",
   "execution_count": null,
   "metadata": {
    "id": "T0ZhLpJSXPqn"
   },
   "outputs": [],
   "source": [
    "\n",
    "options = webdriver.ChromeOptions()\n",
    "#options.add_argument('headless')\n",
    "options.add_argument('--no-sandbox')\n",
    "options.add_argument('--disable-dev-shm-usage')\n",
    "options.add_argument('disable-gpu')\n",
    "options.add_argument('lang=ko_KR')\n",
    "options.add_argument(\"user-agent=Mozilla/5.0 (Macintosh; Intel Mac OS X 10_12_6) AppleWebKit/537.36 (KHTML, like Gecko) Chrome/61.0.3163.100 Safari/537.36\")\n",
    "#notification 없애기\n",
    "prefs = {\"profile.default_content_setting_values.notifications\": 2}\n",
    "options.add_experimental_option(\"prefs\", prefs)\n",
    "\n",
    "\n",
    "driver = webdriver.Chrome('../chromedriver', options=options)\n"
   ]
  },
  {
   "cell_type": "code",
   "execution_count": null,
   "metadata": {
    "id": "FT7a8XiXXTS_",
    "outputId": "d6fdafe0-36ba-4619-8ffe-e8a961f3ae3c"
   },
   "outputs": [
    {
     "name": "stderr",
     "output_type": "stream",
     "text": [
      "c:\\users\\07\\anaconda3\\envs\\machinelearning\\lib\\site-packages\\urllib3\\connectionpool.py:988: InsecureRequestWarning: Unverified HTTPS request is being made to host 'www.instagram.com'. Adding certificate verification is strongly advised. See: https://urllib3.readthedocs.io/en/latest/advanced-usage.html#ssl-warnings\n",
      "  InsecureRequestWarning,\n"
     ]
    },
    {
     "name": "stdout",
     "output_type": "stream",
     "text": [
      "<bound method Mapping.keys of {'Content-Type': 'text/html; charset=utf-8', 'Vary': 'Accept-Language, Cookie', 'Content-Language': 'en', 'Date': 'Tue, 13 Oct 2020 05:26:22 GMT', 'Strict-Transport-Security': 'max-age=31536000', 'Cache-Control': 'private, no-cache, no-store, must-revalidate', 'Pragma': 'no-cache', 'Expires': 'Sat, 01 Jan 2000 00:00:00 GMT', 'X-Frame-Options': 'SAMEORIGIN', 'content-security-policy': \"report-uri https://www.instagram.com/security/csp_report/; default-src 'self' https://www.instagram.com; img-src data: blob: https://*.fbcdn.net https://*.instagram.com https://*.cdninstagram.com https://*.giphy.com; font-src data: https://*.fbcdn.net https://*.instagram.com https://*.cdninstagram.com; media-src 'self' blob: https://www.instagram.com https://*.cdninstagram.com https://*.fbcdn.net; manifest-src 'self' https://www.instagram.com; script-src 'self' https://instagram.com https://www.instagram.com https://*.www.instagram.com https://*.cdninstagram.com wss://www.instagram.com https://*.facebook.com https://*.fbcdn.net https://*.facebook.net 'unsafe-inline' 'unsafe-eval' blob:; style-src 'self' https://*.www.instagram.com https://www.instagram.com 'unsafe-inline'; connect-src 'self' https://instagram.com https://www.instagram.com https://*.www.instagram.com https://graph.instagram.com https://*.graph.instagram.com https://*.cdninstagram.com https://api.instagram.com https://i.instagram.com wss://www.instagram.com wss://edge-chat.instagram.com https://*.facebook.com https://*.fbcdn.net https://*.facebook.net chrome-extension://boadgeojelhgndaghljhdicfkmllpafd blob:; worker-src 'self' blob: https://www.instagram.com; frame-src 'self' https://instagram.com https://www.instagram.com https://staticxx.facebook.com https://www.facebook.com https://web.facebook.com https://connect.facebook.net https://m.facebook.com; object-src 'none'; upgrade-insecure-requests\", 'X-Content-Type-Options': 'nosniff', 'X-XSS-Protection': '0', 'x-aed': '20', 'Access-Control-Expose-Headers': 'X-IG-Set-WWW-Claim', 'Set-Cookie': 'ig_did=CD573066-39E8-4D19-BE17-D0898FBCBEF1; Domain=.instagram.com; expires=Thu, 13-Oct-2022 05:26:22 GMT; HttpOnly; Max-Age=63072000; Path=/; Secure, csrftoken=TbWvK0qHtRUMAyhKuBH5kvi0csbkRwWz; Domain=.instagram.com; expires=Tue, 12-Oct-2021 05:26:22 GMT; Max-Age=31449600; Path=/; Secure, mid=X4U6fgAEAAE3zx8YdQ02FmvbEkHX; Domain=.instagram.com; expires=Thu, 13-Oct-2022 05:26:22 GMT; Max-Age=63072000; Path=/; Secure, ig_nrcb=1; Domain=.instagram.com; expires=Wed, 13-Oct-2021 05:26:22 GMT; Max-Age=31536000; Path=/; Secure', 'X-FB-TRIP-ID': '1679558926', 'Alt-Svc': 'h3-29=\":443\"; ma=3600,h3-27=\":443\"; ma=3600', 'Connection': 'keep-alive', 'Content-Length': '20776'}>\n",
      "ig_did=CD573066-39E8-4D19-BE17-D0898FBCBEF1; Domain=.instagram.com; expires=Thu, 13-Oct-2022 05:26:22 GMT; HttpOnly; Max-Age=63072000; Path=/; Secure, csrftoken=TbWvK0qHtRUMAyhKuBH5kvi0csbkRwWz; Domain=.instagram.com; expires=Tue, 12-Oct-2021 05:26:22 GMT; Max-Age=31449600; Path=/; Secure, mid=X4U6fgAEAAE3zx8YdQ02FmvbEkHX; Domain=.instagram.com; expires=Thu, 13-Oct-2022 05:26:22 GMT; Max-Age=63072000; Path=/; Secure, ig_nrcb=1; Domain=.instagram.com; expires=Wed, 13-Oct-2021 05:26:22 GMT; Max-Age=31536000; Path=/; Secure\n"
     ]
    },
    {
     "name": "stderr",
     "output_type": "stream",
     "text": [
      "c:\\users\\07\\anaconda3\\envs\\machinelearning\\lib\\site-packages\\urllib3\\connectionpool.py:988: InsecureRequestWarning: Unverified HTTPS request is being made to host 'www.instagram.com'. Adding certificate verification is strongly advised. See: https://urllib3.readthedocs.io/en/latest/advanced-usage.html#ssl-warnings\n",
      "  InsecureRequestWarning,\n"
     ]
    }
   ],
   "source": [
    "\n",
    "#로그인\n",
    "\n",
    "LOGIN_URL = 'https://www.instagram.com/'\n",
    "\n",
    "driver.get(LOGIN_URL)\n",
    "time.sleep(2)\n",
    "id = '01052942210'\n",
    "password = 'Eun5375353!'\n",
    "id_input = driver.find_elements_by_css_selector('#loginForm > div > div:nth-child(1) > div > label > input')[0]\n",
    "id_input.send_keys(id)\n",
    "password_input = driver.find_elements_by_css_selector('#loginForm > div > div:nth-child(2) > div > label > input')[0]\n",
    "password_input.send_keys(password)\n",
    "password_input.submit()\n",
    "\n",
    "time.sleep(4)\n",
    "\n",
    "driver.find_elements_by_xpath('/html/body/div[1]/section/main/div/div/div/div/button')[0].click()\n",
    "time.sleep(4)\n",
    "\n",
    "\n",
    "\n",
    "LOGIN_INFO = {\n",
    "    'id': '01052942210',\n",
    "    'pass': 'Eun5375353!'\n",
    "}\n",
    "s = requests.Session()\n",
    "\n",
    "with requests.Session() as s:\n",
    "    res = s.post(LOGIN_URL, data=LOGIN_INFO, verify=False, allow_redirects=False)\n",
    "    print(res.headers.keys)\n",
    "    # 쿠키와 헤더에 포함된 302 Location 값을 가져온다.\n",
    "    # 이때, 헤더에 설정된 쿠키와 함께 Location으로 Get Request 를 보내면 된다.\n",
    "    redirect_cookie = res.headers['Set-Cookie']\n",
    "    print(redirect_cookie)\n",
    "    #redirect_url = res.headers['Location']\n",
    "    #print(redirect_url)\n",
    "    headers = {\"Cookie\": redirect_cookie}\n",
    "\n",
    "    # Location 주소로 Get Request 호출\n",
    "    s.get(LOGIN_URL, headers=headers)\n",
    "\n",
    "\n",
    "time.sleep(1)\n"
   ]
  },
  {
   "cell_type": "code",
   "execution_count": 1,
   "metadata": {
    "colab": {
     "base_uri": "https://localhost:8080/",
     "height": 238
    },
    "id": "TVQRZfuhW-ab",
    "outputId": "5b8bc26f-0126-4fc8-88fc-a260cd0acf54",
    "scrolled": true
   },
   "outputs": [
    {
     "ename": "NameError",
     "evalue": "ignored",
     "output_type": "error",
     "traceback": [
      "\u001b[0;31m---------------------------------------------------------------------------\u001b[0m",
      "\u001b[0;31mNameError\u001b[0m                                 Traceback (most recent call last)",
      "\u001b[0;32m<ipython-input-1-0a9b309a1221>\u001b[0m in \u001b[0;36m<module>\u001b[0;34m()\u001b[0m\n\u001b[1;32m      6\u001b[0m \u001b[0minstagram_title\u001b[0m \u001b[0;34m=\u001b[0m \u001b[0;34m[\u001b[0m\u001b[0;34m]\u001b[0m\u001b[0;34m\u001b[0m\u001b[0;34m\u001b[0m\u001b[0m\n\u001b[1;32m      7\u001b[0m \u001b[0minstagram_title_dates\u001b[0m \u001b[0;34m=\u001b[0m \u001b[0;34m[\u001b[0m\u001b[0;34m]\u001b[0m\u001b[0;34m\u001b[0m\u001b[0;34m\u001b[0m\u001b[0m\n\u001b[0;32m----> 8\u001b[0;31m \u001b[0mdriver\u001b[0m\u001b[0;34m.\u001b[0m\u001b[0mget\u001b[0m\u001b[0;34m(\u001b[0m\u001b[0murl\u001b[0m\u001b[0;34m)\u001b[0m\u001b[0;34m\u001b[0m\u001b[0;34m\u001b[0m\u001b[0m\n\u001b[0m\u001b[1;32m      9\u001b[0m \u001b[0mtime\u001b[0m\u001b[0;34m.\u001b[0m\u001b[0msleep\u001b[0m\u001b[0;34m(\u001b[0m\u001b[0;36m3\u001b[0m\u001b[0;34m)\u001b[0m\u001b[0;34m\u001b[0m\u001b[0;34m\u001b[0m\u001b[0m\n\u001b[1;32m     10\u001b[0m \u001b[0mcount\u001b[0m \u001b[0;34m=\u001b[0m \u001b[0mdriver\u001b[0m\u001b[0;34m.\u001b[0m\u001b[0mfind_element_by_css_selector\u001b[0m\u001b[0;34m(\u001b[0m\u001b[0;34m'#react-root > section > main > header > div.WSpok > div > div.Igw0E.IwRSH.eGOV_._4EzTm.a39_R > span > span'\u001b[0m\u001b[0;34m)\u001b[0m\u001b[0;34m.\u001b[0m\u001b[0mtext\u001b[0m\u001b[0;34m\u001b[0m\u001b[0;34m\u001b[0m\u001b[0m\n",
      "\u001b[0;31mNameError\u001b[0m: name 'driver' is not defined"
     ]
    }
   ],
   "source": [
    "#키워드 크롤링 시작\n",
    "\n",
    "keyword = \"치즈볼\"\n",
    "\n",
    "url = \"https://www.instagram.com/explore/tags/{}/\".format(keyword)\n",
    "instagram_title = []\n",
    "instagram_title_dates = []\n",
    "driver.get(url)\n",
    "time.sleep(3)\n",
    "count = driver.find_element_by_css_selector('#react-root > section > main > header > div.WSpok > div > div.Igw0E.IwRSH.eGOV_._4EzTm.a39_R > span > span').text\n",
    "count = count.replace(',','')\n",
    "count = int(count)\n",
    "print(count)\n",
    "\n",
    "driver.find_element_by_css_selector('div.v1Nh3.kIKUG._bz0w').click()\n",
    "for i in range(1,count):\n",
    "    time.sleep(2)\n",
    "    try:\n",
    "        #글내용 가져오기\n",
    "        title = driver.find_element_by_xpath('/html/body/div[4]/div[2]/div/article/div[3]/div[1]/ul/div/li/div/div/div[2]/span').text\n",
    "        title = cleansing(title)\n",
    "        title = title.replace('\\n', ' ')\n",
    "\n",
    "        print(title)\n",
    "\n",
    "        #날짜 가져오기\n",
    "        date = driver.find_elements_by_xpath('/html/body/div[4]/div[2]/div/article/div[3]/div[2]/a/time') #날짜가 들어있는 xpath\n",
    "        date = date[0].get_attribute('title')  #날짜만 가져오기\n",
    "        print(date)\n",
    "\n",
    "        instagram_title.append(title)\n",
    "        instagram_title_dates.append(date)\n",
    "\n",
    "\n",
    "    except:\n",
    "        print('title/dates error')\n",
    "        #도중에 에러가 발생했을 경우, 내용과 날짜에 NaN값을 추가\n",
    "\n",
    "        instagram_title.append(\"NaN\")\n",
    "        instagram_title_dates.append('NaN')\n",
    "\n",
    "\n",
    "    try:\n",
    "        #다음페이지로 넘어가는 '>'표시 클릭\n",
    "        driver.find_element_by_css_selector('body > div._2dDPU.CkGkG > div.EfHg9 > div > div > a._65Bje.coreSpriteRightPaginationArrow').click()\n",
    "        print('next page')\n",
    "    except:\n",
    "        print('next page error')\n",
    "        #driver.close() # date = datum2.text #print(date)\n",
    "\n",
    "\n",
    "    time.sleep(1)\n",
    "\n",
    "df_instagram= pd.DataFrame({'title' : instagram_title, 'date': instagram_title_dates})\n",
    "\n"
   ]
  },
  {
   "cell_type": "code",
   "execution_count": null,
   "metadata": {
    "id": "WDxfdzUVXZCX"
   },
   "outputs": [],
   "source": [
    "df_instagram= pd.DataFrame({'date': instagram_title_dates, 'title' : instagram_title})\n",
    "df_instagram.to_csv('prj_sns_trend_crawling_instagram_test.csv')"
   ]
  },
  {
   "cell_type": "code",
   "execution_count": null,
   "metadata": {
    "id": "FHA9cwB_PUlC"
   },
   "outputs": [],
   "source": [
    "def cleansing(text):\n",
    "    pattern = '([a-zA-Z0-9_.+-]+@[a-zA-Z0-9-]+\\.[a-zA-Z0-9-.]+)' # E-mail주소제거\n",
    "    text = re.sub(pattern=pattern, repl='', string=text)\n",
    "    pattern = '(http|ftp|https)://(?:[-\\w.]|(?:%[\\da-fA-F]{2}))+' # URL제거\n",
    "    text = re.sub(pattern=pattern, repl='', string=text)\n",
    "    pattern = '([ㄱ-ㅎㅏ-ㅣ]+)' # 한글 자음, 모음 제거\n",
    "    text = re.sub(pattern=pattern, repl='', string=text)\n",
    "    pattern = '<[^>]*>'         # HTML 태그 제거\n",
    "    text = re.sub(pattern=pattern, repl='', string=text)\n",
    "    pattern = '[^\\w\\s]' # 특수기호제거\n",
    "    text = re.sub(pattern=pattern, repl='', string=text)\n",
    "    return text    \n"
   ]
  },
  {
   "cell_type": "code",
   "execution_count": null,
   "metadata": {
    "id": "DqF4lmWlPUlF",
    "outputId": "5d815ae4-dff4-4ce2-d644-fcccfdb35b4d",
    "scrolled": true
   },
   "outputs": [
    {
     "name": "stdout",
     "output_type": "stream",
     "text": [
      "맛스타그램 먹스타그램 쿠캣마켓 모짜통통치즈볼 바삭 말랑 단짠 자제 안 하고 먹으면 1봉지 다 먹을삘 치즈볼 만드신 분 칭찬해\n",
      "['맛스타그램 먹스타그램 쿠캣마켓 모짜통통치즈볼 바삭 말랑 단짠 자제 안 하고 먹으면 1봉지 다 먹을삘 치즈볼 만드신 분 칭찬해']\n"
     ]
    }
   ],
   "source": [
    "title = driver.find_element_by_xpath('/html/body/div[4]/div[2]/div/article/div[3]/div[1]/ul/div/li/div/div/div[2]/span').text\n",
    "\n",
    "title = cleansing(title)\n",
    "title = title.replace('\\n', ' ')\n",
    "print(title)\n",
    "a = []\n",
    "a.append(title)\n",
    "print(a)\n",
    "\n",
    "#title = re.findall('[A-Za-z0-9가-힣, +]+', title)\n",
    "#title = ' '.join(title)"
   ]
  },
  {
   "cell_type": "code",
   "execution_count": null,
   "metadata": {
    "id": "uWq1tDSbPUlH"
   },
   "outputs": [],
   "source": []
  }
 ],
 "metadata": {
  "colab": {
   "collapsed_sections": [],
   "name": "prj_sns_trend_crawling_instagram.ipynb",
   "provenance": []
  },
  "kernelspec": {
   "display_name": "Python 3",
   "language": "python",
   "name": "python3"
  },
  "language_info": {
   "codemirror_mode": {
    "name": "ipython",
    "version": 3
   },
   "file_extension": ".py",
   "mimetype": "text/x-python",
   "name": "python",
   "nbconvert_exporter": "python",
   "pygments_lexer": "ipython3",
   "version": "3.7.7"
  }
 },
 "nbformat": 4,
 "nbformat_minor": 1
}
