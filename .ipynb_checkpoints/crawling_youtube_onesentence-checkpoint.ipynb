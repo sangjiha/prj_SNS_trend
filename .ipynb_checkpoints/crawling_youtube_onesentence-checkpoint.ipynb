{
 "cells": [
  {
   "cell_type": "code",
   "execution_count": 1,
   "metadata": {},
   "outputs": [],
   "source": [
    "import pandas as pd\n",
    "import numpy as np\n",
    "import datetime"
   ]
  },
  {
   "cell_type": "code",
   "execution_count": 5,
   "metadata": {},
   "outputs": [
    {
     "data": {
      "text/html": [
       "<div>\n",
       "<style scoped>\n",
       "    .dataframe tbody tr th:only-of-type {\n",
       "        vertical-align: middle;\n",
       "    }\n",
       "\n",
       "    .dataframe tbody tr th {\n",
       "        vertical-align: top;\n",
       "    }\n",
       "\n",
       "    .dataframe thead th {\n",
       "        text-align: right;\n",
       "    }\n",
       "</style>\n",
       "<table border=\"1\" class=\"dataframe\">\n",
       "  <thead>\n",
       "    <tr style=\"text-align: right;\">\n",
       "      <th></th>\n",
       "      <th>title</th>\n",
       "      <th>date</th>\n",
       "      <th>youtuber</th>\n",
       "      <th>comment</th>\n",
       "    </tr>\n",
       "  </thead>\n",
       "  <tbody>\n",
       "    <tr>\n",
       "      <th>0</th>\n",
       "      <td>BHC 치즈볼 긴장해야 할거같습니다.</td>\n",
       "      <td>2020-04-02</td>\n",
       "      <td>애주가TV참PD</td>\n",
       "      <td>전국의 치즈볼이 씨가 마르겠네요...\\n오늘 영상 대박입니다</td>\n",
       "    </tr>\n",
       "    <tr>\n",
       "      <th>1</th>\n",
       "      <td>BHC 치즈볼 긴장해야 할거같습니다.</td>\n",
       "      <td>2020-04-02</td>\n",
       "      <td>애주가TV참PD</td>\n",
       "      <td>여러분이 드시는 치킨 프랜차이즈 치즈볼은 거의 다  자체생산이 아닌 외주를 통해 나...</td>\n",
       "    </tr>\n",
       "    <tr>\n",
       "      <th>2</th>\n",
       "      <td>BHC 치즈볼 긴장해야 할거같습니다.</td>\n",
       "      <td>2020-04-02</td>\n",
       "      <td>애주가TV참PD</td>\n",
       "      <td>이런 컨텐츠 참 좋은거 같아요 . 우리나라는 대기업에 여러가지가 집중되어 있는데 훌...</td>\n",
       "    </tr>\n",
       "    <tr>\n",
       "      <th>3</th>\n",
       "      <td>BHC 치즈볼 긴장해야 할거같습니다.</td>\n",
       "      <td>2020-04-02</td>\n",
       "      <td>애주가TV참PD</td>\n",
       "      <td>5:03 8700 더 바삭한\\n5:55 9500 푸드킹\\n6:19 11500 썬리취...</td>\n",
       "    </tr>\n",
       "    <tr>\n",
       "      <th>4</th>\n",
       "      <td>BHC 치즈볼 긴장해야 할거같습니다.</td>\n",
       "      <td>2020-04-02</td>\n",
       "      <td>애주가TV참PD</td>\n",
       "      <td>8:11 최종평가</td>\n",
       "    </tr>\n",
       "    <tr>\n",
       "      <th>...</th>\n",
       "      <td>...</td>\n",
       "      <td>...</td>\n",
       "      <td>...</td>\n",
       "      <td>...</td>\n",
       "    </tr>\n",
       "    <tr>\n",
       "      <th>2733</th>\n",
       "      <td>ASMR CHEESY BURGER KING ,CHEESE BALL, Chicken ...</td>\n",
       "      <td>2020-02-04</td>\n",
       "      <td>DONI ASMR 도니</td>\n",
       "      <td>amo carne</td>\n",
       "    </tr>\n",
       "    <tr>\n",
       "      <th>2734</th>\n",
       "      <td>ASMR CHEESY BURGER KING ,CHEESE BALL, Chicken ...</td>\n",
       "      <td>2020-02-04</td>\n",
       "      <td>DONI ASMR 도니</td>\n",
       "      <td>Nice&lt;3 ilyyyy:(</td>\n",
       "    </tr>\n",
       "    <tr>\n",
       "      <th>2735</th>\n",
       "      <td>ASMR CHEESY BURGER KING ,CHEESE BALL, Chicken ...</td>\n",
       "      <td>2020-02-04</td>\n",
       "      <td>DONI ASMR 도니</td>\n",
       "      <td>Like 23 wow everything looks so delicious🤤👌</td>\n",
       "    </tr>\n",
       "    <tr>\n",
       "      <th>2736</th>\n",
       "      <td>ASMR CHEESY BURGER KING ,CHEESE BALL, Chicken ...</td>\n",
       "      <td>2020-02-04</td>\n",
       "      <td>DONI ASMR 도니</td>\n",
       "      <td>햄버거가 진짜 짱크네요 맛있겠다 ,,</td>\n",
       "    </tr>\n",
       "    <tr>\n",
       "      <th>2737</th>\n",
       "      <td>ASMR CHEESY BURGER KING ,CHEESE BALL, Chicken ...</td>\n",
       "      <td>2020-02-04</td>\n",
       "      <td>DONI ASMR 도니</td>\n",
       "      <td>Amo batata frita</td>\n",
       "    </tr>\n",
       "  </tbody>\n",
       "</table>\n",
       "<p>2738 rows × 4 columns</p>\n",
       "</div>"
      ],
      "text/plain": [
       "                                                  title        date  \\\n",
       "0                                  BHC 치즈볼 긴장해야 할거같습니다.  2020-04-02   \n",
       "1                                  BHC 치즈볼 긴장해야 할거같습니다.  2020-04-02   \n",
       "2                                  BHC 치즈볼 긴장해야 할거같습니다.  2020-04-02   \n",
       "3                                  BHC 치즈볼 긴장해야 할거같습니다.  2020-04-02   \n",
       "4                                  BHC 치즈볼 긴장해야 할거같습니다.  2020-04-02   \n",
       "...                                                 ...         ...   \n",
       "2733  ASMR CHEESY BURGER KING ,CHEESE BALL, Chicken ...  2020-02-04   \n",
       "2734  ASMR CHEESY BURGER KING ,CHEESE BALL, Chicken ...  2020-02-04   \n",
       "2735  ASMR CHEESY BURGER KING ,CHEESE BALL, Chicken ...  2020-02-04   \n",
       "2736  ASMR CHEESY BURGER KING ,CHEESE BALL, Chicken ...  2020-02-04   \n",
       "2737  ASMR CHEESY BURGER KING ,CHEESE BALL, Chicken ...  2020-02-04   \n",
       "\n",
       "          youtuber                                            comment  \n",
       "0         애주가TV참PD                  전국의 치즈볼이 씨가 마르겠네요...\\n오늘 영상 대박입니다  \n",
       "1         애주가TV참PD  여러분이 드시는 치킨 프랜차이즈 치즈볼은 거의 다  자체생산이 아닌 외주를 통해 나...  \n",
       "2         애주가TV참PD  이런 컨텐츠 참 좋은거 같아요 . 우리나라는 대기업에 여러가지가 집중되어 있는데 훌...  \n",
       "3         애주가TV참PD  5:03 8700 더 바삭한\\n5:55 9500 푸드킹\\n6:19 11500 썬리취...  \n",
       "4         애주가TV참PD                                          8:11 최종평가  \n",
       "...            ...                                                ...  \n",
       "2733  DONI ASMR 도니                                          amo carne  \n",
       "2734  DONI ASMR 도니                                    Nice<3 ilyyyy:(  \n",
       "2735  DONI ASMR 도니        Like 23 wow everything looks so delicious🤤👌  \n",
       "2736  DONI ASMR 도니                               햄버거가 진짜 짱크네요 맛있겠다 ,,  \n",
       "2737  DONI ASMR 도니                                   Amo batata frita  \n",
       "\n",
       "[2738 rows x 4 columns]"
      ]
     },
     "execution_count": 5,
     "metadata": {},
     "output_type": "execute_result"
    }
   ],
   "source": [
    "df = pd.read_csv('../datasets/prj_sns_trend_crawling_youtube_치즈볼.csv')\n",
    "df.drop([df.columns[0]],axis=1, inplace=True)\n",
    "df"
   ]
  },
  {
   "cell_type": "code",
   "execution_count": 17,
   "metadata": {},
   "outputs": [
    {
     "data": {
      "text/plain": [
       "125"
      ]
     },
     "execution_count": 17,
     "metadata": {},
     "output_type": "execute_result"
    }
   ],
   "source": [
    "df['youtuber'].unique()\n",
    "df['youtuber'].value_counts()\n",
    "df['youtuber'].nunique()"
   ]
  },
  {
   "cell_type": "code",
   "execution_count": 18,
   "metadata": {},
   "outputs": [],
   "source": [
    "df.to_csv('./datasets/crawling_youtube_1015.csv')"
   ]
  }
 ],
 "metadata": {
  "kernelspec": {
   "display_name": "Python 3",
   "language": "python",
   "name": "python3"
  },
  "language_info": {
   "codemirror_mode": {
    "name": "ipython",
    "version": 3
   },
   "file_extension": ".py",
   "mimetype": "text/x-python",
   "name": "python",
   "nbconvert_exporter": "python",
   "pygments_lexer": "ipython3",
   "version": "3.7.7"
  }
 },
 "nbformat": 4,
 "nbformat_minor": 4
}
