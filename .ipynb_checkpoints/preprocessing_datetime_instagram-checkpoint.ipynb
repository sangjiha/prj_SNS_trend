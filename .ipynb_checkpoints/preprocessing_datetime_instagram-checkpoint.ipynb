{
 "cells": [
  {
   "cell_type": "code",
   "execution_count": 75,
   "metadata": {},
   "outputs": [],
   "source": [
    "import pandas as pd\n",
    "import numpy as np\n",
    "import datetime\n"
   ]
  },
  {
   "cell_type": "code",
   "execution_count": 76,
   "metadata": {},
   "outputs": [
    {
     "data": {
      "text/html": [
       "<div>\n",
       "<style scoped>\n",
       "    .dataframe tbody tr th:only-of-type {\n",
       "        vertical-align: middle;\n",
       "    }\n",
       "\n",
       "    .dataframe tbody tr th {\n",
       "        vertical-align: top;\n",
       "    }\n",
       "\n",
       "    .dataframe thead th {\n",
       "        text-align: right;\n",
       "    }\n",
       "</style>\n",
       "<table border=\"1\" class=\"dataframe\">\n",
       "  <thead>\n",
       "    <tr style=\"text-align: right;\">\n",
       "      <th></th>\n",
       "      <th>date</th>\n",
       "      <th>title</th>\n",
       "    </tr>\n",
       "  </thead>\n",
       "  <tbody>\n",
       "    <tr>\n",
       "      <th>0</th>\n",
       "      <td>2020년 10월 12일</td>\n",
       "      <td>광고공구예고  안녕하세요 뚜뚜네간식 뚜맘입니다  오래 기다려주신 오크리스피 최저가공...</td>\n",
       "    </tr>\n",
       "    <tr>\n",
       "      <th>1</th>\n",
       "      <td>2020년 9월 24일</td>\n",
       "      <td>오백예순두 번째 호기심까까  노브랜드버거 인절미치즈볼3알2900원   리뷰요청지에서...</td>\n",
       "    </tr>\n",
       "    <tr>\n",
       "      <th>2</th>\n",
       "      <td>2020년 9월 29일</td>\n",
       "      <td>2020년이 된 지 엊그제 같은데 벌써 추석...</td>\n",
       "    </tr>\n",
       "    <tr>\n",
       "      <th>3</th>\n",
       "      <td>2020년 10월 12일</td>\n",
       "      <td>오늘의 야식은 치킨 이에용  치킨매니아에서 메뉴를 야심차게 준비했어요  싹쓰리치킨세...</td>\n",
       "    </tr>\n",
       "    <tr>\n",
       "      <th>4</th>\n",
       "      <td>2020년 10월 8일</td>\n",
       "      <td>맵소사 여러분 이렇게 예쁜 케이크 보셨나요 자기들도 사느라 바쁠텐데 참 우리 딸이...</td>\n",
       "    </tr>\n",
       "    <tr>\n",
       "      <th>...</th>\n",
       "      <td>...</td>\n",
       "      <td>...</td>\n",
       "    </tr>\n",
       "    <tr>\n",
       "      <th>1795</th>\n",
       "      <td>2020년 10월 4일</td>\n",
       "      <td>광고 한 번 손대면 멈출 수 없는 마성ᄋ...</td>\n",
       "    </tr>\n",
       "    <tr>\n",
       "      <th>1796</th>\n",
       "      <td>2020년 10월 4일</td>\n",
       "      <td>행복한 주말  대구 대구맛집 대구카페 버닝레스토랑 스테이크크림딸리아뗄레 칠리치즈스파...</td>\n",
       "    </tr>\n",
       "    <tr>\n",
       "      <th>1797</th>\n",
       "      <td>2020년 10월 4일</td>\n",
       "      <td>오늘 마지막 날이다옹  금방 가버리네 스트레스  BHC 아랫반송점 뿌링클 치즈볼 일...</td>\n",
       "    </tr>\n",
       "    <tr>\n",
       "      <th>1798</th>\n",
       "      <td>2020년 10월 4일</td>\n",
       "      <td>노형동맛집박살내기 마지막 노형동을 떠나기전에 이사하는 그주 집코앞에 맛집들 한번씩 ...</td>\n",
       "    </tr>\n",
       "    <tr>\n",
       "      <th>1799</th>\n",
       "      <td>2020년 10월 4일</td>\n",
       "      <td>늦은 추석  다같이 모여서 추석음식 나눠먹기 사실 얻어먹기 잡채 모듬전 립 치즈볼...</td>\n",
       "    </tr>\n",
       "  </tbody>\n",
       "</table>\n",
       "<p>1800 rows × 2 columns</p>\n",
       "</div>"
      ],
      "text/plain": [
       "               date                                              title\n",
       "0     2020년 10월 12일  광고공구예고  안녕하세요 뚜뚜네간식 뚜맘입니다  오래 기다려주신 오크리스피 최저가공...\n",
       "1      2020년 9월 24일  오백예순두 번째 호기심까까  노브랜드버거 인절미치즈볼3알2900원   리뷰요청지에서...\n",
       "2      2020년 9월 29일   2020년이 된 지 엊그제 같은데 벌써 추석...\n",
       "3     2020년 10월 12일  오늘의 야식은 치킨 이에용  치킨매니아에서 메뉴를 야심차게 준비했어요  싹쓰리치킨세...\n",
       "4      2020년 10월 8일   맵소사 여러분 이렇게 예쁜 케이크 보셨나요 자기들도 사느라 바쁠텐데 참 우리 딸이...\n",
       "...             ...                                                ...\n",
       "1795   2020년 10월 4일  광고 한 번 손대면 멈출 수 없는 마성ᄋ...\n",
       "1796   2020년 10월 4일  행복한 주말  대구 대구맛집 대구카페 버닝레스토랑 스테이크크림딸리아뗄레 칠리치즈스파...\n",
       "1797   2020년 10월 4일  오늘 마지막 날이다옹  금방 가버리네 스트레스  BHC 아랫반송점 뿌링클 치즈볼 일...\n",
       "1798   2020년 10월 4일  노형동맛집박살내기 마지막 노형동을 떠나기전에 이사하는 그주 집코앞에 맛집들 한번씩 ...\n",
       "1799   2020년 10월 4일   늦은 추석  다같이 모여서 추석음식 나눠먹기 사실 얻어먹기 잡채 모듬전 립 치즈볼...\n",
       "\n",
       "[1800 rows x 2 columns]"
      ]
     },
     "execution_count": 76,
     "metadata": {},
     "output_type": "execute_result"
    }
   ],
   "source": [
    "df = pd.read_csv('../prj_sns_trend/crawling_instagram_test.csv')\n",
    "df.drop([df.columns[0]],axis=1, inplace=True)\n",
    "df"
   ]
  },
  {
   "cell_type": "code",
   "execution_count": 77,
   "metadata": {},
   "outputs": [
    {
     "name": "stdout",
     "output_type": "stream",
     "text": [
      "               date                                              title\n",
      "0     2020년 10월 12일  광고공구예고  안녕하세요 뚜뚜네간식 뚜맘입니다  오래 기다려주신 오크리스피 최저가공...\n",
      "1      2020년 9월 24일  오백예순두 번째 호기심까까  노브랜드버거 인절미치즈볼3알2900원   리뷰요청지에서...\n",
      "2      2020년 9월 29일   2020년이 된 지 엊그제 같은데 벌써 추석...\n",
      "3     2020년 10월 12일  오늘의 야식은 치킨 이에용  치킨매니아에서 메뉴를 야심차게 준비했어요  싹쓰리치킨세...\n",
      "4      2020년 10월 8일   맵소사 여러분 이렇게 예쁜 케이크 보셨나요 자기들도 사느라 바쁠텐데 참 우리 딸이...\n",
      "...             ...                                                ...\n",
      "1676   2020년 10월 4일  광고 한 번 손대면 멈출 수 없는 마성ᄋ...\n",
      "1677   2020년 10월 4일  행복한 주말  대구 대구맛집 대구카페 버닝레스토랑 스테이크크림딸리아뗄레 칠리치즈스파...\n",
      "1678   2020년 10월 4일  오늘 마지막 날이다옹  금방 가버리네 스트레스  BHC 아랫반송점 뿌링클 치즈볼 일...\n",
      "1679   2020년 10월 4일  노형동맛집박살내기 마지막 노형동을 떠나기전에 이사하는 그주 집코앞에 맛집들 한번씩 ...\n",
      "1680   2020년 10월 4일   늦은 추석  다같이 모여서 추석음식 나눠먹기 사실 얻어먹기 잡채 모듬전 립 치즈볼...\n",
      "\n",
      "[1681 rows x 2 columns]\n"
     ]
    }
   ],
   "source": [
    "#NaN값 제거\n",
    "df.isnull().sum()\n",
    "df = df.dropna()\n",
    "df.reset_index(drop =True, inplace = True)\n",
    "\n",
    "print(df)\n"
   ]
  },
  {
   "cell_type": "code",
   "execution_count": 78,
   "metadata": {},
   "outputs": [
    {
     "name": "stderr",
     "output_type": "stream",
     "text": [
      "c:\\users\\07\\anaconda3\\envs\\machinelearning\\lib\\site-packages\\IPython\\core\\interactiveshell.py:3417: SettingWithCopyWarning: \n",
      "A value is trying to be set on a copy of a slice from a DataFrame\n",
      "\n",
      "See the caveats in the documentation: https://pandas.pydata.org/pandas-docs/stable/user_guide/indexing.html#returning-a-view-versus-a-copy\n",
      "  exec(code_obj, self.user_global_ns, self.user_ns)\n"
     ]
    },
    {
     "data": {
      "text/plain": [
       "0       2020-10-12\n",
       "1        2020-9-24\n",
       "2        2020-9-29\n",
       "3       2020-10-12\n",
       "4        2020-10-8\n",
       "           ...    \n",
       "1676     2020-10-4\n",
       "1677     2020-10-4\n",
       "1678     2020-10-4\n",
       "1679     2020-10-4\n",
       "1680     2020-10-4\n",
       "Name: date, Length: 1681, dtype: object"
      ]
     },
     "execution_count": 78,
     "metadata": {},
     "output_type": "execute_result"
    }
   ],
   "source": [
    "for i in range(len(df)):\n",
    "    df['date'][i] = df['date'][i].replace('년 ', '-').replace('월 ', '-').replace('일', '')\n",
    "df['date']"
   ]
  },
  {
   "cell_type": "code",
   "execution_count": 79,
   "metadata": {},
   "outputs": [
    {
     "name": "stderr",
     "output_type": "stream",
     "text": [
      "c:\\users\\07\\anaconda3\\envs\\machinelearning\\lib\\site-packages\\ipykernel_launcher.py:2: SettingWithCopyWarning: \n",
      "A value is trying to be set on a copy of a slice from a DataFrame.\n",
      "Try using .loc[row_indexer,col_indexer] = value instead\n",
      "\n",
      "See the caveats in the documentation: https://pandas.pydata.org/pandas-docs/stable/user_guide/indexing.html#returning-a-view-versus-a-copy\n",
      "  \n"
     ]
    }
   ],
   "source": [
    "#datetime으로 변경\n",
    "df['date'] = pd.to_datetime(df['date'])"
   ]
  },
  {
   "cell_type": "code",
   "execution_count": 80,
   "metadata": {},
   "outputs": [
    {
     "name": "stderr",
     "output_type": "stream",
     "text": [
      "c:\\users\\07\\anaconda3\\envs\\machinelearning\\lib\\site-packages\\ipykernel_launcher.py:3: SettingWithCopyWarning: \n",
      "A value is trying to be set on a copy of a slice from a DataFrame\n",
      "\n",
      "See the caveats in the documentation: https://pandas.pydata.org/pandas-docs/stable/user_guide/indexing.html#returning-a-view-versus-a-copy\n",
      "  This is separate from the ipykernel package so we can avoid doing imports until\n",
      "c:\\users\\07\\anaconda3\\envs\\machinelearning\\lib\\site-packages\\pandas\\core\\indexing.py:670: SettingWithCopyWarning: \n",
      "A value is trying to be set on a copy of a slice from a DataFrame\n",
      "\n",
      "See the caveats in the documentation: https://pandas.pydata.org/pandas-docs/stable/user_guide/indexing.html#returning-a-view-versus-a-copy\n",
      "  iloc._setitem_with_indexer(indexer, value)\n",
      "c:\\users\\07\\anaconda3\\envs\\machinelearning\\lib\\site-packages\\pandas\\core\\series.py:1061: SettingWithCopyWarning: \n",
      "A value is trying to be set on a copy of a slice from a DataFrame\n",
      "\n",
      "See the caveats in the documentation: https://pandas.pydata.org/pandas-docs/stable/user_guide/indexing.html#returning-a-view-versus-a-copy\n",
      "  self.loc[key] = value\n"
     ]
    },
    {
     "data": {
      "text/plain": [
       "0       2020-10-12\n",
       "1       2020-09-24\n",
       "2       2020-09-29\n",
       "3       2020-10-12\n",
       "4       2020-10-08\n",
       "           ...    \n",
       "1676    2020-10-04\n",
       "1677    2020-10-04\n",
       "1678    2020-10-04\n",
       "1679    2020-10-04\n",
       "1680    2020-10-04\n",
       "Name: date, Length: 1681, dtype: object"
      ]
     },
     "execution_count": 80,
     "metadata": {},
     "output_type": "execute_result"
    }
   ],
   "source": [
    "#날짜 포맷 변경\n",
    "for i in range(len(df)):\n",
    "    df['date'][i] = df['date'][i].strftime('%Y-%m-%d')\n",
    "df['date']"
   ]
  },
  {
   "cell_type": "code",
   "execution_count": 81,
   "metadata": {},
   "outputs": [
    {
     "data": {
      "text/html": [
       "<div>\n",
       "<style scoped>\n",
       "    .dataframe tbody tr th:only-of-type {\n",
       "        vertical-align: middle;\n",
       "    }\n",
       "\n",
       "    .dataframe tbody tr th {\n",
       "        vertical-align: top;\n",
       "    }\n",
       "\n",
       "    .dataframe thead th {\n",
       "        text-align: right;\n",
       "    }\n",
       "</style>\n",
       "<table border=\"1\" class=\"dataframe\">\n",
       "  <thead>\n",
       "    <tr style=\"text-align: right;\">\n",
       "      <th></th>\n",
       "      <th>date</th>\n",
       "      <th>title</th>\n",
       "    </tr>\n",
       "  </thead>\n",
       "  <tbody>\n",
       "    <tr>\n",
       "      <th>0</th>\n",
       "      <td>2020-10-12</td>\n",
       "      <td>광고공구예고  안녕하세요 뚜뚜네간식 뚜맘입니다  오래 기다려주신 오크리스피 최저가공...</td>\n",
       "    </tr>\n",
       "    <tr>\n",
       "      <th>1</th>\n",
       "      <td>2020-09-24</td>\n",
       "      <td>오백예순두 번째 호기심까까  노브랜드버거 인절미치즈볼3알2900원   리뷰요청지에서...</td>\n",
       "    </tr>\n",
       "    <tr>\n",
       "      <th>2</th>\n",
       "      <td>2020-09-29</td>\n",
       "      <td>2020년이 된 지 엊그제 같은데 벌써 추석...</td>\n",
       "    </tr>\n",
       "    <tr>\n",
       "      <th>3</th>\n",
       "      <td>2020-10-12</td>\n",
       "      <td>오늘의 야식은 치킨 이에용  치킨매니아에서 메뉴를 야심차게 준비했어요  싹쓰리치킨세...</td>\n",
       "    </tr>\n",
       "    <tr>\n",
       "      <th>4</th>\n",
       "      <td>2020-10-08</td>\n",
       "      <td>맵소사 여러분 이렇게 예쁜 케이크 보셨나요 자기들도 사느라 바쁠텐데 참 우리 딸이...</td>\n",
       "    </tr>\n",
       "    <tr>\n",
       "      <th>...</th>\n",
       "      <td>...</td>\n",
       "      <td>...</td>\n",
       "    </tr>\n",
       "    <tr>\n",
       "      <th>1676</th>\n",
       "      <td>2020-10-04</td>\n",
       "      <td>광고 한 번 손대면 멈출 수 없는 마성ᄋ...</td>\n",
       "    </tr>\n",
       "    <tr>\n",
       "      <th>1677</th>\n",
       "      <td>2020-10-04</td>\n",
       "      <td>행복한 주말  대구 대구맛집 대구카페 버닝레스토랑 스테이크크림딸리아뗄레 칠리치즈스파...</td>\n",
       "    </tr>\n",
       "    <tr>\n",
       "      <th>1678</th>\n",
       "      <td>2020-10-04</td>\n",
       "      <td>오늘 마지막 날이다옹  금방 가버리네 스트레스  BHC 아랫반송점 뿌링클 치즈볼 일...</td>\n",
       "    </tr>\n",
       "    <tr>\n",
       "      <th>1679</th>\n",
       "      <td>2020-10-04</td>\n",
       "      <td>노형동맛집박살내기 마지막 노형동을 떠나기전에 이사하는 그주 집코앞에 맛집들 한번씩 ...</td>\n",
       "    </tr>\n",
       "    <tr>\n",
       "      <th>1680</th>\n",
       "      <td>2020-10-04</td>\n",
       "      <td>늦은 추석  다같이 모여서 추석음식 나눠먹기 사실 얻어먹기 잡채 모듬전 립 치즈볼...</td>\n",
       "    </tr>\n",
       "  </tbody>\n",
       "</table>\n",
       "<p>1681 rows × 2 columns</p>\n",
       "</div>"
      ],
      "text/plain": [
       "            date                                              title\n",
       "0     2020-10-12  광고공구예고  안녕하세요 뚜뚜네간식 뚜맘입니다  오래 기다려주신 오크리스피 최저가공...\n",
       "1     2020-09-24  오백예순두 번째 호기심까까  노브랜드버거 인절미치즈볼3알2900원   리뷰요청지에서...\n",
       "2     2020-09-29   2020년이 된 지 엊그제 같은데 벌써 추석...\n",
       "3     2020-10-12  오늘의 야식은 치킨 이에용  치킨매니아에서 메뉴를 야심차게 준비했어요  싹쓰리치킨세...\n",
       "4     2020-10-08   맵소사 여러분 이렇게 예쁜 케이크 보셨나요 자기들도 사느라 바쁠텐데 참 우리 딸이...\n",
       "...          ...                                                ...\n",
       "1676  2020-10-04  광고 한 번 손대면 멈출 수 없는 마성ᄋ...\n",
       "1677  2020-10-04  행복한 주말  대구 대구맛집 대구카페 버닝레스토랑 스테이크크림딸리아뗄레 칠리치즈스파...\n",
       "1678  2020-10-04  오늘 마지막 날이다옹  금방 가버리네 스트레스  BHC 아랫반송점 뿌링클 치즈볼 일...\n",
       "1679  2020-10-04  노형동맛집박살내기 마지막 노형동을 떠나기전에 이사하는 그주 집코앞에 맛집들 한번씩 ...\n",
       "1680  2020-10-04   늦은 추석  다같이 모여서 추석음식 나눠먹기 사실 얻어먹기 잡채 모듬전 립 치즈볼...\n",
       "\n",
       "[1681 rows x 2 columns]"
      ]
     },
     "execution_count": 81,
     "metadata": {},
     "output_type": "execute_result"
    }
   ],
   "source": [
    "#올해가 아닌 데이터 제거\n",
    "\n",
    "df_from2020 = df['date'] > '2020-01-01'\n",
    "print(df_from2020)\n",
    "df = df[df_from2020]\n"
   ]
  },
  {
   "cell_type": "code",
   "execution_count": null,
   "metadata": {},
   "outputs": [],
   "source": [
    "df.to_csv('../prj_sns_trend_private/crawling_instagram_test.csv')"
   ]
  }
 ],
 "metadata": {
  "kernelspec": {
   "display_name": "Python 3",
   "language": "python",
   "name": "python3"
  },
  "language_info": {
   "codemirror_mode": {
    "name": "ipython",
    "version": 3
   },
   "file_extension": ".py",
   "mimetype": "text/x-python",
   "name": "python",
   "nbconvert_exporter": "python",
   "pygments_lexer": "ipython3",
   "version": "3.7.7"
  }
 },
 "nbformat": 4,
 "nbformat_minor": 4
}
