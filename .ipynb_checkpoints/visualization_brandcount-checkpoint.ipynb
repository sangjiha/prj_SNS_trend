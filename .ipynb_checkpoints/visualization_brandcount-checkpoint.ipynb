{
 "cells": [
  {
   "cell_type": "code",
   "execution_count": 1,
   "metadata": {},
   "outputs": [],
   "source": [
    "import pandas as pd\n",
    "import numpy as np\n",
    "import matplotlib.pyplot as plt\n",
    "import re\n",
    "from konlpy.tag import Okt \n",
    "from ckonlpy.tag import Twitter #prompt에서 pip install customized_konlpy 로 패키지 설치\n",
    "import matplotlib.pyplot as plt\n",
    "from matplotlib import font_manager, rc\n",
    "import seaborn as sns"
   ]
  },
  {
   "cell_type": "code",
   "execution_count": 2,
   "metadata": {},
   "outputs": [
    {
     "ename": "FileNotFoundError",
     "evalue": "[Errno 2] No such file or directory: './malgun.ttf'",
     "output_type": "error",
     "traceback": [
      "\u001b[1;31m---------------------------------------------------------------------------\u001b[0m",
      "\u001b[1;31mFileNotFoundError\u001b[0m                         Traceback (most recent call last)",
      "\u001b[1;32m<ipython-input-2-59c82630663b>\u001b[0m in \u001b[0;36m<module>\u001b[1;34m\u001b[0m\n\u001b[0;32m      1\u001b[0m \u001b[0mfont_path\u001b[0m \u001b[1;33m=\u001b[0m \u001b[1;34m'./malgun.ttf'\u001b[0m \u001b[1;31m#내가 쓰고 싶은 폰트 파일 경로로 쓰면 됨. 현재 같은 폴더 안에 있음.\u001b[0m\u001b[1;33m\u001b[0m\u001b[1;33m\u001b[0m\u001b[0m\n\u001b[1;32m----> 2\u001b[1;33m \u001b[0mfont_name\u001b[0m \u001b[1;33m=\u001b[0m \u001b[0mfont_manager\u001b[0m\u001b[1;33m.\u001b[0m\u001b[0mFontProperties\u001b[0m\u001b[1;33m(\u001b[0m\u001b[0mfname\u001b[0m\u001b[1;33m=\u001b[0m\u001b[0mfont_path\u001b[0m\u001b[1;33m)\u001b[0m\u001b[1;33m.\u001b[0m\u001b[0mget_name\u001b[0m\u001b[1;33m(\u001b[0m\u001b[1;33m)\u001b[0m \u001b[1;31m#get_name:폰트의 이름을 알려줌.\u001b[0m\u001b[1;33m\u001b[0m\u001b[1;33m\u001b[0m\u001b[0m\n\u001b[0m\u001b[0;32m      3\u001b[0m \u001b[0mrc\u001b[0m\u001b[1;33m(\u001b[0m\u001b[1;34m'font'\u001b[0m\u001b[1;33m,\u001b[0m \u001b[0mfamily\u001b[0m\u001b[1;33m=\u001b[0m\u001b[0mfont_name\u001b[0m\u001b[1;33m)\u001b[0m\u001b[1;33m\u001b[0m\u001b[1;33m\u001b[0m\u001b[0m\n",
      "\u001b[1;32mc:\\users\\024\\anaconda3\\envs\\machinelearning\\lib\\site-packages\\matplotlib\\font_manager.py\u001b[0m in \u001b[0;36mget_name\u001b[1;34m(self)\u001b[0m\n\u001b[0;32m    687\u001b[0m         \u001b[0mReturn\u001b[0m \u001b[0mthe\u001b[0m \u001b[0mname\u001b[0m \u001b[0mof\u001b[0m \u001b[0mthe\u001b[0m \u001b[0mfont\u001b[0m \u001b[0mthat\u001b[0m \u001b[0mbest\u001b[0m \u001b[0mmatches\u001b[0m \u001b[0mthe\u001b[0m \u001b[0mfont\u001b[0m \u001b[0mproperties\u001b[0m\u001b[1;33m.\u001b[0m\u001b[1;33m\u001b[0m\u001b[1;33m\u001b[0m\u001b[0m\n\u001b[0;32m    688\u001b[0m         \"\"\"\n\u001b[1;32m--> 689\u001b[1;33m         \u001b[1;32mreturn\u001b[0m \u001b[0mget_font\u001b[0m\u001b[1;33m(\u001b[0m\u001b[0mfindfont\u001b[0m\u001b[1;33m(\u001b[0m\u001b[0mself\u001b[0m\u001b[1;33m)\u001b[0m\u001b[1;33m)\u001b[0m\u001b[1;33m.\u001b[0m\u001b[0mfamily_name\u001b[0m\u001b[1;33m\u001b[0m\u001b[1;33m\u001b[0m\u001b[0m\n\u001b[0m\u001b[0;32m    690\u001b[0m \u001b[1;33m\u001b[0m\u001b[0m\n\u001b[0;32m    691\u001b[0m     \u001b[1;32mdef\u001b[0m \u001b[0mget_style\u001b[0m\u001b[1;33m(\u001b[0m\u001b[0mself\u001b[0m\u001b[1;33m)\u001b[0m\u001b[1;33m:\u001b[0m\u001b[1;33m\u001b[0m\u001b[1;33m\u001b[0m\u001b[0m\n",
      "\u001b[1;32mc:\\users\\024\\anaconda3\\envs\\machinelearning\\lib\\site-packages\\matplotlib\\font_manager.py\u001b[0m in \u001b[0;36mget_font\u001b[1;34m(filename, hinting_factor)\u001b[0m\n\u001b[0;32m   1327\u001b[0m         \u001b[0mhinting_factor\u001b[0m \u001b[1;33m=\u001b[0m \u001b[0mrcParams\u001b[0m\u001b[1;33m[\u001b[0m\u001b[1;34m'text.hinting_factor'\u001b[0m\u001b[1;33m]\u001b[0m\u001b[1;33m\u001b[0m\u001b[1;33m\u001b[0m\u001b[0m\n\u001b[0;32m   1328\u001b[0m     return _get_font(os.fspath(filename), hinting_factor,\n\u001b[1;32m-> 1329\u001b[1;33m                      _kerning_factor=rcParams['text.kerning_factor'])\n\u001b[0m\u001b[0;32m   1330\u001b[0m \u001b[1;33m\u001b[0m\u001b[0m\n\u001b[0;32m   1331\u001b[0m \u001b[1;33m\u001b[0m\u001b[0m\n",
      "\u001b[1;31mFileNotFoundError\u001b[0m: [Errno 2] No such file or directory: './malgun.ttf'"
     ]
    }
   ],
   "source": [
    "font_path = './malgun.ttf' #내가 쓰고 싶은 폰트 파일 경로로 쓰면 됨. 현재 같은 폴더 안에 있음.\n",
    "font_name = font_manager.FontProperties(fname=font_path).get_name() #get_name:폰트의 이름을 알려줌.\n",
    "rc('font', family=font_name)"
   ]
  },
  {
   "cell_type": "code",
   "execution_count": 3,
   "metadata": {},
   "outputs": [
    {
     "name": "stdout",
     "output_type": "stream",
     "text": [
      "<class 'pandas.core.frame.DataFrame'>\n",
      "RangeIndex: 18779 entries, 0 to 18778\n",
      "Data columns (total 2 columns):\n",
      " #   Column  Non-Null Count  Dtype \n",
      "---  ------  --------------  ----- \n",
      " 0   title   18779 non-null  object\n",
      " 1   date    18779 non-null  object\n",
      "dtypes: object(2)\n",
      "memory usage: 293.5+ KB\n",
      "None\n"
     ]
    }
   ],
   "source": [
    "#크롤링한 데이터 파일 불러오기\n",
    "#중복제거 및 널값제거 \n",
    "df = pd.read_csv('./crawling/crawling_from20200101_to20201015.csv', index_col=0)\n",
    "df.drop_duplicates(inplace=True)\n",
    "df.dropna(subset=['title'],how='any',inplace=True)\n",
    "df.reset_index(drop=True, inplace=True)\n",
    "print(df.info()) "
   ]
  },
  {
   "cell_type": "code",
   "execution_count": 4,
   "metadata": {},
   "outputs": [
    {
     "name": "stderr",
     "output_type": "stream",
     "text": [
      "C:\\ProgramData\\Anaconda3\\envs\\MachineLearning\\lib\\site-packages\\konlpy\\tag\\_okt.py:16: UserWarning: \"Twitter\" has changed to \"Okt\" since KoNLPy v0.4.5.\n",
      "  warn('\"Twitter\" has changed to \"Okt\" since KoNLPy v0.4.5.')\n"
     ]
    }
   ],
   "source": [
    "#한국어에 사용할 토크나이저\n",
    "twitter = Twitter()"
   ]
  },
  {
   "cell_type": "code",
   "execution_count": 5,
   "metadata": {},
   "outputs": [],
   "source": [
    "#토큰화에 제외할 단어 토크나이저 딕셔너리에 추가 \n",
    "twitter.add_dictionary(['뿌링클','맛스타그램', '맛스타', '푸라닭', '스타그램', '인스타', '또래오래', '배달의민족','배민', 'instagram', '뿌링클', '고추바사삭', '뿌링뿌링','뿌링뿌링소스' ,'뿌링소스', '또래오래', '인스타 그램','인스타그램', '황금올리브','네고왕','맘스터치','에어프라이어','블랙치즈볼','블랙알리오','청년치킨','청년피자'], 'Noun',force=True)\n",
    "\n",
    "#for word in imp_wrd['important_words']:\n",
    "#    twitter.add_dictionary('{}', 'Noun').format(word)\n",
    "    \n",
    "\n",
    "\n"
   ]
  },
  {
   "cell_type": "code",
   "execution_count": 6,
   "metadata": {},
   "outputs": [
    {
     "data": {
      "text/plain": [
       "['일주일', '만에', '다시', '찾은', '뿌링클', '맛스타그램', '네고왕']"
      ]
     },
     "execution_count": 6,
     "metadata": {},
     "output_type": "execute_result"
    }
   ],
   "source": [
    "#딕셔너리 추가된 것 테스트 \n",
    "twitter.morphs('일주일만에 다시 찾은 뿌링클 맛스타그램 네고왕')"
   ]
  },
  {
   "cell_type": "code",
   "execution_count": 7,
   "metadata": {},
   "outputs": [
    {
     "name": "stdout",
     "output_type": "stream",
     "text": [
      "  stopword\n",
      "0        아\n",
      "1        휴\n",
      "2      아이구\n",
      "3      아이쿠\n",
      "4      아이고\n",
      "    stopword\n",
      "673       어도\n",
      "674       다가\n",
      "675       처음\n",
      "676       사진\n",
      "677       환영\n"
     ]
    }
   ],
   "source": [
    "#stopwords 현 디렉토리에 추가 해야함 \n",
    "stopwords = pd.read_csv('./stopwords_trend.csv',  encoding='CP949' ,index_col = 0) \n",
    "print(stopwords.head())\n",
    "print(stopwords.tail())\n"
   ]
  },
  {
   "cell_type": "code",
   "execution_count": 8,
   "metadata": {},
   "outputs": [
    {
     "name": "stdout",
     "output_type": "stream",
     "text": [
      "<class 'pandas.core.frame.DataFrame'>\n",
      "RangeIndex: 1835 entries, 0 to 1834\n",
      "Data columns (total 16 columns):\n",
      " #   Column  Non-Null Count  Dtype \n",
      "---  ------  --------------  ----- \n",
      " 0   한식      1835 non-null   object\n",
      " 1   분식      455 non-null    object\n",
      " 2   중식      111 non-null    object\n",
      " 3   일식      201 non-null    object\n",
      " 4   양식      181 non-null    object\n",
      " 5   양식(외)   109 non-null    object\n",
      " 6   패스트푸드   102 non-null    object\n",
      " 7   치킨      527 non-null    object\n",
      " 8   피자      186 non-null    object\n",
      " 9   제과제빵    172 non-null    object\n",
      " 10  아이스크림   40 non-null     object\n",
      " 11  카페      456 non-null    object\n",
      " 12  커피외음료   84 non-null     object\n",
      " 13  술집      315 non-null    object\n",
      " 14  기타외식    1001 non-null   object\n",
      " 15  냉동식품    27 non-null     object\n",
      "dtypes: object(16)\n",
      "memory usage: 229.5+ KB\n",
      "None\n"
     ]
    },
    {
     "data": {
      "text/plain": [
       "Index(['한식', '분식', '중식', '일식', '양식', '양식(외)', '패스트푸드', '치킨', '피자', '제과제빵',\n",
       "       '아이스크림', '카페', '커피외음료', '술집', '기타외식', '냉동식품'],\n",
       "      dtype='object')"
      ]
     },
     "execution_count": 8,
     "metadata": {},
     "output_type": "execute_result"
    }
   ],
   "source": [
    "#프랜차이즈 리스트 \n",
    "stores = pd.read_excel('./프렌차이즈.xlsx')\n",
    "stores\n",
    "stores.reset_index(drop=True, inplace=True)\n",
    "print(stores.info()) \n",
    "stores.columns\n",
    "#stores = pd.read_csv('./stores.csv', \n",
    "#                    encoding='euc-kr', index_col=0)"
   ]
  },
  {
   "cell_type": "code",
   "execution_count": 9,
   "metadata": {},
   "outputs": [],
   "source": [
    "#토큰화 및 텍스트 데이터 전처리 \n",
    "cleaned_sentences = []\n",
    "for sentence in df['title']:\n",
    "    E_sentence = re.sub('[^a-zA-Z]',' ', sentence)  #영어텍스트만 뽑아오기 \n",
    "    E_token = E_sentence.split(' ')   #영어텍스트를 띄어쓰기 기준으로 토큰화 \n",
    "    K_sentence = re.sub('[^가-힣]',' ', sentence)  #한글텍스트만 뽑아오기\n",
    "    K_token = twitter.nouns(K_sentence) #한글텍스트를 토큰화 및 명사만 남기기 \n",
    "    K_token = pd.DataFrame(K_token, columns=['word'])   #토큰화된 한글텍스트를 다시 데이터프레임으로 만들기\n",
    "    token = E_token + list(K_token['word'])    #토큰화된 한글, 영어텍스트를 합치기 \n",
    "    cleaned_token = pd.DataFrame(token, columns=['word'])   #합친 것을 다시 데이터프레임으로 만들기 \n",
    "    words = []\n",
    "    for word in cleaned_token['word']:  #불용어 제거 \n",
    "        if len(word)>1: \n",
    "            if word not in (list(stopwords['stopword'])):\n",
    "                words.append(word)   \n",
    "    cleaned_sentence = ' '.join(words)\n",
    "    cleaned_sentences.append(cleaned_sentence)\n",
    "\n",
    "df['cleaned_content'] = cleaned_sentences\n"
   ]
  },
  {
   "cell_type": "code",
   "execution_count": 10,
   "metadata": {},
   "outputs": [
    {
     "name": "stdout",
     "output_type": "stream",
     "text": [
      "<class 'pandas.core.frame.DataFrame'>\n",
      "RangeIndex: 18779 entries, 0 to 18778\n",
      "Data columns (total 3 columns):\n",
      " #   Column           Non-Null Count  Dtype \n",
      "---  ------           --------------  ----- \n",
      " 0   title            18779 non-null  object\n",
      " 1   date             18779 non-null  object\n",
      " 2   cleaned_content  18779 non-null  object\n",
      "dtypes: object(3)\n",
      "memory usage: 440.3+ KB\n",
      "None\n",
      "                                                title        date  \\\n",
      "0   애주가TV참PDBHC 치즈볼 긴장해야 할거같습니다전국의 치즈볼이 씨가 마르겠네요\\n...  2020-04-02   \n",
      "1   애주가TV참PDBHC 치즈볼 긴장해야 할거같습니다여러분이 드시는 치킨 프랜차이즈 치...  2020-04-02   \n",
      "2   애주가TV참PDBHC 치즈볼 긴장해야 할거같습니다이런 컨텐츠 참 좋은거 같아요  우...  2020-04-02   \n",
      "3   애주가TV참PDBHC 치즈볼 긴장해야 할거같습니다503 8700 더 바삭한\\n555...  2020-04-02   \n",
      "4                 애주가TV참PDBHC 치즈볼 긴장해야 할거같습니다811 최종평가  2020-04-02   \n",
      "5   애주가TV참PDBHC 치즈볼 긴장해야 할거같습니다훌륭한 중소기업많은데 대기업에 많이...  2020-04-02   \n",
      "6   애주가TV참PDBHC 치즈볼 긴장해야 할거같습니다810 비교 결과인데 그냥 내가 볼...  2020-04-02   \n",
      "7   애주가TV참PDBHC 치즈볼 긴장해야 할거같습니다우와 치즈볼 짱 좋아하는데 상세한 ...  2020-04-02   \n",
      "8     애주가TV참PDBHC 치즈볼 긴장해야 할거같습니다내가 후니보다 잘생김 인정이면 좋아요  2020-04-02   \n",
      "9   애주가TV참PDBHC 치즈볼 긴장해야 할거같습니다bhc 치즈볼 비싸서 못사먹었는데 ...  2020-04-02   \n",
      "10  애주가TV참PDBHC 치즈볼 긴장해야 할거같습니다전 회사 제품이 나와 기쁩니다\\n다...  2020-04-02   \n",
      "11  애주가TV참PDBHC 치즈볼 긴장해야 할거같습니다대기업 넘 비싸요 중소기업이 수면위...  2020-04-02   \n",
      "12         애주가TV참PDBHC 치즈볼 긴장해야 할거같습니다자 이제 치즈스틱 차례입니다  2020-04-02   \n",
      "13  애주가TV참PDBHC 치즈볼 긴장해야 할거같습니다튀김냄비에 대해서 쪼금 이야기하자면...  2020-04-02   \n",
      "14         애주가TV참PDBHC 치즈볼 긴장해야 할거같습니다실력있는 중소기업들\\n흥해라  2020-04-02   \n",
      "15      애주가TV참PDBHC 치즈볼 긴장해야 할거같습니다뭔 치즈볼 매드무비를 만들어놨어   2020-04-02   \n",
      "16                   애주가TV참PDBHC 치즈볼 긴장해야 할거같습니다다맛잇겟다  2020-04-02   \n",
      "17  애주가TV참PDBHC 치즈볼 긴장해야 할거같습니다영상 처음 보는데 참참참 하길래 게...  2020-04-02   \n",
      "18  핏블리 FITVELY코로나19로 헬스장 문닫고 타락한 헬창 살면서 처음먹는 치즈볼눈...  2020-09-14   \n",
      "19  핏블리 FITVELY코로나19로 헬스장 문닫고 타락한 헬창 살면서 처음먹는 치즈볼눈...  2020-09-14   \n",
      "20  핏블리 FITVELY코로나19로 헬스장 문닫고 타락한 헬창 살면서 처음먹는 치즈볼눈...  2020-09-14   \n",
      "21  핏블리 FITVELY코로나19로 헬스장 문닫고 타락한 헬창 살면서 처음먹는 치즈볼눈...  2020-09-14   \n",
      "22  핏블리 FITVELY코로나19로 헬스장 문닫고 타락한 헬창 살면서 처음먹는 치즈볼눈...  2020-09-14   \n",
      "23  핏블리 FITVELY코로나19로 헬스장 문닫고 타락한 헬창 살면서 처음먹는 치즈볼눈...  2020-09-14   \n",
      "24  핏블리 FITVELY코로나19로 헬스장 문닫고 타락한 헬창 살면서 처음먹는 치즈볼눈...  2020-09-14   \n",
      "25  핏블리 FITVELY코로나19로 헬스장 문닫고 타락한 헬창 살면서 처음먹는 치즈볼눈...  2020-09-14   \n",
      "26  핏블리 FITVELY코로나19로 헬스장 문닫고 타락한 헬창 살면서 처음먹는 치즈볼눈...  2020-09-14   \n",
      "27  핏블리 FITVELY코로나19로 헬스장 문닫고 타락한 헬창 살면서 처음먹는 치즈볼눈...  2020-09-14   \n",
      "28  핏블리 FITVELY코로나19로 헬스장 문닫고 타락한 헬창 살면서 처음먹는 치즈볼눈...  2020-09-14   \n",
      "29  핏블리 FITVELY코로나19로 헬스장 문닫고 타락한 헬창 살면서 처음먹는 치즈볼눈...  2020-09-14   \n",
      "\n",
      "                                      cleaned_content  \n",
      "0                  TV PDBHC 주가 치즈볼 긴장 전국 치즈볼 마르 영상 대박  \n",
      "1   TV PDBHC 주가 치즈볼 긴장 치킨 프랜차이즈 치즈볼 자체 생산 외주 통해 제품...  \n",
      "2     TV PDBHC 주가 치즈볼 긴장 컨텐츠 우리나라 대기업 여러가지 집중 중소기업 지면  \n",
      "3                 TV PDBHC 주가 치즈볼 긴장 바삭 푸드 썬리취 마니커 크림  \n",
      "4                            TV PDBHC 주가 치즈볼 긴장 최종 평가  \n",
      "5                      TV PDBHC 주가 치즈볼 긴장 중소기업 대기업 안타  \n",
      "6                      TV PDBHC 주가 치즈볼 긴장 비교 결과 려고 댓글  \n",
      "7   TV PDBHC bhc 주가 치즈볼 긴장 다우 치즈볼 상세 감사 피디 댓글 감상 하...  \n",
      "8                           TV PDBHC 주가 치즈볼 긴장 후니 인정이  \n",
      "9                          TV PDBHC bhc 주가 치즈볼 긴장 치즈볼  \n",
      "10  TV PDBHC 주가 치즈볼 긴장 회사 제품 마니커 생닭 마니커 에프 앤지 가공 제...  \n",
      "11   TV PDBHC 주가 치즈볼 긴장 다대기 중소기업 수면 위로 계기 피디 형님 사랑 덜렁  \n",
      "12                   TV PDBHC 주가 치즈볼 긴장 다자 이제 치즈스틱 차례  \n",
      "13  TV PDBHC 주가 치즈볼 긴장 튀김 냄비 쪼금 이야기 하자 저런 냄비 튀김 다혈...  \n",
      "14                     TV PDBHC 주가 치즈볼 긴장 다실 력있는 중소기업  \n",
      "15                        TV PDBHC 주가 치즈볼 긴장 치즈볼 매드무비  \n",
      "16                              TV PDBHC 주가 치즈볼 긴장 다다  \n",
      "17                        TV PDBHC 주가 치즈볼 긴장 영상 게임 고개  \n",
      "18                FITVELY 핏블리 코로나 헬스장 타락 헬창 치즈볼 눈물 먹방  \n",
      "19  FITVELY HOT 핏블리 코로나 헬스장 타락 헬창 치즈볼 눈물 먹방 만점 자가 ...  \n",
      "20  FITVELY 핏블리 코로나 헬스장 타락 헬창 치즈볼 눈물 먹방 이분 컨셉 헬창 도...  \n",
      "21  FITVELY 핏블리 코로나 헬스장 타락 헬창 치즈볼 눈물 먹방 피자 어제 근육몬 ...  \n",
      "22  FITVELY 핏블리 코로나 헬스장 타락 헬창 치즈볼 눈물 먹방 선생님 헬스장 코로...  \n",
      "23  FITVELY 핏블리 코로나 헬스장 타락 헬창 치즈볼 눈물 먹방 다른사람 이면 광고...  \n",
      "24  FITVELY 핏블리 코로나 헬스장 타락 헬창 치즈볼 눈물 먹방 헬스 트레이너 치킨...  \n",
      "25  FITVELY 핏블리 코로나 헬스장 타락 헬창 치즈볼 눈물 먹방 죄송 이름 라서 뿌...  \n",
      "26      FITVELY 핏블리 코로나 헬스장 타락 헬창 치즈볼 눈물 먹방 시청자 소스 악질  \n",
      "27          FITVELY 핏블리 코로나 헬스장 타락 헬창 치즈볼 눈물 먹방 침투 웃기  \n",
      "28   FITVELY 핏블리 코로나 헬스장 타락 헬창 치즈볼 눈물 먹방 츄르 길냥이 졸라 적절  \n",
      "29  FITVELY BJ 핏블리 코로나 헬스장 타락 헬창 치즈볼 눈물 먹방 치즈볼 던데 ...  \n"
     ]
    }
   ],
   "source": [
    "print(df.info())\n",
    "print(df.head(30))\n"
   ]
  },
  {
   "cell_type": "code",
   "execution_count": 18,
   "metadata": {},
   "outputs": [
    {
     "name": "stdout",
     "output_type": "stream",
     "text": [
      "   brandname                                              brand\n",
      "0        BHC                   BHC bhc 비에치씨 bhc치킨 Bhc치킨 비에이치씨치킨\n",
      "1        BBQ            BBQ bbq 비비큐 bbq치킨 BBQ치킨 비비큐치킨 Bbq Bbq치킨\n",
      "2       네네치킨                                        네네치킨 네네 네네볼\n",
      "3       맘스터치                       맘스터치 맘터 mom'stouch momstouch\n",
      "4        푸라닭                    푸라닭 puradak Puradak PURADAK 푸라닥\n",
      "5       또래오래                                        또래오래 또래오래치킨\n",
      "6      신전떡볶이                                  신전떡볶이 신전 신전치즈볼 신떡\n",
      "7        처갓집                                  처갓집 처갓집양념치킨 처갓집치킨\n",
      "8        풀무원                                                풀무원\n",
      "9        애슐리                                                애슐리\n",
      "10       버거킹  버거킹 burgerking Burgerking BURGERKING BurgerKin...\n",
      "11        CJ                                          CJ 씨제이 고메\n"
     ]
    }
   ],
   "source": [
    "#브랜드별 검색어 리스트 불러오기\n",
    "brand = pd.read_csv('./crawling/brand.csv', index_col=0)\n",
    "print(brand)"
   ]
  },
  {
   "cell_type": "code",
   "execution_count": 19,
   "metadata": {},
   "outputs": [
    {
     "name": "stdout",
     "output_type": "stream",
     "text": [
      "BHC : 4401\n",
      "BBQ : 3481\n",
      "네네치킨 : 241\n",
      "맘스터치 : 731\n",
      "푸라닭 : 800\n",
      "또래오래 : 367\n",
      "신전떡볶이 : 253\n",
      "처갓집 : 208\n",
      "풀무원 : 167\n",
      "애슐리 : 157\n",
      "버거킹 : 87\n",
      "CJ : 36\n"
     ]
    }
   ],
   "source": [
    "#프랜차이즈 리스트의 치킨 프랜차이즈들이 언급된 문장 갯수 구하기\n",
    "brandcount=[]\n",
    "for i in range(len(brand)):\n",
    "    store_cleaned_content = []\n",
    "    for sentence in df['cleaned_content']:\n",
    "        token = sentence.split(' ')\n",
    "        tokens = pd.DataFrame(token, columns=['token'])\n",
    "        for word in (list(tokens['token'])):\n",
    "            if word in brand['brand'][i].split(' '):\n",
    "                store_cleaned_content.append(sentence)\n",
    "    new_df = pd.DataFrame({'store_cleaned_content': store_cleaned_content})\n",
    "    new_df.to_csv('./crawling/brand_{}.csv'.format(i))\n",
    "    b_count = new_df['store_cleaned_content'].count()\n",
    "    print(brand['brandname'][i], ':', b_count)\n",
    "    brandcount.append(b_count)"
   ]
  },
  {
   "cell_type": "code",
   "execution_count": 20,
   "metadata": {},
   "outputs": [
    {
     "name": "stdout",
     "output_type": "stream",
     "text": [
      "<class 'pandas.core.frame.DataFrame'>\n",
      "Int64Index: 12 entries, 0 to 11\n",
      "Data columns (total 2 columns):\n",
      " #   Column     Non-Null Count  Dtype \n",
      "---  ------     --------------  ----- \n",
      " 0   brandname  12 non-null     object\n",
      " 1   count      12 non-null     int64 \n",
      "dtypes: int64(1), object(1)\n",
      "memory usage: 608.0+ bytes\n"
     ]
    }
   ],
   "source": [
    "brands = {\"brandname\":brand['brandname'], \"count\":brandcount}\n",
    "df_brand = pd.DataFrame(brands)\n",
    "df_brand.info()"
   ]
  },
  {
   "cell_type": "code",
   "execution_count": 22,
   "metadata": {},
   "outputs": [
    {
     "data": {
      "text/html": [
       "<div>\n",
       "<style scoped>\n",
       "    .dataframe tbody tr th:only-of-type {\n",
       "        vertical-align: middle;\n",
       "    }\n",
       "\n",
       "    .dataframe tbody tr th {\n",
       "        vertical-align: top;\n",
       "    }\n",
       "\n",
       "    .dataframe thead th {\n",
       "        text-align: right;\n",
       "    }\n",
       "</style>\n",
       "<table border=\"1\" class=\"dataframe\">\n",
       "  <thead>\n",
       "    <tr style=\"text-align: right;\">\n",
       "      <th></th>\n",
       "      <th>brandname</th>\n",
       "      <th>count</th>\n",
       "    </tr>\n",
       "  </thead>\n",
       "  <tbody>\n",
       "    <tr>\n",
       "      <th>0</th>\n",
       "      <td>BHC</td>\n",
       "      <td>4401</td>\n",
       "    </tr>\n",
       "    <tr>\n",
       "      <th>1</th>\n",
       "      <td>BBQ</td>\n",
       "      <td>3481</td>\n",
       "    </tr>\n",
       "    <tr>\n",
       "      <th>2</th>\n",
       "      <td>푸라닭</td>\n",
       "      <td>800</td>\n",
       "    </tr>\n",
       "    <tr>\n",
       "      <th>3</th>\n",
       "      <td>맘스터치</td>\n",
       "      <td>731</td>\n",
       "    </tr>\n",
       "    <tr>\n",
       "      <th>4</th>\n",
       "      <td>또래오래</td>\n",
       "      <td>367</td>\n",
       "    </tr>\n",
       "    <tr>\n",
       "      <th>5</th>\n",
       "      <td>신전떡볶이</td>\n",
       "      <td>253</td>\n",
       "    </tr>\n",
       "    <tr>\n",
       "      <th>6</th>\n",
       "      <td>네네치킨</td>\n",
       "      <td>241</td>\n",
       "    </tr>\n",
       "    <tr>\n",
       "      <th>7</th>\n",
       "      <td>처갓집</td>\n",
       "      <td>208</td>\n",
       "    </tr>\n",
       "    <tr>\n",
       "      <th>8</th>\n",
       "      <td>풀무원</td>\n",
       "      <td>167</td>\n",
       "    </tr>\n",
       "    <tr>\n",
       "      <th>9</th>\n",
       "      <td>애슐리</td>\n",
       "      <td>157</td>\n",
       "    </tr>\n",
       "    <tr>\n",
       "      <th>10</th>\n",
       "      <td>버거킹</td>\n",
       "      <td>87</td>\n",
       "    </tr>\n",
       "    <tr>\n",
       "      <th>11</th>\n",
       "      <td>CJ</td>\n",
       "      <td>36</td>\n",
       "    </tr>\n",
       "  </tbody>\n",
       "</table>\n",
       "</div>"
      ],
      "text/plain": [
       "   brandname  count\n",
       "0        BHC   4401\n",
       "1        BBQ   3481\n",
       "2        푸라닭    800\n",
       "3       맘스터치    731\n",
       "4       또래오래    367\n",
       "5      신전떡볶이    253\n",
       "6       네네치킨    241\n",
       "7        처갓집    208\n",
       "8        풀무원    167\n",
       "9        애슐리    157\n",
       "10       버거킹     87\n",
       "11        CJ     36"
      ]
     },
     "execution_count": 22,
     "metadata": {},
     "output_type": "execute_result"
    }
   ],
   "source": [
    "df_brand.sort_values(by=['count'], axis=0, ascending=False, inplace=True)\n",
    "df_brand.reset_index(drop=True, inplace=True)\n",
    "df_brand"
   ]
  },
  {
   "cell_type": "code",
   "execution_count": 16,
   "metadata": {},
   "outputs": [
    {
     "name": "stderr",
     "output_type": "stream",
     "text": [
      "C:\\ProgramData\\Anaconda3\\envs\\MachineLearning\\lib\\site-packages\\ipykernel_launcher.py:2: MatplotlibDeprecationWarning: Adding an axes using the same arguments as a previous axes currently reuses the earlier instance.  In a future version, a new instance will always be created and returned.  Meanwhile, this warning can be suppressed, and the future behavior ensured, by passing a unique label to each axes instance.\n",
      "  \n"
     ]
    },
    {
     "data": {
      "image/png": "[encoded data removed]",
      "text/plain": [
       "<Figure size 432x288 with 1 Axes>"
      ]
     },
     "metadata": {
      "needs_background": "light"
     },
     "output_type": "display_data"
    }
   ],
   "source": [
    "plt.bar(range(len(df_brand['count'])), df_brand['count'])\n",
    "ax = plt.subplot()\n",
    "ax.set_xticks(range(len(df_brand['brandname'])))\n",
    "ax.set_xticklabels(df_brand['brandname'], rotation=30)\n",
    "plt.title('Brand Trend', size=30)\n",
    "plt.ylabel('Count', size=20)\n",
    "plt.xlabel('Brand', size=20)\n",
    "plt.show()"
   ]
  },
  {
   "cell_type": "code",
   "execution_count": null,
   "metadata": {},
   "outputs": [],
   "source": [
    "#필요없는 title 컬럼의 데이터들을 '치즈볼'로 통일해서 채움 -> 동일한 컬럼을 기준으로 one sentence로 합치기 위함 \n",
    "\n",
    "df['title']='치즈볼'\n"
   ]
  },
  {
   "cell_type": "code",
   "execution_count": null,
   "metadata": {},
   "outputs": [],
   "source": [
    "print(df.head())"
   ]
  },
  {
   "cell_type": "code",
   "execution_count": null,
   "metadata": {},
   "outputs": [],
   "source": [
    "#one sentence 만들기\n",
    "review_one_sentences = []\n",
    "titles = []\n",
    "\n",
    "for title in df['title'].unique():\n",
    "    temp = df[df['title']==title]['cleaned_content']\n",
    "    review_one_sentence = ' '.join(list(temp)) \n",
    "    review_one_sentences.append(review_one_sentence)\n",
    "    titles.append(title)\n",
    "    \n",
    "df_review_one_sentence = pd.DataFrame({'title':titles, 'review_one_sentence':review_one_sentences})\n",
    "print(df_review_one_sentence.head())\n",
    "print(df_review_one_sentence.info())"
   ]
  },
  {
   "cell_type": "code",
   "execution_count": null,
   "metadata": {},
   "outputs": [],
   "source": [
    "#one sentence로 합쳐진 데이터를 X에 저장 \n",
    "X=df_review_one_sentence\n",
    "print(X.head())"
   ]
  },
  {
   "cell_type": "code",
   "execution_count": null,
   "metadata": {},
   "outputs": [],
   "source": [
    "#워드클라우드 합치기 \n",
    "import pandas as pd\n",
    "pd.set_option('display.max_row',500)\n",
    "pd.set_option('display.max_columns',100)\n",
    "pd.set_option('display.unicode.east_asian_width',True) \n",
    "import numpy as np\n",
    "import matplotlib.pyplot as plt\n",
    "\n",
    "from wordcloud import WordCloud,STOPWORDS\n",
    "from PIL import Image \n",
    "import collections"
   ]
  },
  {
   "cell_type": "code",
   "execution_count": null,
   "metadata": {},
   "outputs": [],
   "source": [
    "fontpath = './malgun.ttf'"
   ]
  },
  {
   "cell_type": "code",
   "execution_count": null,
   "metadata": {},
   "outputs": [],
   "source": [
    "#바꾸지 X \n",
    "_title='치즈볼'"
   ]
  },
  {
   "cell_type": "code",
   "execution_count": null,
   "metadata": {},
   "outputs": [],
   "source": [
    "_idx = X[X['title']==_title].index[0] "
   ]
  },
  {
   "cell_type": "code",
   "execution_count": null,
   "metadata": {},
   "outputs": [],
   "source": [
    "tokened_content_words = X['review_one_sentence'][_idx].split(' ')"
   ]
  },
  {
   "cell_type": "code",
   "execution_count": null,
   "metadata": {},
   "outputs": [],
   "source": [
    "textdict = collections.Counter(tokened_content_words)"
   ]
  },
  {
   "cell_type": "code",
   "execution_count": null,
   "metadata": {},
   "outputs": [],
   "source": [
    "wordcloude_img = WordCloud(background_color = 'white', max_words=300, font_path=fontpath).generate_from_frequencies(textdict)\n",
    "plt.figure(figsize=(16,16))\n",
    "plt.imshow(wordcloude_img, interpolation='bilinear')\n",
    "plt.axis('off')\n",
    "plt.show()"
   ]
  },
  {
   "cell_type": "code",
   "execution_count": null,
   "metadata": {},
   "outputs": [],
   "source": []
  }
 ],
 "metadata": {
  "kernelspec": {
   "display_name": "Python 3",
   "language": "python",
   "name": "python3"
  },
  "language_info": {
   "codemirror_mode": {
    "name": "ipython",
    "version": 3
   },
   "file_extension": ".py",
   "mimetype": "text/x-python",
   "name": "python",
   "nbconvert_exporter": "python",
   "pygments_lexer": "ipython3",
   "version": "3.7.7"
  }
 },
 "nbformat": 4,
 "nbformat_minor": 4
}
