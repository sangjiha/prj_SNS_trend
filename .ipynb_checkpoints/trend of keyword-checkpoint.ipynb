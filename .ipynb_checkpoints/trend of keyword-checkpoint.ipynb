{
 "cells": [
  {
   "cell_type": "code",
   "execution_count": 1,
   "metadata": {},
   "outputs": [],
   "source": [
    "import pandas as pd"
   ]
  },
  {
   "cell_type": "code",
   "execution_count": 3,
   "metadata": {},
   "outputs": [],
   "source": [
    "df = pd.read_csv('../prj_sns_trend_private/crawling_from20200101_to20201015.csv')"
   ]
  },
  {
   "cell_type": "code",
   "execution_count": 4,
   "metadata": {},
   "outputs": [
    {
     "data": {
      "text/html": [
       "<div>\n",
       "<style scoped>\n",
       "    .dataframe tbody tr th:only-of-type {\n",
       "        vertical-align: middle;\n",
       "    }\n",
       "\n",
       "    .dataframe tbody tr th {\n",
       "        vertical-align: top;\n",
       "    }\n",
       "\n",
       "    .dataframe thead th {\n",
       "        text-align: right;\n",
       "    }\n",
       "</style>\n",
       "<table border=\"1\" class=\"dataframe\">\n",
       "  <thead>\n",
       "    <tr style=\"text-align: right;\">\n",
       "      <th></th>\n",
       "      <th>Unnamed: 0</th>\n",
       "      <th>date</th>\n",
       "      <th>title</th>\n",
       "      <th>youtuber</th>\n",
       "      <th>comment</th>\n",
       "    </tr>\n",
       "  </thead>\n",
       "  <tbody>\n",
       "    <tr>\n",
       "      <th>0</th>\n",
       "      <td>0</td>\n",
       "      <td>2020-09-26</td>\n",
       "      <td>60계치킨 메뉴 짜파치킨치즈볼 처음이자 마지막 쫀득 치즈볼 5개 5000원 배달팁 ...</td>\n",
       "      <td>NaN</td>\n",
       "      <td>NaN</td>\n",
       "    </tr>\n",
       "    <tr>\n",
       "      <th>1</th>\n",
       "      <td>1</td>\n",
       "      <td>2020-10-13</td>\n",
       "      <td>에어프라이어 냉동치킨 애슐리 치킨 스윗 콤보치즈볼 후기 모짜렐라치즈볼도 금방 만들어...</td>\n",
       "      <td>NaN</td>\n",
       "      <td>NaN</td>\n",
       "    </tr>\n",
       "    <tr>\n",
       "      <th>2</th>\n",
       "      <td>2</td>\n",
       "      <td>2020-10-15</td>\n",
       "      <td>후기 밥솥  시금치적채애호박 소고기 이유식 아기치즈 치즈볼 흑 아기간식치즈볼 렌자렌...</td>\n",
       "      <td>NaN</td>\n",
       "      <td>NaN</td>\n",
       "    </tr>\n",
       "    <tr>\n",
       "      <th>3</th>\n",
       "      <td>3</td>\n",
       "      <td>2020-09-15</td>\n",
       "      <td>bhc치킨 메뉴 뿌링클 치즈볼 다 조앙 늘어나는건 볼 수 없었지만 그래도 마시써요 ...</td>\n",
       "      <td>NaN</td>\n",
       "      <td>NaN</td>\n",
       "    </tr>\n",
       "    <tr>\n",
       "      <th>4</th>\n",
       "      <td>4</td>\n",
       "      <td>2020-10-09</td>\n",
       "      <td>비비큐 네고왕 광희나는 메이플버터갈릭치킨 황금올리브 치즈볼 닭껍질튀김 JMT 솔직후...</td>\n",
       "      <td>NaN</td>\n",
       "      <td>NaN</td>\n",
       "    </tr>\n",
       "    <tr>\n",
       "      <th>...</th>\n",
       "      <td>...</td>\n",
       "      <td>...</td>\n",
       "      <td>...</td>\n",
       "      <td>...</td>\n",
       "      <td>...</td>\n",
       "    </tr>\n",
       "    <tr>\n",
       "      <th>36793</th>\n",
       "      <td>36793</td>\n",
       "      <td>2020-01-28</td>\n",
       "      <td>연휴가 끝나서 힘들고 지칠 때 멕시카나치킨 을 찾아주세요 매콤단짠  뿌리고치킨 에 ...</td>\n",
       "      <td>NaN</td>\n",
       "      <td>NaN</td>\n",
       "    </tr>\n",
       "    <tr>\n",
       "      <th>36794</th>\n",
       "      <td>36794</td>\n",
       "      <td>2020-09-18</td>\n",
       "      <td>배달의민족 순수치킨 3000원 할인</td>\n",
       "      <td>NaN</td>\n",
       "      <td>NaN</td>\n",
       "    </tr>\n",
       "    <tr>\n",
       "      <th>36795</th>\n",
       "      <td>36795</td>\n",
       "      <td>2020-09-25</td>\n",
       "      <td>금요일은 배달의민족 순수치킨  3000원 할인</td>\n",
       "      <td>NaN</td>\n",
       "      <td>NaN</td>\n",
       "    </tr>\n",
       "    <tr>\n",
       "      <th>36796</th>\n",
       "      <td>36796</td>\n",
       "      <td>2020-06-05</td>\n",
       "      <td>또래오래 목우촌 배달의민족 쿠폰 프로모션 치킨 이번 주 금토일 치킨파티 각 쉿 6월...</td>\n",
       "      <td>NaN</td>\n",
       "      <td>NaN</td>\n",
       "    </tr>\n",
       "    <tr>\n",
       "      <th>36797</th>\n",
       "      <td>36797</td>\n",
       "      <td>2020-09-15</td>\n",
       "      <td>순수치킨이 새로 쓰는 치킨의정석  가성비가성비갓성비순수치킨</td>\n",
       "      <td>NaN</td>\n",
       "      <td>NaN</td>\n",
       "    </tr>\n",
       "  </tbody>\n",
       "</table>\n",
       "<p>36798 rows × 5 columns</p>\n",
       "</div>"
      ],
      "text/plain": [
       "       Unnamed: 0        date  \\\n",
       "0               0  2020-09-26   \n",
       "1               1  2020-10-13   \n",
       "2               2  2020-10-15   \n",
       "3               3  2020-09-15   \n",
       "4               4  2020-10-09   \n",
       "...           ...         ...   \n",
       "36793       36793  2020-01-28   \n",
       "36794       36794  2020-09-18   \n",
       "36795       36795  2020-09-25   \n",
       "36796       36796  2020-06-05   \n",
       "36797       36797  2020-09-15   \n",
       "\n",
       "                                                   title youtuber comment  \n",
       "0      60계치킨 메뉴 짜파치킨치즈볼 처음이자 마지막 쫀득 치즈볼 5개 5000원 배달팁 ...      NaN     NaN  \n",
       "1      에어프라이어 냉동치킨 애슐리 치킨 스윗 콤보치즈볼 후기 모짜렐라치즈볼도 금방 만들어...      NaN     NaN  \n",
       "2      후기 밥솥  시금치적채애호박 소고기 이유식 아기치즈 치즈볼 흑 아기간식치즈볼 렌자렌...      NaN     NaN  \n",
       "3      bhc치킨 메뉴 뿌링클 치즈볼 다 조앙 늘어나는건 볼 수 없었지만 그래도 마시써요 ...      NaN     NaN  \n",
       "4      비비큐 네고왕 광희나는 메이플버터갈릭치킨 황금올리브 치즈볼 닭껍질튀김 JMT 솔직후...      NaN     NaN  \n",
       "...                                                  ...      ...     ...  \n",
       "36793  연휴가 끝나서 힘들고 지칠 때 멕시카나치킨 을 찾아주세요 매콤단짠  뿌리고치킨 에 ...      NaN     NaN  \n",
       "36794                                배달의민족 순수치킨 3000원 할인      NaN     NaN  \n",
       "36795                          금요일은 배달의민족 순수치킨  3000원 할인      NaN     NaN  \n",
       "36796  또래오래 목우촌 배달의민족 쿠폰 프로모션 치킨 이번 주 금토일 치킨파티 각 쉿 6월...      NaN     NaN  \n",
       "36797                   순수치킨이 새로 쓰는 치킨의정석  가성비가성비갓성비순수치킨      NaN     NaN  \n",
       "\n",
       "[36798 rows x 5 columns]"
      ]
     },
     "execution_count": 4,
     "metadata": {},
     "output_type": "execute_result"
    }
   ],
   "source": [
    "df"
   ]
  },
  {
   "cell_type": "code",
   "execution_count": 7,
   "metadata": {},
   "outputs": [],
   "source": [
    "keywords = ['BHC']\n",
    "b = []"
   ]
  },
  {
   "cell_type": "code",
   "execution_count": 8,
   "metadata": {},
   "outputs": [
    {
     "name": "stdout",
     "output_type": "stream",
     "text": [
      "[]\n"
     ]
    }
   ],
   "source": [
    "for i in range(len(df)):\n",
    "    if keywords in df['title'][i]:\n",
    "        b.append(df['title'][i])\n",
    "print(b)"
   ]
  },
  {
   "cell_type": "code",
   "execution_count": null,
   "metadata": {},
   "outputs": [],
   "source": []
  }
 ],
 "metadata": {
  "kernelspec": {
   "display_name": "Python 3",
   "language": "python",
   "name": "python3"
  },
  "language_info": {
   "codemirror_mode": {
    "name": "ipython",
    "version": 3
   },
   "file_extension": ".py",
   "mimetype": "text/x-python",
   "name": "python",
   "nbconvert_exporter": "python",
   "pygments_lexer": "ipython3",
   "version": "3.7.7"
  }
 },
 "nbformat": 4,
 "nbformat_minor": 4
}
