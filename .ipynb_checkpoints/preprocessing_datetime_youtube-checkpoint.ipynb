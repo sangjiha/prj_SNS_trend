{
 "cells": [
  {
   "cell_type": "code",
<<<<<<< HEAD
<<<<<<<< HEAD:.ipynb_checkpoints/preprocessing_datetime_youtube-checkpoint.ipynb
   "execution_count": 2,
========
   "execution_count": 3,
>>>>>>>> upstream/master:preprocessing_datetime_youtube.ipynb
=======
   "execution_count": 1,
>>>>>>> upstream/master
   "metadata": {},
   "outputs": [],
   "source": [
    "import pandas as pd\n",
    "import numpy as np\n",
    "import datetime"
   ]
  },
  {
   "cell_type": "code",
<<<<<<< HEAD
   "execution_count": 21,
   "metadata": {},
   "outputs": [
    {
     "name": "stdout",
     "output_type": "stream",
     "text": [
      "<class 'pandas.core.frame.DataFrame'>\n",
      "RangeIndex: 113 entries, 0 to 112\n",
      "Data columns (total 5 columns):\n",
      " #   Column    Non-Null Count  Dtype  \n",
      "---  ------    --------------  -----  \n",
      " 0   youtuber  113 non-null    object \n",
      " 1   date      112 non-null    object \n",
      " 2   title     113 non-null    object \n",
      " 3   comment   113 non-null    object \n",
      " 4   likes     109 non-null    float64\n",
      "dtypes: float64(1), object(4)\n",
      "memory usage: 4.5+ KB\n",
      "                                youtuber                date  \\\n",
      "0                               애주가TV참PD  최초 공개: 2020. 4. 2.   \n",
      "1                            핏블리 FITVELY        2020. 9. 14.   \n",
      "2                                   BODA        2020. 9. 18.   \n",
      "3    [헬스창고] 헬창TV / Korean Fitness Garage        2020. 9. 16.   \n",
      "4                             쯔양 영상 다시보기        2020. 9. 20.   \n",
      "..                                   ...                 ...   \n",
      "108                        다먹 ASMR Damuk         2020. 3. 2.   \n",
      "109                                  떵개떵         2020. 4. 4.   \n",
      "110                          하니얌 haniyam        2020. 3. 29.   \n",
      "111                                 교광TV        2020. 2. 10.   \n",
      "112                                 상남자1         2020. 4. 9.   \n",
      "\n",
      "                                                 title  \\\n",
      "0                                 BHC 치즈볼 긴장해야 할거같습니다.   \n",
      "1          코로나19로 헬스장 문닫고 타락한 헬창, 살면서 처음먹는 치즈볼..눈물의 먹방   \n",
      "2                        난생 처음 뿌링클, 치즈볼을 먹어보고 타락한 미국헬창   \n",
      "3        살면서 처음먹는 치즈볼.. [타락헬창] BJ 치즈볼과 함께한 타락여행.. VLOG   \n",
      "4    [Tzuyang쯔양] BHC 치즈볼 100개 도전 먹방 Korean mukbang ...   \n",
      "..                                                 ...   \n",
      "108  ASMR 치즈볼 아니고 초코볼 🍫 초코 찹쌀도넛 먹방 Chocolate Donut ...   \n",
      "109   오랜만에 먹는 뿌링클닭다리와 치즈볼, 꿀호떡, 소떡소떡 사이드메뉴 먹방~!! 리얼사운드   \n",
      "110  먹방브이로그 | 60계간지치킨+치즈볼, 짜파게티+파김치, 편의점신상털기, 생일주간폭...   \n",
      "111  BHC뿌링클닭다리치킨 치즈볼 먹방ASMR MUKBANG Sweet Chicken&C...   \n",
      "112                          우유 1500번 저어서 치즈 만들기 + 치즈볼   \n",
      "\n",
      "                                               comment    likes  \n",
      "0     전국의 치즈볼이 씨가 마르겠네요...\\n오늘 영상 대박입니다 여러분이 드시는 치킨...  11207.0  \n",
      "1     진짜 맛있다만 20번  ㅋㅋㅋㅋㅋㅋㅋㅋㅋㅋㅋㅋㅋㅋㅋㅋㅋㅋㅋ 수등 만점자가 H.O....  26167.0  \n",
      "2     외국인 맞냐 내가 본 외국인중에서 제일 말 잘하는듯 눈 감고 들으면 ㄹㅇ 아무도 ...  12159.0  \n",
      "3     헬창들에게 유럽 흑사병 번지듯이 치즈볼병 번지네. 이제 막을수없는 흐름이다.\\n다...   3397.0  \n",
      "4     I hope she'll comeback soon huhu tzuyang unni...    641.0  \n",
      "..                                                 ...      ...  \n",
      "108   직접 만드셨다니 대박이네용.😆😆😆\\n초코도넛? 초코볼 너무 캡이에요.😍😍\\n최고에...    362.0  \n",
      "109   난 저녁도 안먹었으면서 무슨자신감으로 들어왔을까 4:58 ㅌㅋㅋㅋㅋㅋㅋㅋㅋㅋㅋㅋㅋ...  13043.0  \n",
      "110   진짜 저렇게 잘드시는데 살이 안찌는게 신기 앜ㅋㅋㅋㅋㅋㅋㅋㅋㅋㅋ 리정혁 성대모사 ...   1151.0  \n",
      "111   치즈볼 짱귀여웤ㅋㅋㅋㅋㅋ 私が知ってる男性のASMRの人で食べ方気にならないし1口デカく...  25432.0  \n",
      "112   4:44 급발진 개웃기네 ㅋㅋㅋㅋㅋ 1:56 붕알 밀렵꾼 형 상남자 옷이나와서 오...   1426.0  \n",
      "\n",
      "[113 rows x 5 columns]\n"
=======
   "execution_count": 2,
   "metadata": {},
   "outputs": [
    {
     "ename": "FileNotFoundError",
     "evalue": "[Errno 2] No such file or directory: './datasets/crawling_youtube_1015.csv'",
     "output_type": "error",
     "traceback": [
      "\u001b[1;31m---------------------------------------------------------------------------\u001b[0m",
      "\u001b[1;31mFileNotFoundError\u001b[0m                         Traceback (most recent call last)",
      "\u001b[1;32m<ipython-input-2-277d4e36e9f6>\u001b[0m in \u001b[0;36m<module>\u001b[1;34m\u001b[0m\n\u001b[1;32m----> 1\u001b[1;33m \u001b[0mdf\u001b[0m \u001b[1;33m=\u001b[0m \u001b[0mpd\u001b[0m\u001b[1;33m.\u001b[0m\u001b[0mread_csv\u001b[0m\u001b[1;33m(\u001b[0m\u001b[1;34m'./datasets/crawling_youtube_1015.csv'\u001b[0m\u001b[1;33m)\u001b[0m\u001b[1;33m\u001b[0m\u001b[1;33m\u001b[0m\u001b[0m\n\u001b[0m\u001b[0;32m      2\u001b[0m \u001b[0mdf\u001b[0m\u001b[1;33m.\u001b[0m\u001b[0mdrop\u001b[0m\u001b[1;33m(\u001b[0m\u001b[1;33m[\u001b[0m\u001b[0mdf\u001b[0m\u001b[1;33m.\u001b[0m\u001b[0mcolumns\u001b[0m\u001b[1;33m[\u001b[0m\u001b[1;36m0\u001b[0m\u001b[1;33m]\u001b[0m\u001b[1;33m]\u001b[0m\u001b[1;33m,\u001b[0m\u001b[0maxis\u001b[0m\u001b[1;33m=\u001b[0m\u001b[1;36m1\u001b[0m\u001b[1;33m,\u001b[0m \u001b[0minplace\u001b[0m\u001b[1;33m=\u001b[0m\u001b[1;32mTrue\u001b[0m\u001b[1;33m)\u001b[0m\u001b[1;33m\u001b[0m\u001b[1;33m\u001b[0m\u001b[0m\n\u001b[0;32m      3\u001b[0m \u001b[0mdf\u001b[0m\u001b[1;33m.\u001b[0m\u001b[0minfo\u001b[0m\u001b[1;33m(\u001b[0m\u001b[1;33m)\u001b[0m\u001b[1;33m\u001b[0m\u001b[1;33m\u001b[0m\u001b[0m\n\u001b[0;32m      4\u001b[0m \u001b[0mprint\u001b[0m\u001b[1;33m(\u001b[0m\u001b[0mdf\u001b[0m\u001b[1;33m)\u001b[0m\u001b[1;33m\u001b[0m\u001b[1;33m\u001b[0m\u001b[0m\n",
      "\u001b[1;32mc:\\users\\07\\anaconda3\\envs\\machinelearning\\lib\\site-packages\\pandas\\io\\parsers.py\u001b[0m in \u001b[0;36mread_csv\u001b[1;34m(filepath_or_buffer, sep, delimiter, header, names, index_col, usecols, squeeze, prefix, mangle_dupe_cols, dtype, engine, converters, true_values, false_values, skipinitialspace, skiprows, skipfooter, nrows, na_values, keep_default_na, na_filter, verbose, skip_blank_lines, parse_dates, infer_datetime_format, keep_date_col, date_parser, dayfirst, cache_dates, iterator, chunksize, compression, thousands, decimal, lineterminator, quotechar, quoting, doublequote, escapechar, comment, encoding, dialect, error_bad_lines, warn_bad_lines, delim_whitespace, low_memory, memory_map, float_precision)\u001b[0m\n\u001b[0;32m    684\u001b[0m     )\n\u001b[0;32m    685\u001b[0m \u001b[1;33m\u001b[0m\u001b[0m\n\u001b[1;32m--> 686\u001b[1;33m     \u001b[1;32mreturn\u001b[0m \u001b[0m_read\u001b[0m\u001b[1;33m(\u001b[0m\u001b[0mfilepath_or_buffer\u001b[0m\u001b[1;33m,\u001b[0m \u001b[0mkwds\u001b[0m\u001b[1;33m)\u001b[0m\u001b[1;33m\u001b[0m\u001b[1;33m\u001b[0m\u001b[0m\n\u001b[0m\u001b[0;32m    687\u001b[0m \u001b[1;33m\u001b[0m\u001b[0m\n\u001b[0;32m    688\u001b[0m \u001b[1;33m\u001b[0m\u001b[0m\n",
      "\u001b[1;32mc:\\users\\07\\anaconda3\\envs\\machinelearning\\lib\\site-packages\\pandas\\io\\parsers.py\u001b[0m in \u001b[0;36m_read\u001b[1;34m(filepath_or_buffer, kwds)\u001b[0m\n\u001b[0;32m    450\u001b[0m \u001b[1;33m\u001b[0m\u001b[0m\n\u001b[0;32m    451\u001b[0m     \u001b[1;31m# Create the parser.\u001b[0m\u001b[1;33m\u001b[0m\u001b[1;33m\u001b[0m\u001b[1;33m\u001b[0m\u001b[0m\n\u001b[1;32m--> 452\u001b[1;33m     \u001b[0mparser\u001b[0m \u001b[1;33m=\u001b[0m \u001b[0mTextFileReader\u001b[0m\u001b[1;33m(\u001b[0m\u001b[0mfp_or_buf\u001b[0m\u001b[1;33m,\u001b[0m \u001b[1;33m**\u001b[0m\u001b[0mkwds\u001b[0m\u001b[1;33m)\u001b[0m\u001b[1;33m\u001b[0m\u001b[1;33m\u001b[0m\u001b[0m\n\u001b[0m\u001b[0;32m    453\u001b[0m \u001b[1;33m\u001b[0m\u001b[0m\n\u001b[0;32m    454\u001b[0m     \u001b[1;32mif\u001b[0m \u001b[0mchunksize\u001b[0m \u001b[1;32mor\u001b[0m \u001b[0miterator\u001b[0m\u001b[1;33m:\u001b[0m\u001b[1;33m\u001b[0m\u001b[1;33m\u001b[0m\u001b[0m\n",
      "\u001b[1;32mc:\\users\\07\\anaconda3\\envs\\machinelearning\\lib\\site-packages\\pandas\\io\\parsers.py\u001b[0m in \u001b[0;36m__init__\u001b[1;34m(self, f, engine, **kwds)\u001b[0m\n\u001b[0;32m    934\u001b[0m             \u001b[0mself\u001b[0m\u001b[1;33m.\u001b[0m\u001b[0moptions\u001b[0m\u001b[1;33m[\u001b[0m\u001b[1;34m\"has_index_names\"\u001b[0m\u001b[1;33m]\u001b[0m \u001b[1;33m=\u001b[0m \u001b[0mkwds\u001b[0m\u001b[1;33m[\u001b[0m\u001b[1;34m\"has_index_names\"\u001b[0m\u001b[1;33m]\u001b[0m\u001b[1;33m\u001b[0m\u001b[1;33m\u001b[0m\u001b[0m\n\u001b[0;32m    935\u001b[0m \u001b[1;33m\u001b[0m\u001b[0m\n\u001b[1;32m--> 936\u001b[1;33m         \u001b[0mself\u001b[0m\u001b[1;33m.\u001b[0m\u001b[0m_make_engine\u001b[0m\u001b[1;33m(\u001b[0m\u001b[0mself\u001b[0m\u001b[1;33m.\u001b[0m\u001b[0mengine\u001b[0m\u001b[1;33m)\u001b[0m\u001b[1;33m\u001b[0m\u001b[1;33m\u001b[0m\u001b[0m\n\u001b[0m\u001b[0;32m    937\u001b[0m \u001b[1;33m\u001b[0m\u001b[0m\n\u001b[0;32m    938\u001b[0m     \u001b[1;32mdef\u001b[0m \u001b[0mclose\u001b[0m\u001b[1;33m(\u001b[0m\u001b[0mself\u001b[0m\u001b[1;33m)\u001b[0m\u001b[1;33m:\u001b[0m\u001b[1;33m\u001b[0m\u001b[1;33m\u001b[0m\u001b[0m\n",
      "\u001b[1;32mc:\\users\\07\\anaconda3\\envs\\machinelearning\\lib\\site-packages\\pandas\\io\\parsers.py\u001b[0m in \u001b[0;36m_make_engine\u001b[1;34m(self, engine)\u001b[0m\n\u001b[0;32m   1166\u001b[0m     \u001b[1;32mdef\u001b[0m \u001b[0m_make_engine\u001b[0m\u001b[1;33m(\u001b[0m\u001b[0mself\u001b[0m\u001b[1;33m,\u001b[0m \u001b[0mengine\u001b[0m\u001b[1;33m=\u001b[0m\u001b[1;34m\"c\"\u001b[0m\u001b[1;33m)\u001b[0m\u001b[1;33m:\u001b[0m\u001b[1;33m\u001b[0m\u001b[1;33m\u001b[0m\u001b[0m\n\u001b[0;32m   1167\u001b[0m         \u001b[1;32mif\u001b[0m \u001b[0mengine\u001b[0m \u001b[1;33m==\u001b[0m \u001b[1;34m\"c\"\u001b[0m\u001b[1;33m:\u001b[0m\u001b[1;33m\u001b[0m\u001b[1;33m\u001b[0m\u001b[0m\n\u001b[1;32m-> 1168\u001b[1;33m             \u001b[0mself\u001b[0m\u001b[1;33m.\u001b[0m\u001b[0m_engine\u001b[0m \u001b[1;33m=\u001b[0m \u001b[0mCParserWrapper\u001b[0m\u001b[1;33m(\u001b[0m\u001b[0mself\u001b[0m\u001b[1;33m.\u001b[0m\u001b[0mf\u001b[0m\u001b[1;33m,\u001b[0m \u001b[1;33m**\u001b[0m\u001b[0mself\u001b[0m\u001b[1;33m.\u001b[0m\u001b[0moptions\u001b[0m\u001b[1;33m)\u001b[0m\u001b[1;33m\u001b[0m\u001b[1;33m\u001b[0m\u001b[0m\n\u001b[0m\u001b[0;32m   1169\u001b[0m         \u001b[1;32melse\u001b[0m\u001b[1;33m:\u001b[0m\u001b[1;33m\u001b[0m\u001b[1;33m\u001b[0m\u001b[0m\n\u001b[0;32m   1170\u001b[0m             \u001b[1;32mif\u001b[0m \u001b[0mengine\u001b[0m \u001b[1;33m==\u001b[0m \u001b[1;34m\"python\"\u001b[0m\u001b[1;33m:\u001b[0m\u001b[1;33m\u001b[0m\u001b[1;33m\u001b[0m\u001b[0m\n",
      "\u001b[1;32mc:\\users\\07\\anaconda3\\envs\\machinelearning\\lib\\site-packages\\pandas\\io\\parsers.py\u001b[0m in \u001b[0;36m__init__\u001b[1;34m(self, src, **kwds)\u001b[0m\n\u001b[0;32m   1996\u001b[0m         \u001b[0mkwds\u001b[0m\u001b[1;33m[\u001b[0m\u001b[1;34m\"usecols\"\u001b[0m\u001b[1;33m]\u001b[0m \u001b[1;33m=\u001b[0m \u001b[0mself\u001b[0m\u001b[1;33m.\u001b[0m\u001b[0musecols\u001b[0m\u001b[1;33m\u001b[0m\u001b[1;33m\u001b[0m\u001b[0m\n\u001b[0;32m   1997\u001b[0m \u001b[1;33m\u001b[0m\u001b[0m\n\u001b[1;32m-> 1998\u001b[1;33m         \u001b[0mself\u001b[0m\u001b[1;33m.\u001b[0m\u001b[0m_reader\u001b[0m \u001b[1;33m=\u001b[0m \u001b[0mparsers\u001b[0m\u001b[1;33m.\u001b[0m\u001b[0mTextReader\u001b[0m\u001b[1;33m(\u001b[0m\u001b[0msrc\u001b[0m\u001b[1;33m,\u001b[0m \u001b[1;33m**\u001b[0m\u001b[0mkwds\u001b[0m\u001b[1;33m)\u001b[0m\u001b[1;33m\u001b[0m\u001b[1;33m\u001b[0m\u001b[0m\n\u001b[0m\u001b[0;32m   1999\u001b[0m         \u001b[0mself\u001b[0m\u001b[1;33m.\u001b[0m\u001b[0munnamed_cols\u001b[0m \u001b[1;33m=\u001b[0m \u001b[0mself\u001b[0m\u001b[1;33m.\u001b[0m\u001b[0m_reader\u001b[0m\u001b[1;33m.\u001b[0m\u001b[0munnamed_cols\u001b[0m\u001b[1;33m\u001b[0m\u001b[1;33m\u001b[0m\u001b[0m\n\u001b[0;32m   2000\u001b[0m \u001b[1;33m\u001b[0m\u001b[0m\n",
      "\u001b[1;32mpandas\\_libs\\parsers.pyx\u001b[0m in \u001b[0;36mpandas._libs.parsers.TextReader.__cinit__\u001b[1;34m()\u001b[0m\n",
      "\u001b[1;32mpandas\\_libs\\parsers.pyx\u001b[0m in \u001b[0;36mpandas._libs.parsers.TextReader._setup_parser_source\u001b[1;34m()\u001b[0m\n",
      "\u001b[1;31mFileNotFoundError\u001b[0m: [Errno 2] No such file or directory: './datasets/crawling_youtube_1015.csv'"
>>>>>>> upstream/master
     ]
    }
   ],
   "source": [
<<<<<<< HEAD
    "df = pd.read_csv('./crawling_data/crawling_youtube_final.csv')\n",
=======
    "df = pd.read_csv('./datasets/crawling_youtube_1015.csv')\n",
>>>>>>> upstream/master
    "df.drop([df.columns[0]],axis=1, inplace=True)\n",
    "df.info()\n",
    "print(df)"
   ]
  },
  {
   "cell_type": "code",
<<<<<<< HEAD
   "execution_count": 22,
=======
   "execution_count": 11,
>>>>>>> upstream/master
   "metadata": {},
   "outputs": [
    {
     "name": "stdout",
     "output_type": "stream",
     "text": [
<<<<<<< HEAD
      "                                youtuber                date  \\\n",
      "0                               애주가TV참PD  최초 공개: 2020. 4. 2.   \n",
      "1                            핏블리 FITVELY        2020. 9. 14.   \n",
      "2                                   BODA        2020. 9. 18.   \n",
      "3    [헬스창고] 헬창TV / Korean Fitness Garage        2020. 9. 16.   \n",
      "4                             쯔양 영상 다시보기        2020. 9. 20.   \n",
      "..                                   ...                 ...   \n",
      "103                        다먹 ASMR Damuk         2020. 3. 2.   \n",
      "104                                  떵개떵         2020. 4. 4.   \n",
      "105                          하니얌 haniyam        2020. 3. 29.   \n",
      "106                                 교광TV        2020. 2. 10.   \n",
      "107                                 상남자1         2020. 4. 9.   \n",
      "\n",
      "                                                 title  \\\n",
      "0                                 BHC 치즈볼 긴장해야 할거같습니다.   \n",
      "1          코로나19로 헬스장 문닫고 타락한 헬창, 살면서 처음먹는 치즈볼..눈물의 먹방   \n",
      "2                        난생 처음 뿌링클, 치즈볼을 먹어보고 타락한 미국헬창   \n",
      "3        살면서 처음먹는 치즈볼.. [타락헬창] BJ 치즈볼과 함께한 타락여행.. VLOG   \n",
      "4    [Tzuyang쯔양] BHC 치즈볼 100개 도전 먹방 Korean mukbang ...   \n",
      "..                                                 ...   \n",
      "103  ASMR 치즈볼 아니고 초코볼 🍫 초코 찹쌀도넛 먹방 Chocolate Donut ...   \n",
      "104   오랜만에 먹는 뿌링클닭다리와 치즈볼, 꿀호떡, 소떡소떡 사이드메뉴 먹방~!! 리얼사운드   \n",
      "105  먹방브이로그 | 60계간지치킨+치즈볼, 짜파게티+파김치, 편의점신상털기, 생일주간폭...   \n",
      "106  BHC뿌링클닭다리치킨 치즈볼 먹방ASMR MUKBANG Sweet Chicken&C...   \n",
      "107                          우유 1500번 저어서 치즈 만들기 + 치즈볼   \n",
      "\n",
      "                                               comment    likes  \n",
      "0     전국의 치즈볼이 씨가 마르겠네요...\\n오늘 영상 대박입니다 여러분이 드시는 치킨...  11207.0  \n",
      "1     진짜 맛있다만 20번  ㅋㅋㅋㅋㅋㅋㅋㅋㅋㅋㅋㅋㅋㅋㅋㅋㅋㅋㅋ 수등 만점자가 H.O....  26167.0  \n",
      "2     외국인 맞냐 내가 본 외국인중에서 제일 말 잘하는듯 눈 감고 들으면 ㄹㅇ 아무도 ...  12159.0  \n",
      "3     헬창들에게 유럽 흑사병 번지듯이 치즈볼병 번지네. 이제 막을수없는 흐름이다.\\n다...   3397.0  \n",
      "4     I hope she'll comeback soon huhu tzuyang unni...    641.0  \n",
      "..                                                 ...      ...  \n",
      "103   직접 만드셨다니 대박이네용.😆😆😆\\n초코도넛? 초코볼 너무 캡이에요.😍😍\\n최고에...    362.0  \n",
      "104   난 저녁도 안먹었으면서 무슨자신감으로 들어왔을까 4:58 ㅌㅋㅋㅋㅋㅋㅋㅋㅋㅋㅋㅋㅋ...  13043.0  \n",
      "105   진짜 저렇게 잘드시는데 살이 안찌는게 신기 앜ㅋㅋㅋㅋㅋㅋㅋㅋㅋㅋ 리정혁 성대모사 ...   1151.0  \n",
      "106   치즈볼 짱귀여웤ㅋㅋㅋㅋㅋ 私が知ってる男性のASMRの人で食べ方気にならないし1口デカく...  25432.0  \n",
      "107   4:44 급발진 개웃기네 ㅋㅋㅋㅋㅋ 1:56 붕알 밀렵꾼 형 상남자 옷이나와서 오...   1426.0  \n",
      "\n",
      "[108 rows x 5 columns]\n"
=======
      "                                                  title                date  \\\n",
      "0                                  BHC 치즈볼 긴장해야 할거같습니다.  최초 공개: 2020. 4. 2.   \n",
      "1                                  BHC 치즈볼 긴장해야 할거같습니다.  최초 공개: 2020. 4. 2.   \n",
      "2                                  BHC 치즈볼 긴장해야 할거같습니다.  최초 공개: 2020. 4. 2.   \n",
      "3                                  BHC 치즈볼 긴장해야 할거같습니다.  최초 공개: 2020. 4. 2.   \n",
      "4                                  BHC 치즈볼 긴장해야 할거같습니다.  최초 공개: 2020. 4. 2.   \n",
      "...                                                 ...                 ...   \n",
      "2733  ASMR CHEESY BURGER KING ,CHEESE BALL, Chicken ...         2020. 2. 4.   \n",
      "2734  ASMR CHEESY BURGER KING ,CHEESE BALL, Chicken ...         2020. 2. 4.   \n",
      "2735  ASMR CHEESY BURGER KING ,CHEESE BALL, Chicken ...         2020. 2. 4.   \n",
      "2736  ASMR CHEESY BURGER KING ,CHEESE BALL, Chicken ...         2020. 2. 4.   \n",
      "2737  ASMR CHEESY BURGER KING ,CHEESE BALL, Chicken ...         2020. 2. 4.   \n",
      "\n",
      "          youtuber                                            comment  \n",
      "0         애주가TV참PD                  전국의 치즈볼이 씨가 마르겠네요...\\n오늘 영상 대박입니다  \n",
      "1         애주가TV참PD  여러분이 드시는 치킨 프랜차이즈 치즈볼은 거의 다  자체생산이 아닌 외주를 통해 나...  \n",
      "2         애주가TV참PD  이런 컨텐츠 참 좋은거 같아요 . 우리나라는 대기업에 여러가지가 집중되어 있는데 훌...  \n",
      "3         애주가TV참PD  5:03 8700 더 바삭한\\n5:55 9500 푸드킹\\n6:19 11500 썬리취...  \n",
      "4         애주가TV참PD                                          8:11 최종평가  \n",
      "...            ...                                                ...  \n",
      "2733  DONI ASMR 도니                                          amo carne  \n",
      "2734  DONI ASMR 도니                                    Nice<3 ilyyyy:(  \n",
      "2735  DONI ASMR 도니        Like 23 wow everything looks so delicious🤤👌  \n",
      "2736  DONI ASMR 도니                               햄버거가 진짜 짱크네요 맛있겠다 ,,  \n",
      "2737  DONI ASMR 도니                                   Amo batata frita  \n",
      "\n",
      "[2738 rows x 4 columns]\n"
>>>>>>> upstream/master
     ]
    }
   ],
   "source": [
    "#NaN값 제거\n",
    "df.isnull().sum()\n",
    "df = df.dropna()\n",
    "df.reset_index(drop =True, inplace = True)\n",
    "print(df)"
   ]
  },
  {
   "cell_type": "code",
<<<<<<< HEAD
   "execution_count": 23,
   "metadata": {},
   "outputs": [
    {
     "name": "stderr",
     "output_type": "stream",
     "text": [
      "c:\\users\\07\\anaconda3\\envs\\machinelearning\\lib\\site-packages\\ipykernel_launcher.py:2: SettingWithCopyWarning: \n",
      "A value is trying to be set on a copy of a slice from a DataFrame\n",
      "\n",
      "See the caveats in the documentation: https://pandas.pydata.org/pandas-docs/stable/user_guide/indexing.html#returning-a-view-versus-a-copy\n",
      "  \n",
      "c:\\users\\07\\anaconda3\\envs\\machinelearning\\lib\\site-packages\\ipykernel_launcher.py:4: SettingWithCopyWarning: \n",
      "A value is trying to be set on a copy of a slice from a DataFrame\n",
      "\n",
      "See the caveats in the documentation: https://pandas.pydata.org/pandas-docs/stable/user_guide/indexing.html#returning-a-view-versus-a-copy\n",
      "  after removing the cwd from sys.path.\n"
     ]
    },
    {
     "data": {
      "text/plain": [
       "0       2020. 4. 2.\n",
       "1      2020. 9. 14.\n",
       "2      2020. 9. 18.\n",
       "3      2020. 9. 16.\n",
       "4      2020. 9. 20.\n",
       "           ...     \n",
       "103     2020. 3. 2.\n",
       "104     2020. 4. 4.\n",
       "105    2020. 3. 29.\n",
       "106    2020. 2. 10.\n",
       "107     2020. 4. 9.\n",
       "Name: date, Length: 108, dtype: object"
      ]
     },
     "execution_count": 23,
=======
   "execution_count": 16,
   "metadata": {},
   "outputs": [
    {
     "data": {
      "text/plain": [
       "0        2020-4-2\n",
       "1        2020-4-2\n",
       "2        2020-4-2\n",
       "3        2020-4-2\n",
       "4        2020-4-2\n",
       "          ...    \n",
       "2733     2020-2-4\n",
       "2734     2020-2-4\n",
       "2735     2020-2-4\n",
       "2736     2020-2-4\n",
       "2737     2020-2-4\n",
       "Name: date, Length: 2738, dtype: object"
      ]
     },
     "execution_count": 16,
>>>>>>> upstream/master
     "metadata": {},
     "output_type": "execute_result"
    }
   ],
   "source": [
    "for i in range(len(df)):\n",
    "    df['date'][i] = df['date'][i].replace('년', '')\n",
<<<<<<< HEAD
    "for i in range(len(df)):\n",
    "    df['date'][i] = df['date'][i].replace('최초 공개: ', '')\n",
=======
>>>>>>> upstream/master
    "df['date']\n"
   ]
  },
  {
   "cell_type": "code",
<<<<<<< HEAD
   "execution_count": 24,
=======
   "execution_count": 17,
>>>>>>> upstream/master
   "metadata": {},
   "outputs": [],
   "source": [
    "df['date'] = pd.to_datetime(df['date'])"
   ]
  },
  {
   "cell_type": "code",
<<<<<<< HEAD
   "execution_count": 25,
=======
   "execution_count": 18,
>>>>>>> upstream/master
   "metadata": {},
   "outputs": [
    {
     "name": "stderr",
     "output_type": "stream",
     "text": [
<<<<<<< HEAD
      "c:\\users\\07\\anaconda3\\envs\\machinelearning\\lib\\site-packages\\ipykernel_launcher.py:2: SettingWithCopyWarning: \n",
=======
      "c:\\users\\024\\anaconda3\\envs\\machinelearning\\lib\\site-packages\\ipykernel_launcher.py:2: SettingWithCopyWarning: \n",
>>>>>>> upstream/master
      "A value is trying to be set on a copy of a slice from a DataFrame\n",
      "\n",
      "See the caveats in the documentation: https://pandas.pydata.org/pandas-docs/stable/user_guide/indexing.html#returning-a-view-versus-a-copy\n",
      "  \n",
<<<<<<< HEAD
      "c:\\users\\07\\anaconda3\\envs\\machinelearning\\lib\\site-packages\\pandas\\core\\indexing.py:670: SettingWithCopyWarning: \n",
=======
      "c:\\users\\024\\anaconda3\\envs\\machinelearning\\lib\\site-packages\\pandas\\core\\indexing.py:670: SettingWithCopyWarning: \n",
>>>>>>> upstream/master
      "A value is trying to be set on a copy of a slice from a DataFrame\n",
      "\n",
      "See the caveats in the documentation: https://pandas.pydata.org/pandas-docs/stable/user_guide/indexing.html#returning-a-view-versus-a-copy\n",
      "  iloc._setitem_with_indexer(indexer, value)\n"
     ]
    }
   ],
   "source": [
    "for z in range(len(df)): \n",
    "    df['date'][z] = df['date'][z].strftime('%Y-%m-%d')"
   ]
  },
  {
   "cell_type": "code",
<<<<<<< HEAD
   "execution_count": 26,
=======
   "execution_count": 19,
>>>>>>> upstream/master
   "metadata": {},
   "outputs": [
    {
     "data": {
      "text/html": [
       "<div>\n",
       "<style scoped>\n",
       "    .dataframe tbody tr th:only-of-type {\n",
       "        vertical-align: middle;\n",
       "    }\n",
       "\n",
       "    .dataframe tbody tr th {\n",
       "        vertical-align: top;\n",
       "    }\n",
       "\n",
       "    .dataframe thead th {\n",
       "        text-align: right;\n",
       "    }\n",
       "</style>\n",
       "<table border=\"1\" class=\"dataframe\">\n",
       "  <thead>\n",
       "    <tr style=\"text-align: right;\">\n",
       "      <th></th>\n",
<<<<<<< HEAD
       "      <th>youtuber</th>\n",
       "      <th>date</th>\n",
       "      <th>title</th>\n",
       "      <th>comment</th>\n",
       "      <th>likes</th>\n",
=======
       "      <th>title</th>\n",
       "      <th>date</th>\n",
       "      <th>youtuber</th>\n",
       "      <th>comment</th>\n",
>>>>>>> upstream/master
       "    </tr>\n",
       "  </thead>\n",
       "  <tbody>\n",
       "    <tr>\n",
       "      <th>0</th>\n",
<<<<<<< HEAD
       "      <td>애주가TV참PD</td>\n",
       "      <td>2020-04-02</td>\n",
       "      <td>BHC 치즈볼 긴장해야 할거같습니다.</td>\n",
       "      <td>전국의 치즈볼이 씨가 마르겠네요...\\n오늘 영상 대박입니다 여러분이 드시는 치킨...</td>\n",
       "      <td>11207.0</td>\n",
       "    </tr>\n",
       "    <tr>\n",
       "      <th>1</th>\n",
       "      <td>핏블리 FITVELY</td>\n",
       "      <td>2020-09-14</td>\n",
       "      <td>코로나19로 헬스장 문닫고 타락한 헬창, 살면서 처음먹는 치즈볼..눈물의 먹방</td>\n",
       "      <td>진짜 맛있다만 20번  ㅋㅋㅋㅋㅋㅋㅋㅋㅋㅋㅋㅋㅋㅋㅋㅋㅋㅋㅋ 수등 만점자가 H.O....</td>\n",
       "      <td>26167.0</td>\n",
       "    </tr>\n",
       "    <tr>\n",
       "      <th>2</th>\n",
       "      <td>BODA</td>\n",
       "      <td>2020-09-18</td>\n",
       "      <td>난생 처음 뿌링클, 치즈볼을 먹어보고 타락한 미국헬창</td>\n",
       "      <td>외국인 맞냐 내가 본 외국인중에서 제일 말 잘하는듯 눈 감고 들으면 ㄹㅇ 아무도 ...</td>\n",
       "      <td>12159.0</td>\n",
       "    </tr>\n",
       "    <tr>\n",
       "      <th>3</th>\n",
       "      <td>[헬스창고] 헬창TV / Korean Fitness Garage</td>\n",
       "      <td>2020-09-16</td>\n",
       "      <td>살면서 처음먹는 치즈볼.. [타락헬창] BJ 치즈볼과 함께한 타락여행.. VLOG</td>\n",
       "      <td>헬창들에게 유럽 흑사병 번지듯이 치즈볼병 번지네. 이제 막을수없는 흐름이다.\\n다...</td>\n",
       "      <td>3397.0</td>\n",
       "    </tr>\n",
       "    <tr>\n",
       "      <th>4</th>\n",
       "      <td>쯔양 영상 다시보기</td>\n",
       "      <td>2020-09-20</td>\n",
       "      <td>[Tzuyang쯔양] BHC 치즈볼 100개 도전 먹방 Korean mukbang ...</td>\n",
       "      <td>I hope she'll comeback soon huhu tzuyang unni...</td>\n",
       "      <td>641.0</td>\n",
=======
       "      <td>BHC 치즈볼 긴장해야 할거같습니다.</td>\n",
       "      <td>2020-04-02</td>\n",
       "      <td>애주가TV참PD</td>\n",
       "      <td>전국의 치즈볼이 씨가 마르겠네요...\\n오늘 영상 대박입니다</td>\n",
       "    </tr>\n",
       "    <tr>\n",
       "      <th>1</th>\n",
       "      <td>BHC 치즈볼 긴장해야 할거같습니다.</td>\n",
       "      <td>2020-04-02</td>\n",
       "      <td>애주가TV참PD</td>\n",
       "      <td>여러분이 드시는 치킨 프랜차이즈 치즈볼은 거의 다  자체생산이 아닌 외주를 통해 나...</td>\n",
       "    </tr>\n",
       "    <tr>\n",
       "      <th>2</th>\n",
       "      <td>BHC 치즈볼 긴장해야 할거같습니다.</td>\n",
       "      <td>2020-04-02</td>\n",
       "      <td>애주가TV참PD</td>\n",
       "      <td>이런 컨텐츠 참 좋은거 같아요 . 우리나라는 대기업에 여러가지가 집중되어 있는데 훌...</td>\n",
       "    </tr>\n",
       "    <tr>\n",
       "      <th>3</th>\n",
       "      <td>BHC 치즈볼 긴장해야 할거같습니다.</td>\n",
       "      <td>2020-04-02</td>\n",
       "      <td>애주가TV참PD</td>\n",
       "      <td>5:03 8700 더 바삭한\\n5:55 9500 푸드킹\\n6:19 11500 썬리취...</td>\n",
       "    </tr>\n",
       "    <tr>\n",
       "      <th>4</th>\n",
       "      <td>BHC 치즈볼 긴장해야 할거같습니다.</td>\n",
       "      <td>2020-04-02</td>\n",
       "      <td>애주가TV참PD</td>\n",
       "      <td>8:11 최종평가</td>\n",
>>>>>>> upstream/master
       "    </tr>\n",
       "    <tr>\n",
       "      <th>...</th>\n",
       "      <td>...</td>\n",
       "      <td>...</td>\n",
       "      <td>...</td>\n",
       "      <td>...</td>\n",
<<<<<<< HEAD
       "      <td>...</td>\n",
       "    </tr>\n",
       "    <tr>\n",
       "      <th>103</th>\n",
       "      <td>다먹 ASMR Damuk</td>\n",
       "      <td>2020-03-02</td>\n",
       "      <td>ASMR 치즈볼 아니고 초코볼 🍫 초코 찹쌀도넛 먹방 Chocolate Donut ...</td>\n",
       "      <td>직접 만드셨다니 대박이네용.😆😆😆\\n초코도넛? 초코볼 너무 캡이에요.😍😍\\n최고에...</td>\n",
       "      <td>362.0</td>\n",
       "    </tr>\n",
       "    <tr>\n",
       "      <th>104</th>\n",
       "      <td>떵개떵</td>\n",
       "      <td>2020-04-04</td>\n",
       "      <td>오랜만에 먹는 뿌링클닭다리와 치즈볼, 꿀호떡, 소떡소떡 사이드메뉴 먹방~!! 리얼사운드</td>\n",
       "      <td>난 저녁도 안먹었으면서 무슨자신감으로 들어왔을까 4:58 ㅌㅋㅋㅋㅋㅋㅋㅋㅋㅋㅋㅋㅋ...</td>\n",
       "      <td>13043.0</td>\n",
       "    </tr>\n",
       "    <tr>\n",
       "      <th>105</th>\n",
       "      <td>하니얌 haniyam</td>\n",
       "      <td>2020-03-29</td>\n",
       "      <td>먹방브이로그 | 60계간지치킨+치즈볼, 짜파게티+파김치, 편의점신상털기, 생일주간폭...</td>\n",
       "      <td>진짜 저렇게 잘드시는데 살이 안찌는게 신기 앜ㅋㅋㅋㅋㅋㅋㅋㅋㅋㅋ 리정혁 성대모사 ...</td>\n",
       "      <td>1151.0</td>\n",
       "    </tr>\n",
       "    <tr>\n",
       "      <th>106</th>\n",
       "      <td>교광TV</td>\n",
       "      <td>2020-02-10</td>\n",
       "      <td>BHC뿌링클닭다리치킨 치즈볼 먹방ASMR MUKBANG Sweet Chicken&amp;C...</td>\n",
       "      <td>치즈볼 짱귀여웤ㅋㅋㅋㅋㅋ 私が知ってる男性のASMRの人で食べ方気にならないし1口デカく...</td>\n",
       "      <td>25432.0</td>\n",
       "    </tr>\n",
       "    <tr>\n",
       "      <th>107</th>\n",
       "      <td>상남자1</td>\n",
       "      <td>2020-04-09</td>\n",
       "      <td>우유 1500번 저어서 치즈 만들기 + 치즈볼</td>\n",
       "      <td>4:44 급발진 개웃기네 ㅋㅋㅋㅋㅋ 1:56 붕알 밀렵꾼 형 상남자 옷이나와서 오...</td>\n",
       "      <td>1426.0</td>\n",
       "    </tr>\n",
       "  </tbody>\n",
       "</table>\n",
       "<p>108 rows × 5 columns</p>\n",
       "</div>"
      ],
      "text/plain": [
       "                                youtuber        date  \\\n",
       "0                               애주가TV참PD  2020-04-02   \n",
       "1                            핏블리 FITVELY  2020-09-14   \n",
       "2                                   BODA  2020-09-18   \n",
       "3    [헬스창고] 헬창TV / Korean Fitness Garage  2020-09-16   \n",
       "4                             쯔양 영상 다시보기  2020-09-20   \n",
       "..                                   ...         ...   \n",
       "103                        다먹 ASMR Damuk  2020-03-02   \n",
       "104                                  떵개떵  2020-04-04   \n",
       "105                          하니얌 haniyam  2020-03-29   \n",
       "106                                 교광TV  2020-02-10   \n",
       "107                                 상남자1  2020-04-09   \n",
       "\n",
       "                                                 title  \\\n",
       "0                                 BHC 치즈볼 긴장해야 할거같습니다.   \n",
       "1          코로나19로 헬스장 문닫고 타락한 헬창, 살면서 처음먹는 치즈볼..눈물의 먹방   \n",
       "2                        난생 처음 뿌링클, 치즈볼을 먹어보고 타락한 미국헬창   \n",
       "3        살면서 처음먹는 치즈볼.. [타락헬창] BJ 치즈볼과 함께한 타락여행.. VLOG   \n",
       "4    [Tzuyang쯔양] BHC 치즈볼 100개 도전 먹방 Korean mukbang ...   \n",
       "..                                                 ...   \n",
       "103  ASMR 치즈볼 아니고 초코볼 🍫 초코 찹쌀도넛 먹방 Chocolate Donut ...   \n",
       "104   오랜만에 먹는 뿌링클닭다리와 치즈볼, 꿀호떡, 소떡소떡 사이드메뉴 먹방~!! 리얼사운드   \n",
       "105  먹방브이로그 | 60계간지치킨+치즈볼, 짜파게티+파김치, 편의점신상털기, 생일주간폭...   \n",
       "106  BHC뿌링클닭다리치킨 치즈볼 먹방ASMR MUKBANG Sweet Chicken&C...   \n",
       "107                          우유 1500번 저어서 치즈 만들기 + 치즈볼   \n",
       "\n",
       "                                               comment    likes  \n",
       "0     전국의 치즈볼이 씨가 마르겠네요...\\n오늘 영상 대박입니다 여러분이 드시는 치킨...  11207.0  \n",
       "1     진짜 맛있다만 20번  ㅋㅋㅋㅋㅋㅋㅋㅋㅋㅋㅋㅋㅋㅋㅋㅋㅋㅋㅋ 수등 만점자가 H.O....  26167.0  \n",
       "2     외국인 맞냐 내가 본 외국인중에서 제일 말 잘하는듯 눈 감고 들으면 ㄹㅇ 아무도 ...  12159.0  \n",
       "3     헬창들에게 유럽 흑사병 번지듯이 치즈볼병 번지네. 이제 막을수없는 흐름이다.\\n다...   3397.0  \n",
       "4     I hope she'll comeback soon huhu tzuyang unni...    641.0  \n",
       "..                                                 ...      ...  \n",
       "103   직접 만드셨다니 대박이네용.😆😆😆\\n초코도넛? 초코볼 너무 캡이에요.😍😍\\n최고에...    362.0  \n",
       "104   난 저녁도 안먹었으면서 무슨자신감으로 들어왔을까 4:58 ㅌㅋㅋㅋㅋㅋㅋㅋㅋㅋㅋㅋㅋ...  13043.0  \n",
       "105   진짜 저렇게 잘드시는데 살이 안찌는게 신기 앜ㅋㅋㅋㅋㅋㅋㅋㅋㅋㅋ 리정혁 성대모사 ...   1151.0  \n",
       "106   치즈볼 짱귀여웤ㅋㅋㅋㅋㅋ 私が知ってる男性のASMRの人で食べ方気にならないし1口デカく...  25432.0  \n",
       "107   4:44 급발진 개웃기네 ㅋㅋㅋㅋㅋ 1:56 붕알 밀렵꾼 형 상남자 옷이나와서 오...   1426.0  \n",
       "\n",
       "[108 rows x 5 columns]"
      ]
     },
     "execution_count": 26,
=======
       "    </tr>\n",
       "    <tr>\n",
       "      <th>2733</th>\n",
       "      <td>ASMR CHEESY BURGER KING ,CHEESE BALL, Chicken ...</td>\n",
       "      <td>2020-02-04</td>\n",
       "      <td>DONI ASMR 도니</td>\n",
       "      <td>amo carne</td>\n",
       "    </tr>\n",
       "    <tr>\n",
       "      <th>2734</th>\n",
       "      <td>ASMR CHEESY BURGER KING ,CHEESE BALL, Chicken ...</td>\n",
       "      <td>2020-02-04</td>\n",
       "      <td>DONI ASMR 도니</td>\n",
       "      <td>Nice&lt;3 ilyyyy:(</td>\n",
       "    </tr>\n",
       "    <tr>\n",
       "      <th>2735</th>\n",
       "      <td>ASMR CHEESY BURGER KING ,CHEESE BALL, Chicken ...</td>\n",
       "      <td>2020-02-04</td>\n",
       "      <td>DONI ASMR 도니</td>\n",
       "      <td>Like 23 wow everything looks so delicious🤤👌</td>\n",
       "    </tr>\n",
       "    <tr>\n",
       "      <th>2736</th>\n",
       "      <td>ASMR CHEESY BURGER KING ,CHEESE BALL, Chicken ...</td>\n",
       "      <td>2020-02-04</td>\n",
       "      <td>DONI ASMR 도니</td>\n",
       "      <td>햄버거가 진짜 짱크네요 맛있겠다 ,,</td>\n",
       "    </tr>\n",
       "    <tr>\n",
       "      <th>2737</th>\n",
       "      <td>ASMR CHEESY BURGER KING ,CHEESE BALL, Chicken ...</td>\n",
       "      <td>2020-02-04</td>\n",
       "      <td>DONI ASMR 도니</td>\n",
       "      <td>Amo batata frita</td>\n",
       "    </tr>\n",
       "  </tbody>\n",
       "</table>\n",
       "<p>2738 rows × 4 columns</p>\n",
       "</div>"
      ],
      "text/plain": [
       "                                                  title        date  \\\n",
       "0                                  BHC 치즈볼 긴장해야 할거같습니다.  2020-04-02   \n",
       "1                                  BHC 치즈볼 긴장해야 할거같습니다.  2020-04-02   \n",
       "2                                  BHC 치즈볼 긴장해야 할거같습니다.  2020-04-02   \n",
       "3                                  BHC 치즈볼 긴장해야 할거같습니다.  2020-04-02   \n",
       "4                                  BHC 치즈볼 긴장해야 할거같습니다.  2020-04-02   \n",
       "...                                                 ...         ...   \n",
       "2733  ASMR CHEESY BURGER KING ,CHEESE BALL, Chicken ...  2020-02-04   \n",
       "2734  ASMR CHEESY BURGER KING ,CHEESE BALL, Chicken ...  2020-02-04   \n",
       "2735  ASMR CHEESY BURGER KING ,CHEESE BALL, Chicken ...  2020-02-04   \n",
       "2736  ASMR CHEESY BURGER KING ,CHEESE BALL, Chicken ...  2020-02-04   \n",
       "2737  ASMR CHEESY BURGER KING ,CHEESE BALL, Chicken ...  2020-02-04   \n",
       "\n",
       "          youtuber                                            comment  \n",
       "0         애주가TV참PD                  전국의 치즈볼이 씨가 마르겠네요...\\n오늘 영상 대박입니다  \n",
       "1         애주가TV참PD  여러분이 드시는 치킨 프랜차이즈 치즈볼은 거의 다  자체생산이 아닌 외주를 통해 나...  \n",
       "2         애주가TV참PD  이런 컨텐츠 참 좋은거 같아요 . 우리나라는 대기업에 여러가지가 집중되어 있는데 훌...  \n",
       "3         애주가TV참PD  5:03 8700 더 바삭한\\n5:55 9500 푸드킹\\n6:19 11500 썬리취...  \n",
       "4         애주가TV참PD                                          8:11 최종평가  \n",
       "...            ...                                                ...  \n",
       "2733  DONI ASMR 도니                                          amo carne  \n",
       "2734  DONI ASMR 도니                                    Nice<3 ilyyyy:(  \n",
       "2735  DONI ASMR 도니        Like 23 wow everything looks so delicious🤤👌  \n",
       "2736  DONI ASMR 도니                               햄버거가 진짜 짱크네요 맛있겠다 ,,  \n",
       "2737  DONI ASMR 도니                                   Amo batata frita  \n",
       "\n",
       "[2738 rows x 4 columns]"
      ]
     },
     "execution_count": 19,
>>>>>>> upstream/master
     "metadata": {},
     "output_type": "execute_result"
    }
   ],
   "source": [
    "df"
   ]
  },
  {
   "cell_type": "code",
<<<<<<< HEAD
<<<<<<<< HEAD:.ipynb_checkpoints/preprocessing_datetime_youtube-checkpoint.ipynb
   "execution_count": 3,
   "metadata": {},
   "outputs": [
    {
     "ename": "NameError",
     "evalue": "name 'df' is not defined",
     "output_type": "error",
     "traceback": [
      "\u001b[1;31m---------------------------------------------------------------------------\u001b[0m",
      "\u001b[1;31mNameError\u001b[0m                                 Traceback (most recent call last)",
      "\u001b[1;32m<ipython-input-3-d6c4da7e121a>\u001b[0m in \u001b[0;36m<module>\u001b[1;34m\u001b[0m\n\u001b[0;32m      2\u001b[0m \u001b[0mtitles\u001b[0m \u001b[1;33m=\u001b[0m \u001b[1;33m[\u001b[0m\u001b[1;33m]\u001b[0m\u001b[1;33m\u001b[0m\u001b[1;33m\u001b[0m\u001b[0m\n\u001b[0;32m      3\u001b[0m \u001b[1;33m\u001b[0m\u001b[0m\n\u001b[1;32m----> 4\u001b[1;33m \u001b[1;32mfor\u001b[0m \u001b[0mtitle\u001b[0m \u001b[1;32min\u001b[0m \u001b[0mdf\u001b[0m\u001b[1;33m[\u001b[0m\u001b[1;34m'title'\u001b[0m\u001b[1;33m]\u001b[0m\u001b[1;33m.\u001b[0m\u001b[0munique\u001b[0m\u001b[1;33m(\u001b[0m\u001b[1;33m)\u001b[0m\u001b[1;33m:\u001b[0m\u001b[1;33m\u001b[0m\u001b[1;33m\u001b[0m\u001b[0m\n\u001b[0m\u001b[0;32m      5\u001b[0m     \u001b[0mtemp\u001b[0m \u001b[1;33m=\u001b[0m \u001b[0mdf\u001b[0m\u001b[1;33m[\u001b[0m\u001b[0mdf\u001b[0m\u001b[1;33m[\u001b[0m\u001b[1;34m'title'\u001b[0m\u001b[1;33m]\u001b[0m\u001b[1;33m==\u001b[0m\u001b[0mtitle\u001b[0m\u001b[1;33m]\u001b[0m\u001b[1;33m[\u001b[0m\u001b[1;34m'comment'\u001b[0m\u001b[1;33m]\u001b[0m\u001b[1;33m\u001b[0m\u001b[1;33m\u001b[0m\u001b[0m\n\u001b[0;32m      6\u001b[0m     \u001b[0mreview_one_sentence\u001b[0m \u001b[1;33m=\u001b[0m \u001b[1;34m' '\u001b[0m\u001b[1;33m.\u001b[0m\u001b[0mjoin\u001b[0m\u001b[1;33m(\u001b[0m\u001b[0mlist\u001b[0m\u001b[1;33m(\u001b[0m\u001b[0mtemp\u001b[0m\u001b[1;33m)\u001b[0m\u001b[1;33m)\u001b[0m\u001b[1;33m\u001b[0m\u001b[1;33m\u001b[0m\u001b[0m\n",
      "\u001b[1;31mNameError\u001b[0m: name 'df' is not defined"
     ]
    }
   ],
   "source": [
    "review_one_sentences = []\n",
    "titles = []\n",
    "\n",
    "for title in df['title'].unique():\n",
    "    temp = df[df['title']==title]['comment']\n",
    "    review_one_sentence = ' '.join(list(temp)) \n",
    "    review_one_sentences.append(review_one_sentence)\n",
    "    titles.append(title)\n",
    "    \n",
    "df_review_one_sentence = pd.DataFrame({'title':titles, 'review_one_sentence':review_one_sentences})\n",
    "print(df_review_one_sentence.head())\n",
    "print(df_review_one_sentence.info())"
   ]
  },
  {
   "cell_type": "code",
   "execution_count": 20,
========
   "execution_count": 27,
>>>>>>>> upstream/master:preprocessing_datetime_youtube.ipynb
   "metadata": {},
   "outputs": [],
   "source": [
    "df.to_csv('./crawling_data/crawling_youtube_final.csv')"
=======
   "execution_count": 20,
   "metadata": {},
   "outputs": [],
   "source": [
    "df.to_csv('prj_sns_trend_crawling_youtube_치즈볼.csv')"
>>>>>>> upstream/master
   ]
  },
  {
   "cell_type": "code",
   "execution_count": null,
   "metadata": {},
   "outputs": [],
   "source": []
  }
 ],
 "metadata": {
  "kernelspec": {
   "display_name": "Python 3",
   "language": "python",
   "name": "python3"
  },
  "language_info": {
   "codemirror_mode": {
    "name": "ipython",
    "version": 3
   },
   "file_extension": ".py",
   "mimetype": "text/x-python",
   "name": "python",
   "nbconvert_exporter": "python",
   "pygments_lexer": "ipython3",
   "version": "3.7.7"
  }
 },
 "nbformat": 4,
 "nbformat_minor": 4
}
