{
 "cells": [
  {
   "cell_type": "code",
   "execution_count": 2,
   "metadata": {},
   "outputs": [],
   "source": [
    "import pandas as pd\n",
    "import numpy as np\n",
    "import datetime"
   ]
  },
  {
   "cell_type": "code",
   "execution_count": 10,
   "metadata": {},
   "outputs": [
    {
     "name": "stdout",
     "output_type": "stream",
     "text": [
      "<class 'pandas.core.frame.DataFrame'>\n",
      "RangeIndex: 2756 entries, 0 to 2755\n",
      "Data columns (total 4 columns):\n",
      " #   Column    Non-Null Count  Dtype \n",
      "---  ------    --------------  ----- \n",
      " 0   title     2756 non-null   object\n",
      " 1   date      2738 non-null   object\n",
      " 2   youtuber  2756 non-null   object\n",
      " 3   comment   2756 non-null   object\n",
      "dtypes: object(4)\n",
      "memory usage: 86.2+ KB\n",
      "                                                  title                date  \\\n",
      "0                                  BHC 치즈볼 긴장해야 할거같습니다.  최초 공개: 2020. 4. 2.   \n",
      "1                                  BHC 치즈볼 긴장해야 할거같습니다.  최초 공개: 2020. 4. 2.   \n",
      "2                                  BHC 치즈볼 긴장해야 할거같습니다.  최초 공개: 2020. 4. 2.   \n",
      "3                                  BHC 치즈볼 긴장해야 할거같습니다.  최초 공개: 2020. 4. 2.   \n",
      "4                                  BHC 치즈볼 긴장해야 할거같습니다.  최초 공개: 2020. 4. 2.   \n",
      "...                                                 ...                 ...   \n",
      "2751  ASMR CHEESY BURGER KING ,CHEESE BALL, Chicken ...         2020. 2. 4.   \n",
      "2752  ASMR CHEESY BURGER KING ,CHEESE BALL, Chicken ...         2020. 2. 4.   \n",
      "2753  ASMR CHEESY BURGER KING ,CHEESE BALL, Chicken ...         2020. 2. 4.   \n",
      "2754  ASMR CHEESY BURGER KING ,CHEESE BALL, Chicken ...         2020. 2. 4.   \n",
      "2755  ASMR CHEESY BURGER KING ,CHEESE BALL, Chicken ...         2020. 2. 4.   \n",
      "\n",
      "          youtuber                                            comment  \n",
      "0         애주가TV참PD                  전국의 치즈볼이 씨가 마르겠네요...\\n오늘 영상 대박입니다  \n",
      "1         애주가TV참PD  여러분이 드시는 치킨 프랜차이즈 치즈볼은 거의 다  자체생산이 아닌 외주를 통해 나...  \n",
      "2         애주가TV참PD  이런 컨텐츠 참 좋은거 같아요 . 우리나라는 대기업에 여러가지가 집중되어 있는데 훌...  \n",
      "3         애주가TV참PD  5:03 8700 더 바삭한\\n5:55 9500 푸드킹\\n6:19 11500 썬리취...  \n",
      "4         애주가TV참PD                                          8:11 최종평가  \n",
      "...            ...                                                ...  \n",
      "2751  DONI ASMR 도니                                          amo carne  \n",
      "2752  DONI ASMR 도니                                    Nice<3 ilyyyy:(  \n",
      "2753  DONI ASMR 도니        Like 23 wow everything looks so delicious🤤👌  \n",
      "2754  DONI ASMR 도니                               햄버거가 진짜 짱크네요 맛있겠다 ,,  \n",
      "2755  DONI ASMR 도니                                   Amo batata frita  \n",
      "\n",
      "[2756 rows x 4 columns]\n"
     ]
    }
   ],
   "source": [
    "df = pd.read_csv('./datasets/crawling_youtube_1015.csv')\n",
    "df.drop([df.columns[0]],axis=1, inplace=True)\n",
    "df.info()\n",
    "print(df)"
   ]
  },
  {
   "cell_type": "code",
   "execution_count": 11,
   "metadata": {},
   "outputs": [
    {
     "name": "stdout",
     "output_type": "stream",
     "text": [
      "                                                  title                date  \\\n",
      "0                                  BHC 치즈볼 긴장해야 할거같습니다.  최초 공개: 2020. 4. 2.   \n",
      "1                                  BHC 치즈볼 긴장해야 할거같습니다.  최초 공개: 2020. 4. 2.   \n",
      "2                                  BHC 치즈볼 긴장해야 할거같습니다.  최초 공개: 2020. 4. 2.   \n",
      "3                                  BHC 치즈볼 긴장해야 할거같습니다.  최초 공개: 2020. 4. 2.   \n",
      "4                                  BHC 치즈볼 긴장해야 할거같습니다.  최초 공개: 2020. 4. 2.   \n",
      "...                                                 ...                 ...   \n",
      "2733  ASMR CHEESY BURGER KING ,CHEESE BALL, Chicken ...         2020. 2. 4.   \n",
      "2734  ASMR CHEESY BURGER KING ,CHEESE BALL, Chicken ...         2020. 2. 4.   \n",
      "2735  ASMR CHEESY BURGER KING ,CHEESE BALL, Chicken ...         2020. 2. 4.   \n",
      "2736  ASMR CHEESY BURGER KING ,CHEESE BALL, Chicken ...         2020. 2. 4.   \n",
      "2737  ASMR CHEESY BURGER KING ,CHEESE BALL, Chicken ...         2020. 2. 4.   \n",
      "\n",
      "          youtuber                                            comment  \n",
      "0         애주가TV참PD                  전국의 치즈볼이 씨가 마르겠네요...\\n오늘 영상 대박입니다  \n",
      "1         애주가TV참PD  여러분이 드시는 치킨 프랜차이즈 치즈볼은 거의 다  자체생산이 아닌 외주를 통해 나...  \n",
      "2         애주가TV참PD  이런 컨텐츠 참 좋은거 같아요 . 우리나라는 대기업에 여러가지가 집중되어 있는데 훌...  \n",
      "3         애주가TV참PD  5:03 8700 더 바삭한\\n5:55 9500 푸드킹\\n6:19 11500 썬리취...  \n",
      "4         애주가TV참PD                                          8:11 최종평가  \n",
      "...            ...                                                ...  \n",
      "2733  DONI ASMR 도니                                          amo carne  \n",
      "2734  DONI ASMR 도니                                    Nice<3 ilyyyy:(  \n",
      "2735  DONI ASMR 도니        Like 23 wow everything looks so delicious🤤👌  \n",
      "2736  DONI ASMR 도니                               햄버거가 진짜 짱크네요 맛있겠다 ,,  \n",
      "2737  DONI ASMR 도니                                   Amo batata frita  \n",
      "\n",
      "[2738 rows x 4 columns]\n"
     ]
    }
   ],
   "source": [
    "#NaN값 제거\n",
    "df.isnull().sum()\n",
    "df = df.dropna()\n",
    "df.reset_index(drop =True, inplace = True)\n",
    "print(df)"
   ]
  },
  {
   "cell_type": "code",
   "execution_count": 16,
   "metadata": {},
   "outputs": [
    {
     "data": {
      "text/plain": [
       "0        2020-4-2\n",
       "1        2020-4-2\n",
       "2        2020-4-2\n",
       "3        2020-4-2\n",
       "4        2020-4-2\n",
       "          ...    \n",
       "2733     2020-2-4\n",
       "2734     2020-2-4\n",
       "2735     2020-2-4\n",
       "2736     2020-2-4\n",
       "2737     2020-2-4\n",
       "Name: date, Length: 2738, dtype: object"
      ]
     },
     "execution_count": 16,
     "metadata": {},
     "output_type": "execute_result"
    }
   ],
   "source": [
    "for i in range(len(df)):\n",
    "    df['date'][i] = df['date'][i].replace('년', '')\n",
    "df['date']\n"
   ]
  },
  {
   "cell_type": "code",
   "execution_count": 17,
   "metadata": {},
   "outputs": [],
   "source": [
    "df['date'] = pd.to_datetime(df['date'])"
   ]
  },
  {
   "cell_type": "code",
   "execution_count": 18,
   "metadata": {},
   "outputs": [
    {
     "name": "stderr",
     "output_type": "stream",
     "text": [
      "c:\\users\\024\\anaconda3\\envs\\machinelearning\\lib\\site-packages\\ipykernel_launcher.py:2: SettingWithCopyWarning: \n",
      "A value is trying to be set on a copy of a slice from a DataFrame\n",
      "\n",
      "See the caveats in the documentation: https://pandas.pydata.org/pandas-docs/stable/user_guide/indexing.html#returning-a-view-versus-a-copy\n",
      "  \n",
      "c:\\users\\024\\anaconda3\\envs\\machinelearning\\lib\\site-packages\\pandas\\core\\indexing.py:670: SettingWithCopyWarning: \n",
      "A value is trying to be set on a copy of a slice from a DataFrame\n",
      "\n",
      "See the caveats in the documentation: https://pandas.pydata.org/pandas-docs/stable/user_guide/indexing.html#returning-a-view-versus-a-copy\n",
      "  iloc._setitem_with_indexer(indexer, value)\n"
     ]
    }
   ],
   "source": [
    "for z in range(len(df)): \n",
    "    df['date'][z] = df['date'][z].strftime('%Y-%m-%d')"
   ]
  },
  {
   "cell_type": "code",
   "execution_count": 19,
   "metadata": {},
   "outputs": [
    {
     "data": {
      "text/html": [
       "<div>\n",
       "<style scoped>\n",
       "    .dataframe tbody tr th:only-of-type {\n",
       "        vertical-align: middle;\n",
       "    }\n",
       "\n",
       "    .dataframe tbody tr th {\n",
       "        vertical-align: top;\n",
       "    }\n",
       "\n",
       "    .dataframe thead th {\n",
       "        text-align: right;\n",
       "    }\n",
       "</style>\n",
       "<table border=\"1\" class=\"dataframe\">\n",
       "  <thead>\n",
       "    <tr style=\"text-align: right;\">\n",
       "      <th></th>\n",
       "      <th>title</th>\n",
       "      <th>date</th>\n",
       "      <th>youtuber</th>\n",
       "      <th>comment</th>\n",
       "    </tr>\n",
       "  </thead>\n",
       "  <tbody>\n",
       "    <tr>\n",
       "      <th>0</th>\n",
       "      <td>BHC 치즈볼 긴장해야 할거같습니다.</td>\n",
       "      <td>2020-04-02</td>\n",
       "      <td>애주가TV참PD</td>\n",
       "      <td>전국의 치즈볼이 씨가 마르겠네요...\\n오늘 영상 대박입니다</td>\n",
       "    </tr>\n",
       "    <tr>\n",
       "      <th>1</th>\n",
       "      <td>BHC 치즈볼 긴장해야 할거같습니다.</td>\n",
       "      <td>2020-04-02</td>\n",
       "      <td>애주가TV참PD</td>\n",
       "      <td>여러분이 드시는 치킨 프랜차이즈 치즈볼은 거의 다  자체생산이 아닌 외주를 통해 나...</td>\n",
       "    </tr>\n",
       "    <tr>\n",
       "      <th>2</th>\n",
       "      <td>BHC 치즈볼 긴장해야 할거같습니다.</td>\n",
       "      <td>2020-04-02</td>\n",
       "      <td>애주가TV참PD</td>\n",
       "      <td>이런 컨텐츠 참 좋은거 같아요 . 우리나라는 대기업에 여러가지가 집중되어 있는데 훌...</td>\n",
       "    </tr>\n",
       "    <tr>\n",
       "      <th>3</th>\n",
       "      <td>BHC 치즈볼 긴장해야 할거같습니다.</td>\n",
       "      <td>2020-04-02</td>\n",
       "      <td>애주가TV참PD</td>\n",
       "      <td>5:03 8700 더 바삭한\\n5:55 9500 푸드킹\\n6:19 11500 썬리취...</td>\n",
       "    </tr>\n",
       "    <tr>\n",
       "      <th>4</th>\n",
       "      <td>BHC 치즈볼 긴장해야 할거같습니다.</td>\n",
       "      <td>2020-04-02</td>\n",
       "      <td>애주가TV참PD</td>\n",
       "      <td>8:11 최종평가</td>\n",
       "    </tr>\n",
       "    <tr>\n",
       "      <th>...</th>\n",
       "      <td>...</td>\n",
       "      <td>...</td>\n",
       "      <td>...</td>\n",
       "      <td>...</td>\n",
       "    </tr>\n",
       "    <tr>\n",
       "      <th>2733</th>\n",
       "      <td>ASMR CHEESY BURGER KING ,CHEESE BALL, Chicken ...</td>\n",
       "      <td>2020-02-04</td>\n",
       "      <td>DONI ASMR 도니</td>\n",
       "      <td>amo carne</td>\n",
       "    </tr>\n",
       "    <tr>\n",
       "      <th>2734</th>\n",
       "      <td>ASMR CHEESY BURGER KING ,CHEESE BALL, Chicken ...</td>\n",
       "      <td>2020-02-04</td>\n",
       "      <td>DONI ASMR 도니</td>\n",
       "      <td>Nice&lt;3 ilyyyy:(</td>\n",
       "    </tr>\n",
       "    <tr>\n",
       "      <th>2735</th>\n",
       "      <td>ASMR CHEESY BURGER KING ,CHEESE BALL, Chicken ...</td>\n",
       "      <td>2020-02-04</td>\n",
       "      <td>DONI ASMR 도니</td>\n",
       "      <td>Like 23 wow everything looks so delicious🤤👌</td>\n",
       "    </tr>\n",
       "    <tr>\n",
       "      <th>2736</th>\n",
       "      <td>ASMR CHEESY BURGER KING ,CHEESE BALL, Chicken ...</td>\n",
       "      <td>2020-02-04</td>\n",
       "      <td>DONI ASMR 도니</td>\n",
       "      <td>햄버거가 진짜 짱크네요 맛있겠다 ,,</td>\n",
       "    </tr>\n",
       "    <tr>\n",
       "      <th>2737</th>\n",
       "      <td>ASMR CHEESY BURGER KING ,CHEESE BALL, Chicken ...</td>\n",
       "      <td>2020-02-04</td>\n",
       "      <td>DONI ASMR 도니</td>\n",
       "      <td>Amo batata frita</td>\n",
       "    </tr>\n",
       "  </tbody>\n",
       "</table>\n",
       "<p>2738 rows × 4 columns</p>\n",
       "</div>"
      ],
      "text/plain": [
       "                                                  title        date  \\\n",
       "0                                  BHC 치즈볼 긴장해야 할거같습니다.  2020-04-02   \n",
       "1                                  BHC 치즈볼 긴장해야 할거같습니다.  2020-04-02   \n",
       "2                                  BHC 치즈볼 긴장해야 할거같습니다.  2020-04-02   \n",
       "3                                  BHC 치즈볼 긴장해야 할거같습니다.  2020-04-02   \n",
       "4                                  BHC 치즈볼 긴장해야 할거같습니다.  2020-04-02   \n",
       "...                                                 ...         ...   \n",
       "2733  ASMR CHEESY BURGER KING ,CHEESE BALL, Chicken ...  2020-02-04   \n",
       "2734  ASMR CHEESY BURGER KING ,CHEESE BALL, Chicken ...  2020-02-04   \n",
       "2735  ASMR CHEESY BURGER KING ,CHEESE BALL, Chicken ...  2020-02-04   \n",
       "2736  ASMR CHEESY BURGER KING ,CHEESE BALL, Chicken ...  2020-02-04   \n",
       "2737  ASMR CHEESY BURGER KING ,CHEESE BALL, Chicken ...  2020-02-04   \n",
       "\n",
       "          youtuber                                            comment  \n",
       "0         애주가TV참PD                  전국의 치즈볼이 씨가 마르겠네요...\\n오늘 영상 대박입니다  \n",
       "1         애주가TV참PD  여러분이 드시는 치킨 프랜차이즈 치즈볼은 거의 다  자체생산이 아닌 외주를 통해 나...  \n",
       "2         애주가TV참PD  이런 컨텐츠 참 좋은거 같아요 . 우리나라는 대기업에 여러가지가 집중되어 있는데 훌...  \n",
       "3         애주가TV참PD  5:03 8700 더 바삭한\\n5:55 9500 푸드킹\\n6:19 11500 썬리취...  \n",
       "4         애주가TV참PD                                          8:11 최종평가  \n",
       "...            ...                                                ...  \n",
       "2733  DONI ASMR 도니                                          amo carne  \n",
       "2734  DONI ASMR 도니                                    Nice<3 ilyyyy:(  \n",
       "2735  DONI ASMR 도니        Like 23 wow everything looks so delicious🤤👌  \n",
       "2736  DONI ASMR 도니                               햄버거가 진짜 짱크네요 맛있겠다 ,,  \n",
       "2737  DONI ASMR 도니                                   Amo batata frita  \n",
       "\n",
       "[2738 rows x 4 columns]"
      ]
     },
     "execution_count": 19,
     "metadata": {},
     "output_type": "execute_result"
    }
   ],
   "source": [
    "df"
   ]
  },
  {
   "cell_type": "code",
   "execution_count": 3,
   "metadata": {},
   "outputs": [
    {
     "ename": "NameError",
     "evalue": "name 'df' is not defined",
     "output_type": "error",
     "traceback": [
      "\u001b[1;31m---------------------------------------------------------------------------\u001b[0m",
      "\u001b[1;31mNameError\u001b[0m                                 Traceback (most recent call last)",
      "\u001b[1;32m<ipython-input-3-d6c4da7e121a>\u001b[0m in \u001b[0;36m<module>\u001b[1;34m\u001b[0m\n\u001b[0;32m      2\u001b[0m \u001b[0mtitles\u001b[0m \u001b[1;33m=\u001b[0m \u001b[1;33m[\u001b[0m\u001b[1;33m]\u001b[0m\u001b[1;33m\u001b[0m\u001b[1;33m\u001b[0m\u001b[0m\n\u001b[0;32m      3\u001b[0m \u001b[1;33m\u001b[0m\u001b[0m\n\u001b[1;32m----> 4\u001b[1;33m \u001b[1;32mfor\u001b[0m \u001b[0mtitle\u001b[0m \u001b[1;32min\u001b[0m \u001b[0mdf\u001b[0m\u001b[1;33m[\u001b[0m\u001b[1;34m'title'\u001b[0m\u001b[1;33m]\u001b[0m\u001b[1;33m.\u001b[0m\u001b[0munique\u001b[0m\u001b[1;33m(\u001b[0m\u001b[1;33m)\u001b[0m\u001b[1;33m:\u001b[0m\u001b[1;33m\u001b[0m\u001b[1;33m\u001b[0m\u001b[0m\n\u001b[0m\u001b[0;32m      5\u001b[0m     \u001b[0mtemp\u001b[0m \u001b[1;33m=\u001b[0m \u001b[0mdf\u001b[0m\u001b[1;33m[\u001b[0m\u001b[0mdf\u001b[0m\u001b[1;33m[\u001b[0m\u001b[1;34m'title'\u001b[0m\u001b[1;33m]\u001b[0m\u001b[1;33m==\u001b[0m\u001b[0mtitle\u001b[0m\u001b[1;33m]\u001b[0m\u001b[1;33m[\u001b[0m\u001b[1;34m'comment'\u001b[0m\u001b[1;33m]\u001b[0m\u001b[1;33m\u001b[0m\u001b[1;33m\u001b[0m\u001b[0m\n\u001b[0;32m      6\u001b[0m     \u001b[0mreview_one_sentence\u001b[0m \u001b[1;33m=\u001b[0m \u001b[1;34m' '\u001b[0m\u001b[1;33m.\u001b[0m\u001b[0mjoin\u001b[0m\u001b[1;33m(\u001b[0m\u001b[0mlist\u001b[0m\u001b[1;33m(\u001b[0m\u001b[0mtemp\u001b[0m\u001b[1;33m)\u001b[0m\u001b[1;33m)\u001b[0m\u001b[1;33m\u001b[0m\u001b[1;33m\u001b[0m\u001b[0m\n",
      "\u001b[1;31mNameError\u001b[0m: name 'df' is not defined"
     ]
    }
   ],
   "source": [
    "review_one_sentences = []\n",
    "titles = []\n",
    "\n",
    "for title in df['title'].unique():\n",
    "    temp = df[df['title']==title]['comment']\n",
    "    review_one_sentence = ' '.join(list(temp)) \n",
    "    review_one_sentences.append(review_one_sentence)\n",
    "    titles.append(title)\n",
    "    \n",
    "df_review_one_sentence = pd.DataFrame({'title':titles, 'review_one_sentence':review_one_sentences})\n",
    "print(df_review_one_sentence.head())\n",
    "print(df_review_one_sentence.info())"
   ]
  },
  {
   "cell_type": "code",
   "execution_count": 20,
   "metadata": {},
   "outputs": [],
   "source": [
    "df.to_csv('prj_sns_trend_crawling_youtube_치즈볼.csv')"
   ]
  }
 ],
 "metadata": {
  "kernelspec": {
   "display_name": "Python 3",
   "language": "python",
   "name": "python3"
  },
  "language_info": {
   "codemirror_mode": {
    "name": "ipython",
    "version": 3
   },
   "file_extension": ".py",
   "mimetype": "text/x-python",
   "name": "python",
   "nbconvert_exporter": "python",
   "pygments_lexer": "ipython3",
   "version": "3.7.7"
  }
 },
 "nbformat": 4,
 "nbformat_minor": 4
}
