{
 "cells": [
  {
   "cell_type": "code",
   "execution_count": 1,
   "metadata": {},
   "outputs": [],
   "source": [
    "import time\n",
    "import pandas as pd\n",
    "import matplotlib.pyplot as plt\n",
    "import numpy as np\n",
    "from selenium.common.exceptions import NoSuchElementException\n",
    "from selenium.common.exceptions import ElementNotInteractableException\n",
    "from selenium import webdriver\n",
    "from selenium.webdriver.common.keys import Keys\n",
    "from selenium.webdriver.chrome.options import Options\n",
    "import requests\n",
    "from bs4 import BeautifulSoup\n",
    "import re\n",
    "import datetime"
   ]
  },
  {
   "cell_type": "code",
   "execution_count": 2,
   "metadata": {},
   "outputs": [],
   "source": [
    "#검색어 입력\n",
    "k='치즈볼'"
   ]
  },
  {
   "cell_type": "code",
   "execution_count": 24,
   "metadata": {},
   "outputs": [
    {
     "name": "stdout",
     "output_type": "stream",
     "text": [
      "<class 'pandas.core.frame.DataFrame'>\n",
      "Int64Index: 296 entries, 0 to 295\n",
      "Data columns (total 2 columns):\n",
      " #   Column  Non-Null Count  Dtype \n",
      "---  ------  --------------  ----- \n",
      " 0   date    296 non-null    object\n",
      " 1   title   255 non-null    object\n",
      "dtypes: object(2)\n",
      "memory usage: 6.9+ KB\n",
      "None\n"
     ]
    }
   ],
   "source": [
    "df = pd.read_csv('./crawling/facebook{}.csv'.format(k), index_col=0)\n",
    "print(df.info())"
   ]
  },
  {
   "cell_type": "code",
   "execution_count": 25,
   "metadata": {},
   "outputs": [
    {
     "name": "stdout",
     "output_type": "stream",
     "text": [
      "255\n",
      "<class 'pandas.core.frame.DataFrame'>\n",
      "RangeIndex: 255 entries, 0 to 254\n",
      "Data columns (total 2 columns):\n",
      " #   Column  Non-Null Count  Dtype \n",
      "---  ------  --------------  ----- \n",
      " 0   date    255 non-null    object\n",
      " 1   title   255 non-null    object\n",
      "dtypes: object(2)\n",
      "memory usage: 4.1+ KB\n",
      "None\n"
     ]
    }
   ],
   "source": [
    "df1 = df.dropna(subset=['title'], how='any', axis=0) #title의 결측치 행 삭제\n",
    "df1.reset_index(inplace=True, drop=True)\n",
    "print(len(df1))\n",
    "print(df1.info())"
   ]
  },
  {
   "cell_type": "code",
   "execution_count": 26,
   "metadata": {},
   "outputs": [
    {
     "name": "stdout",
     "output_type": "stream",
     "text": [
      "                date                                              title\n",
      "0              9월 1일  그 안에 무엇을 넣고 돌려도 겉바속촉 명품 요리로 변신시켜주는 주방의 요물 #에어프...\n",
      "1    10월 11일 오후 6:00  광희가 네고하고 간 바로 그 bbq신메뉴 메이플버터갈릭치킨 와우 와우 와우 ! 달달...\n",
      "2    10월 12일 오후 1:44                                  치즈볼 맛있게 먹기~~ ㅋㅋ ㆍ\n",
      "3     10월 9일 오전 1:32                                                  ·\n",
      "4     9월 24일 오후 6:10  Bhc 사이드메뉴에게 바치는 노래 너와 결혼까지 생각했어~ 같은 집 같은 방에서.....\n",
      "..               ...                                                ...\n",
      "250   9월 15일 오후 4:34             순수치킨이 새로 쓰는 #치킨의정석  [가성비+가성비=갓성비=순수치킨]\n",
      "251      2016년 1월 8일  요즘 핫한 맘스터치 사이드메뉴~ 이 중에서 가장 좋아하는 최애메뉴는? #올해도_다이...\n",
      "252     2018년 9월 10일  주말이 순삭되었다 우울한 내게 처방전은 #치즈볼 이지 쫀독쫀독하고 바삭한 치즈볼에 ...\n",
      "253      2018년 8월 2일                치즈 덕후는 꼭 시킨다는 #BHC #치즈볼 0:00 / 0:05\n",
      "254      2018년 8월 2일                치즈 덕후는 꼭 시킨다는 #BHC #치즈볼 0:02 / 0:05\n",
      "\n",
      "[255 rows x 2 columns]\n"
     ]
    }
   ],
   "source": [
    "print(df1)"
   ]
  },
  {
   "cell_type": "code",
   "execution_count": 27,
   "metadata": {},
   "outputs": [
    {
     "name": "stdout",
     "output_type": "stream",
     "text": [
      "9월 1일\n",
      "10월 11일\n",
      "10월 12일\n",
      "10월 9일\n",
      "9월 24일\n",
      "9월 22일\n",
      "9월 30일\n",
      "10월 2일\n",
      "9월 24일\n",
      "8월 16일\n",
      "9월 7일\n",
      "8월 13일\n",
      "9월 29일\n",
      "10월 11일\n",
      "10월 11일\n",
      "6월 1일\n",
      "9월 26일\n",
      "6시간\n",
      "10월 3일\n",
      "9월 24일\n",
      "9월 17일\n",
      "10월 5일\n",
      "9월 15일\n",
      "9월 17일\n",
      "9월 28일\n",
      "9월 26일\n",
      "9월 17일\n",
      "5월 19일\n",
      "8월 2일\n",
      "1월 31일\n",
      "None\n",
      "None\n",
      "3월 10일\n",
      "1월 14일\n",
      "None\n",
      "None\n",
      "None\n",
      "None\n",
      "None\n",
      "None\n",
      "None\n",
      "10월 3일\n",
      "9월 21일\n",
      "None\n",
      "10월 10일\n",
      "6월 29일\n",
      "None\n",
      "15시간\n",
      "None\n",
      "None\n",
      "5월 31일\n",
      "None\n",
      "None\n",
      "None\n",
      "10월 10일\n",
      "9월 29일\n",
      "10월 7일\n",
      "9월 17일\n",
      "10월 5일\n",
      "10월 9일\n",
      "10월 9일\n",
      "9월 30일\n",
      "10월 7일\n",
      "None\n",
      "9월 21일\n",
      "9월 27일\n",
      "10월 9일\n",
      "10월 11일\n",
      "9월 18일\n",
      "10월 7일\n",
      "10월 6일\n",
      "9월 23일\n",
      "9월 22일\n",
      "9월 22일\n",
      "9월 15일\n",
      "10월 10일\n",
      "10월 10일\n",
      "10월 4일\n",
      "10월 1일\n",
      "6월 20일\n",
      "9월 25일\n",
      "2월 14일\n",
      "8월 9일\n",
      "9월 24일\n",
      "9월 21일\n",
      "10월 7일\n",
      "9월 21일\n",
      "9월 13일\n",
      "8월 24일\n",
      "10월 10일\n",
      "9월 18일\n",
      "9월 17일\n",
      "8월 23일\n",
      "9월 21일\n",
      "9월 29일\n",
      "6월 16일\n",
      "5월 20일\n",
      "5월 14일\n",
      "5월 9일\n",
      "1월 13일\n",
      "2월 6일\n",
      "None\n",
      "None\n",
      "None\n",
      "8월 29일\n",
      "None\n",
      "None\n",
      "None\n",
      "None\n",
      "5월 30일\n",
      "None\n",
      "None\n",
      "10월 9일\n",
      "9월 29일\n",
      "9월 23일\n",
      "9월 30일\n",
      "9월 23일\n",
      "9월 21일\n",
      "10월 2일\n",
      "9월 26일\n",
      "9월 18일\n",
      "9월 22일\n",
      "9월 17일\n",
      "10월 5일\n",
      "어제\n",
      "9월 27일\n",
      "9월 16일\n",
      "9월 22일\n",
      "9월 22일\n",
      "None\n",
      "9월 21일\n",
      "9월 29일\n",
      "9월 16일\n",
      "None\n",
      "7월 19일\n",
      "None\n",
      "9월 28일\n",
      "7월 31일\n",
      "9월 16일\n",
      "None\n",
      "None\n",
      "3월 17일\n",
      "2월 19일\n",
      "9월 18일\n",
      "9월 22일\n",
      "None\n",
      "None\n",
      "None\n",
      "9월 17일\n",
      "9월 21일\n",
      "None\n",
      "None\n",
      "10월 3일\n",
      "9월 2일\n",
      "6월 12일\n",
      "8월 8일\n",
      "4월 14일\n",
      "4월 15일\n",
      "None\n",
      "None\n",
      "4월 28일\n",
      "None\n",
      "None\n",
      "3월 30일\n",
      "22시간\n",
      "9월 22일\n",
      "10월 11일\n",
      "9월 16일\n",
      "None\n",
      "9월 22일\n",
      "9월 21일\n",
      "9월 16일\n",
      "None\n",
      "None\n",
      "2월 20일\n",
      "None\n",
      "9월 5일\n",
      "None\n",
      "9월 18일\n",
      "10월 5일\n",
      "None\n",
      "None\n",
      "None\n",
      "None\n",
      "6월 9일\n",
      "9월 28일\n",
      "9월 23일\n",
      "4월 28일\n",
      "None\n",
      "5월 12일\n",
      "9월 29일\n",
      "None\n",
      "1월 22일\n",
      "2월 4일\n",
      "None\n",
      "None\n",
      "None\n",
      "9월 17일\n",
      "8월 20일\n",
      "5월 27일\n",
      "8월 20일\n",
      "6월 13일\n",
      "9월 10일\n",
      "6월 23일\n",
      "8월 18일\n",
      "6월 24일\n",
      "4월 29일\n",
      "7월 29일\n",
      "5월 26일\n",
      "5월 6일\n",
      "5월 11일\n",
      "4월 8일\n",
      "4월 16일\n",
      "2월 12일\n",
      "None\n",
      "None\n",
      "None\n",
      "None\n",
      "6월 14일\n",
      "4월 17일\n",
      "None\n",
      "None\n",
      "10월 8일\n",
      "None\n",
      "8월 28일\n",
      "10월 9일\n",
      "None\n",
      "10월 7일\n",
      "None\n",
      "9월 23일\n",
      "10월 10일\n",
      "어제\n",
      "None\n",
      "None\n",
      "None\n",
      "1월 28일\n",
      "None\n",
      "None\n",
      "None\n",
      "None\n",
      "None\n",
      "None\n",
      "None\n",
      "None\n",
      "None\n",
      "9월 18일\n",
      "9월 25일\n",
      "6월 5일\n",
      "None\n",
      "None\n",
      "9월 15일\n",
      "None\n",
      "None\n",
      "None\n",
      "None\n"
     ]
    },
    {
     "name": "stderr",
     "output_type": "stream",
     "text": [
      "C:\\ProgramData\\Anaconda3\\envs\\MachineLearning\\lib\\site-packages\\IPython\\core\\interactiveshell.py:3417: SettingWithCopyWarning: \n",
      "A value is trying to be set on a copy of a slice from a DataFrame\n",
      "\n",
      "See the caveats in the documentation: https://pandas.pydata.org/pandas-docs/stable/user_guide/indexing.html#returning-a-view-versus-a-copy\n",
      "  exec(code_obj, self.user_global_ns, self.user_ns)\n"
     ]
    }
   ],
   "source": [
    "#2020년 이전 데이터 none처리, 시간정보만 삭제\n",
    "for i in range(len(df1['date'])):\n",
    "    if '년' in df1['date'][i]:\n",
    "        df1['date'][i] = None\n",
    "    elif '함께 합니다' in df1['date'][i]:\n",
    "        df1['date'][i] = None\n",
    "    elif '오' in df1['date'][i]:\n",
    "        df1['date'][i] = df1['date'][i][:(df1['date'][i].find('오'))-1]\n",
    "    print(df1['date'][i])"
   ]
  },
  {
   "cell_type": "code",
   "execution_count": 28,
   "metadata": {},
   "outputs": [
    {
     "name": "stdout",
     "output_type": "stream",
     "text": [
      "174\n",
      "<class 'pandas.core.frame.DataFrame'>\n",
      "RangeIndex: 174 entries, 0 to 173\n",
      "Data columns (total 2 columns):\n",
      " #   Column  Non-Null Count  Dtype \n",
      "---  ------  --------------  ----- \n",
      " 0   date    174 non-null    object\n",
      " 1   title   174 non-null    object\n",
      "dtypes: object(2)\n",
      "memory usage: 2.8+ KB\n",
      "None\n"
     ]
    }
   ],
   "source": [
    "df_clean = df1.dropna(subset=['date'], how='any', axis=0) #2020년 이전 행 삭제\n",
    "df_clean.reset_index(inplace=True, drop=True)\n",
    "print(len(df_clean))\n",
    "print(df_clean.info())"
   ]
  },
  {
   "cell_type": "code",
   "execution_count": 29,
   "metadata": {},
   "outputs": [
    {
     "name": "stdout",
     "output_type": "stream",
     "text": [
      "0        2020년 9월 1일\n",
      "1      2020년 10월 11일\n",
      "2      2020년 10월 12일\n",
      "3       2020년 10월 9일\n",
      "4       2020년 9월 24일\n",
      "           ...      \n",
      "169     2020년 1월 28일\n",
      "170     2020년 9월 18일\n",
      "171     2020년 9월 25일\n",
      "172      2020년 6월 5일\n",
      "173     2020년 9월 15일\n",
      "Name: date, Length: 174, dtype: object\n"
     ]
    },
    {
     "name": "stderr",
     "output_type": "stream",
     "text": [
      "C:\\ProgramData\\Anaconda3\\envs\\MachineLearning\\lib\\site-packages\\IPython\\core\\interactiveshell.py:3417: SettingWithCopyWarning: \n",
      "A value is trying to be set on a copy of a slice from a DataFrame\n",
      "\n",
      "See the caveats in the documentation: https://pandas.pydata.org/pandas-docs/stable/user_guide/indexing.html#returning-a-view-versus-a-copy\n",
      "  exec(code_obj, self.user_global_ns, self.user_ns)\n"
     ]
    }
   ],
   "source": [
    "#2020년 추가\n",
    "for i in range(len(df_clean['date'])):\n",
    "    df_clean['date'][i]='2020년 '+df_clean['date'][i]\n",
    "print(df_clean['date'])"
   ]
  },
  {
   "cell_type": "code",
   "execution_count": 30,
   "metadata": {},
   "outputs": [
    {
     "name": "stdout",
     "output_type": "stream",
     "text": [
      "           date                                              title\n",
      "0      2020-9-1  그 안에 무엇을 넣고 돌려도 겉바속촉 명품 요리로 변신시켜주는 주방의 요물 #에어프...\n",
      "1    2020-10-11  광희가 네고하고 간 바로 그 bbq신메뉴 메이플버터갈릭치킨 와우 와우 와우 ! 달달...\n",
      "2    2020-10-12                                  치즈볼 맛있게 먹기~~ ㅋㅋ ㆍ\n",
      "3     2020-10-9                                                  ·\n",
      "4     2020-9-24  Bhc 사이드메뉴에게 바치는 노래 너와 결혼까지 생각했어~ 같은 집 같은 방에서.....\n",
      "..          ...                                                ...\n",
      "169   2020-1-28  연휴가 끝나서 힘들고 지칠 때 #멕시카나치킨 을 찾아주세요~! 매콤단짠  #뿌리고치...\n",
      "170   2020-9-18                                배달의민족 순수치킨 3000원 할인\n",
      "171   2020-9-25                          금요일은 배달의민족 순수치킨  3000원 할인\n",
      "172    2020-6-5  #또래오래 #목우촌 #배달의민족 #쿠폰 #프로모션 #치킨 이번 주 금토일 치킨파티 ...\n",
      "173   2020-9-15             순수치킨이 새로 쓰는 #치킨의정석  [가성비+가성비=갓성비=순수치킨]\n",
      "\n",
      "[174 rows x 2 columns]\n"
     ]
    }
   ],
   "source": [
    "#년월일을 - 로 대체\n",
    "for i in range(len(df_clean)):\n",
    "    df_clean['date'][i] = df_clean['date'][i].replace('년 ', '-').replace('월 ', '-').replace('일', '')\n",
    "print(df_clean)    "
   ]
  },
  {
   "cell_type": "code",
   "execution_count": 31,
   "metadata": {},
   "outputs": [
    {
     "name": "stdout",
     "output_type": "stream",
     "text": [
      "0        2020-9-1\n",
      "1      2020-10-11\n",
      "2      2020-10-12\n",
      "3       2020-10-9\n",
      "4       2020-9-24\n",
      "          ...    \n",
      "169     2020-1-28\n",
      "170     2020-9-18\n",
      "171     2020-9-25\n",
      "172      2020-6-5\n",
      "173     2020-9-15\n",
      "Name: date, Length: 174, dtype: object\n"
     ]
    },
    {
     "name": "stderr",
     "output_type": "stream",
     "text": [
      "C:\\ProgramData\\Anaconda3\\envs\\MachineLearning\\lib\\site-packages\\IPython\\core\\interactiveshell.py:3417: SettingWithCopyWarning: \n",
      "A value is trying to be set on a copy of a slice from a DataFrame\n",
      "\n",
      "See the caveats in the documentation: https://pandas.pydata.org/pandas-docs/stable/user_guide/indexing.html#returning-a-view-versus-a-copy\n",
      "  exec(code_obj, self.user_global_ns, self.user_ns)\n"
     ]
    }
   ],
   "source": [
    "#시간, 어제 - 날짜형식으로 입력\n",
    "for z in range(len(df_clean['date'])):\n",
    "    if '시간' in df_clean['date'][z]:\n",
    "        new_date = datetime.datetime.now() - datetime.timedelta(days = 1)            \n",
    "        df_clean['date'][z] = new_date\n",
    "        \n",
    "    elif '어제' in df_clean['date'][z]:\n",
    "        new_date2 = datetime.datetime.now() - datetime.timedelta(days = 1)\n",
    "        df_clean['date'][z] = new_date2\n",
    "    \n",
    "    else:\n",
    "        pass\n",
    "print(df_clean['date'])"
   ]
  },
  {
   "cell_type": "code",
   "execution_count": 32,
   "metadata": {},
   "outputs": [
    {
     "name": "stderr",
     "output_type": "stream",
     "text": [
      "C:\\ProgramData\\Anaconda3\\envs\\MachineLearning\\lib\\site-packages\\ipykernel_launcher.py:2: SettingWithCopyWarning: \n",
      "A value is trying to be set on a copy of a slice from a DataFrame.\n",
      "Try using .loc[row_indexer,col_indexer] = value instead\n",
      "\n",
      "See the caveats in the documentation: https://pandas.pydata.org/pandas-docs/stable/user_guide/indexing.html#returning-a-view-versus-a-copy\n",
      "  \n"
     ]
    }
   ],
   "source": [
    "#전체 데이터 날짜 형식으로 변환\n",
    "df_clean['date'] = pd.to_datetime(df_clean['date'])"
   ]
  },
  {
   "cell_type": "code",
   "execution_count": 33,
   "metadata": {
    "scrolled": true
   },
   "outputs": [
    {
     "name": "stderr",
     "output_type": "stream",
     "text": [
      "C:\\ProgramData\\Anaconda3\\envs\\MachineLearning\\lib\\site-packages\\ipykernel_launcher.py:3: SettingWithCopyWarning: \n",
      "A value is trying to be set on a copy of a slice from a DataFrame\n",
      "\n",
      "See the caveats in the documentation: https://pandas.pydata.org/pandas-docs/stable/user_guide/indexing.html#returning-a-view-versus-a-copy\n",
      "  This is separate from the ipykernel package so we can avoid doing imports until\n",
      "C:\\ProgramData\\Anaconda3\\envs\\MachineLearning\\lib\\site-packages\\pandas\\core\\indexing.py:670: SettingWithCopyWarning: \n",
      "A value is trying to be set on a copy of a slice from a DataFrame\n",
      "\n",
      "See the caveats in the documentation: https://pandas.pydata.org/pandas-docs/stable/user_guide/indexing.html#returning-a-view-versus-a-copy\n",
      "  iloc._setitem_with_indexer(indexer, value)\n",
      "C:\\ProgramData\\Anaconda3\\envs\\MachineLearning\\lib\\site-packages\\pandas\\core\\series.py:1061: SettingWithCopyWarning: \n",
      "A value is trying to be set on a copy of a slice from a DataFrame\n",
      "\n",
      "See the caveats in the documentation: https://pandas.pydata.org/pandas-docs/stable/user_guide/indexing.html#returning-a-view-versus-a-copy\n",
      "  self.loc[key] = value\n"
     ]
    },
    {
     "data": {
      "text/plain": [
       "0      2020-09-01\n",
       "1      2020-10-11\n",
       "2      2020-10-12\n",
       "3      2020-10-09\n",
       "4      2020-09-24\n",
       "          ...    \n",
       "169    2020-01-28\n",
       "170    2020-09-18\n",
       "171    2020-09-25\n",
       "172    2020-06-05\n",
       "173    2020-09-15\n",
       "Name: date, Length: 174, dtype: object"
      ]
     },
     "execution_count": 33,
     "metadata": {},
     "output_type": "execute_result"
    }
   ],
   "source": [
    "#날짜 데이터로 변환\n",
    "for i in range(len(df_clean)):\n",
    "    df_clean['date'][i] = df_clean['date'][i].strftime('%Y-%m-%d')\n",
    "df_clean['date']"
   ]
  },
  {
   "cell_type": "code",
   "execution_count": 34,
   "metadata": {},
   "outputs": [
    {
     "data": {
      "text/html": [
       "<div>\n",
       "<style scoped>\n",
       "    .dataframe tbody tr th:only-of-type {\n",
       "        vertical-align: middle;\n",
       "    }\n",
       "\n",
       "    .dataframe tbody tr th {\n",
       "        vertical-align: top;\n",
       "    }\n",
       "\n",
       "    .dataframe thead th {\n",
       "        text-align: right;\n",
       "    }\n",
       "</style>\n",
       "<table border=\"1\" class=\"dataframe\">\n",
       "  <thead>\n",
       "    <tr style=\"text-align: right;\">\n",
       "      <th></th>\n",
       "      <th>date</th>\n",
       "      <th>title</th>\n",
       "    </tr>\n",
       "  </thead>\n",
       "  <tbody>\n",
       "    <tr>\n",
       "      <th>0</th>\n",
       "      <td>2020-09-01</td>\n",
       "      <td>그 안에 무엇을 넣고 돌려도 겉바속촉 명품 요리로 변신시켜주는 주방의 요물 #에어프...</td>\n",
       "    </tr>\n",
       "    <tr>\n",
       "      <th>1</th>\n",
       "      <td>2020-10-11</td>\n",
       "      <td>광희가 네고하고 간 바로 그 bbq신메뉴 메이플버터갈릭치킨 와우 와우 와우 ! 달달...</td>\n",
       "    </tr>\n",
       "    <tr>\n",
       "      <th>2</th>\n",
       "      <td>2020-10-12</td>\n",
       "      <td>치즈볼 맛있게 먹기~~ ㅋㅋ ㆍ</td>\n",
       "    </tr>\n",
       "    <tr>\n",
       "      <th>3</th>\n",
       "      <td>2020-10-09</td>\n",
       "      <td>·</td>\n",
       "    </tr>\n",
       "    <tr>\n",
       "      <th>4</th>\n",
       "      <td>2020-09-24</td>\n",
       "      <td>Bhc 사이드메뉴에게 바치는 노래 너와 결혼까지 생각했어~ 같은 집 같은 방에서.....</td>\n",
       "    </tr>\n",
       "    <tr>\n",
       "      <th>...</th>\n",
       "      <td>...</td>\n",
       "      <td>...</td>\n",
       "    </tr>\n",
       "    <tr>\n",
       "      <th>169</th>\n",
       "      <td>2020-01-28</td>\n",
       "      <td>연휴가 끝나서 힘들고 지칠 때 #멕시카나치킨 을 찾아주세요~! 매콤단짠  #뿌리고치...</td>\n",
       "    </tr>\n",
       "    <tr>\n",
       "      <th>170</th>\n",
       "      <td>2020-09-18</td>\n",
       "      <td>배달의민족 순수치킨 3000원 할인</td>\n",
       "    </tr>\n",
       "    <tr>\n",
       "      <th>171</th>\n",
       "      <td>2020-09-25</td>\n",
       "      <td>금요일은 배달의민족 순수치킨  3000원 할인</td>\n",
       "    </tr>\n",
       "    <tr>\n",
       "      <th>172</th>\n",
       "      <td>2020-06-05</td>\n",
       "      <td>#또래오래 #목우촌 #배달의민족 #쿠폰 #프로모션 #치킨 이번 주 금토일 치킨파티 ...</td>\n",
       "    </tr>\n",
       "    <tr>\n",
       "      <th>173</th>\n",
       "      <td>2020-09-15</td>\n",
       "      <td>순수치킨이 새로 쓰는 #치킨의정석  [가성비+가성비=갓성비=순수치킨]</td>\n",
       "    </tr>\n",
       "  </tbody>\n",
       "</table>\n",
       "<p>174 rows × 2 columns</p>\n",
       "</div>"
      ],
      "text/plain": [
       "           date                                              title\n",
       "0    2020-09-01  그 안에 무엇을 넣고 돌려도 겉바속촉 명품 요리로 변신시켜주는 주방의 요물 #에어프...\n",
       "1    2020-10-11  광희가 네고하고 간 바로 그 bbq신메뉴 메이플버터갈릭치킨 와우 와우 와우 ! 달달...\n",
       "2    2020-10-12                                  치즈볼 맛있게 먹기~~ ㅋㅋ ㆍ\n",
       "3    2020-10-09                                                  ·\n",
       "4    2020-09-24  Bhc 사이드메뉴에게 바치는 노래 너와 결혼까지 생각했어~ 같은 집 같은 방에서.....\n",
       "..          ...                                                ...\n",
       "169  2020-01-28  연휴가 끝나서 힘들고 지칠 때 #멕시카나치킨 을 찾아주세요~! 매콤단짠  #뿌리고치...\n",
       "170  2020-09-18                                배달의민족 순수치킨 3000원 할인\n",
       "171  2020-09-25                          금요일은 배달의민족 순수치킨  3000원 할인\n",
       "172  2020-06-05  #또래오래 #목우촌 #배달의민족 #쿠폰 #프로모션 #치킨 이번 주 금토일 치킨파티 ...\n",
       "173  2020-09-15             순수치킨이 새로 쓰는 #치킨의정석  [가성비+가성비=갓성비=순수치킨]\n",
       "\n",
       "[174 rows x 2 columns]"
      ]
     },
     "execution_count": 34,
     "metadata": {},
     "output_type": "execute_result"
    }
   ],
   "source": [
    "df_clean                                    "
   ]
  },
  {
   "cell_type": "code",
   "execution_count": 35,
   "metadata": {},
   "outputs": [],
   "source": [
    "df_clean.to_csv('./crawling/facebook{}_clean.csv'.format(k))"
   ]
  },
  {
   "cell_type": "code",
   "execution_count": null,
   "metadata": {},
   "outputs": [],
   "source": []
  }
 ],
 "metadata": {
  "kernelspec": {
   "display_name": "Python 3",
   "language": "python",
   "name": "python3"
  },
  "language_info": {
   "codemirror_mode": {
    "name": "ipython",
    "version": 3
   },
   "file_extension": ".py",
   "mimetype": "text/x-python",
   "name": "python",
   "nbconvert_exporter": "python",
   "pygments_lexer": "ipython3",
   "version": "3.7.7"
  }
 },
 "nbformat": 4,
 "nbformat_minor": 4
}
