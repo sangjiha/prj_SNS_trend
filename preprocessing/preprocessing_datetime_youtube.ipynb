{
 "cells": [
  {
   "cell_type": "code",
   "execution_count": 92,
   "metadata": {},
   "outputs": [],
   "source": [
    "import pandas as pd\n",
    "import numpy as np\n",
    "import datetime"
   ]
  },
  {
   "cell_type": "code",
   "execution_count": 94,
   "metadata": {},
   "outputs": [
    {
     "name": "stdout",
     "output_type": "stream",
     "text": [
      "<class 'pandas.core.frame.DataFrame'>\n",
      "RangeIndex: 4710 entries, 0 to 4709\n",
      "Data columns (total 4 columns):\n",
      " #   Column    Non-Null Count  Dtype \n",
      "---  ------    --------------  ----- \n",
      " 0   title     4710 non-null   object\n",
      " 1   date      4620 non-null   object\n",
      " 2   youtuber  4710 non-null   object\n",
      " 3   comment   4710 non-null   object\n",
      "dtypes: object(4)\n",
      "memory usage: 147.3+ KB\n",
      "                                                  title                date  \\\n",
      "0                                  BHC 치즈볼 긴장해야 할거같습니다.  최초 공개: 2020. 4. 2.   \n",
      "1                                  BHC 치즈볼 긴장해야 할거같습니다.  최초 공개: 2020. 4. 2.   \n",
      "2                                  BHC 치즈볼 긴장해야 할거같습니다.  최초 공개: 2020. 4. 2.   \n",
      "3                                  BHC 치즈볼 긴장해야 할거같습니다.  최초 공개: 2020. 4. 2.   \n",
      "4                                  BHC 치즈볼 긴장해야 할거같습니다.  최초 공개: 2020. 4. 2.   \n",
      "...                                                 ...                 ...   \n",
      "4705  먹방브이로그) 드디어 네고왕 성공🙌🏻🍖 ㅣBBQ 광희나는 메이플 버터갈릭 치킨, 모...       2020. 10. 14.   \n",
      "4706  먹방브이로그) 드디어 네고왕 성공🙌🏻🍖 ㅣBBQ 광희나는 메이플 버터갈릭 치킨, 모...       2020. 10. 14.   \n",
      "4707  먹방브이로그) 드디어 네고왕 성공🙌🏻🍖 ㅣBBQ 광희나는 메이플 버터갈릭 치킨, 모...       2020. 10. 14.   \n",
      "4708  먹방브이로그) 드디어 네고왕 성공🙌🏻🍖 ㅣBBQ 광희나는 메이플 버터갈릭 치킨, 모...       2020. 10. 14.   \n",
      "4709                     슬라임#채널이름이 치즈볼 로 바뀌게되었답니댕#슬라임섞기       2020. 10. 13.   \n",
      "\n",
      "      youtuber                                            comment  \n",
      "0     애주가TV참PD                  전국의 치즈볼이 씨가 마르겠네요...\\n오늘 영상 대박입니다  \n",
      "1     애주가TV참PD  이런 컨텐츠 참 좋은거 같아요 . 우리나라는 대기업에 여러가지가 집중되어 있는데 훌...  \n",
      "2     애주가TV참PD  여러분이 드시는 치킨 프랜차이즈 치즈볼은 거의 다  자체생산이 아닌 외주를 통해 나...  \n",
      "3     애주가TV참PD   와..요즘 bhc 치즈볼이랑 제일 비슷한거 찾고 있었는데ㅜㅠㅜ 진짜 감사해유 참피디님님  \n",
      "4     애주가TV참PD  와 정말기다렸던 컨텐츠!!!!! bhc맛 치즈볼 너무 찾고싶었어요!!!!!!ㅠㅠㅠㅠ...  \n",
      "...        ...                                                ...  \n",
      "4705  이면지Leemj                   영상 잘보고 갑니다  편안한 저녁시간  보내세요 👍👍👍💕👏  \n",
      "4706  이면지Leemj  메이플 버터 맛 나는 치킨 상상이 안가요ㅜㅜ 근데 ㅋㅋㅋ 진짜 맛나면 나도 모르게 ...  \n",
      "4707  이면지Leemj                            언니 ... 메이크업 영상 찍어줘요 ㅠㅠㅠ  \n",
      "4708  이면지Leemj                        대학생이신가요!? 동안페이스이셔서 모르겟네요 ㅠㅠ  \n",
      "4709       치즈볼                                             나야 이서연  \n",
      "\n",
      "[4710 rows x 4 columns]\n"
     ]
    }
   ],
   "source": [
    "df = pd.read_csv('../datasets/crawling_youtube_thismonth_1016.csv') #치즈볼 이번 달 \n",
    "df.drop([df.columns[0]],axis=1, inplace=True)\n",
    "df.info()\n",
    "print(df)"
   ]
  },
  {
   "cell_type": "code",
   "execution_count": 113,
   "metadata": {},
   "outputs": [
    {
     "name": "stdout",
     "output_type": "stream",
     "text": [
      "                                                  title                date  \\\n",
      "0                                  BHC 치즈볼 긴장해야 할거같습니다.  최초 공개: 2020. 4. 2.   \n",
      "1                                  BHC 치즈볼 긴장해야 할거같습니다.  최초 공개: 2020. 4. 2.   \n",
      "2                                  BHC 치즈볼 긴장해야 할거같습니다.  최초 공개: 2020. 4. 2.   \n",
      "3                                  BHC 치즈볼 긴장해야 할거같습니다.  최초 공개: 2020. 4. 2.   \n",
      "4                                  BHC 치즈볼 긴장해야 할거같습니다.  최초 공개: 2020. 4. 2.   \n",
      "...                                                 ...                 ...   \n",
      "2733  ASMR CHEESY BURGER KING ,CHEESE BALL, Chicken ...         2020. 2. 4.   \n",
      "2734  ASMR CHEESY BURGER KING ,CHEESE BALL, Chicken ...         2020. 2. 4.   \n",
      "2735  ASMR CHEESY BURGER KING ,CHEESE BALL, Chicken ...         2020. 2. 4.   \n",
      "2736  ASMR CHEESY BURGER KING ,CHEESE BALL, Chicken ...         2020. 2. 4.   \n",
      "2737  ASMR CHEESY BURGER KING ,CHEESE BALL, Chicken ...         2020. 2. 4.   \n",
      "\n",
      "          youtuber                                            comment  \n",
      "0         애주가TV참PD                  전국의 치즈볼이 씨가 마르겠네요...\\n오늘 영상 대박입니다  \n",
      "1         애주가TV참PD  여러분이 드시는 치킨 프랜차이즈 치즈볼은 거의 다  자체생산이 아닌 외주를 통해 나...  \n",
      "2         애주가TV참PD  이런 컨텐츠 참 좋은거 같아요 . 우리나라는 대기업에 여러가지가 집중되어 있는데 훌...  \n",
      "3         애주가TV참PD  5:03 8700 더 바삭한\\n5:55 9500 푸드킹\\n6:19 11500 썬리취...  \n",
      "4         애주가TV참PD                                          8:11 최종평가  \n",
      "...            ...                                                ...  \n",
      "2733  DONI ASMR 도니                                          amo carne  \n",
      "2734  DONI ASMR 도니                                    Nice<3 ilyyyy:(  \n",
      "2735  DONI ASMR 도니        Like 23 wow everything looks so delicious🤤👌  \n",
      "2736  DONI ASMR 도니                               햄버거가 진짜 짱크네요 맛있겠다 ,,  \n",
      "2737  DONI ASMR 도니                                   Amo batata frita  \n",
      "\n",
      "[2738 rows x 4 columns]\n",
      "<class 'pandas.core.frame.DataFrame'>\n",
      "RangeIndex: 2738 entries, 0 to 2737\n",
      "Data columns (total 4 columns):\n",
      " #   Column    Non-Null Count  Dtype \n",
      "---  ------    --------------  ----- \n",
      " 0   title     2738 non-null   object\n",
      " 1   date      2738 non-null   object\n",
      " 2   youtuber  2738 non-null   object\n",
      " 3   comment   2738 non-null   object\n",
      "dtypes: object(4)\n",
      "memory usage: 85.7+ KB\n",
      "None\n"
     ]
    }
   ],
   "source": [
    "#NaN값 제거\n",
    "df.isnull().sum()\n",
    "df = df1.dropna()\n",
    "df.reset_index(drop =True, inplace = True)\n",
    "print(df)\n",
    "print(df.info())"
   ]
  },
  {
   "cell_type": "code",
   "execution_count": 71,
   "metadata": {},
   "outputs": [
    {
     "name": "stdout",
     "output_type": "stream",
     "text": [
      "0       False\n",
      "1       False\n",
      "2       False\n",
      "3       False\n",
      "4       False\n",
      "        ...  \n",
      "6494    False\n",
      "6495    False\n",
      "6496    False\n",
      "6497    False\n",
      "6498    False\n",
      "Length: 6499, dtype: bool\n"
     ]
    }
   ],
   "source": [
    "#중복값 확인 \n",
    "df_dup=df.duplicated()\n",
    "print(df_dup)"
   ]
  },
  {
   "cell_type": "code",
   "execution_count": 75,
   "metadata": {},
   "outputs": [
    {
     "name": "stdout",
     "output_type": "stream",
     "text": [
      "0\n"
     ]
    }
   ],
   "source": [
    "#중복값 갯수 확인 \n",
    "sum_dup=df.duplicated().sum()\n",
    "print(sum_dup)"
   ]
  },
  {
   "cell_type": "code",
   "execution_count": 79,
   "metadata": {},
   "outputs": [
    {
     "ename": "AttributeError",
     "evalue": "'Series' object has no attribute 'df_dup'",
     "output_type": "error",
     "traceback": [
      "\u001b[1;31m---------------------------------------------------------------------------\u001b[0m",
      "\u001b[1;31mAttributeError\u001b[0m                            Traceback (most recent call last)",
      "\u001b[1;32m<ipython-input-79-ffe181758a94>\u001b[0m in \u001b[0;36m<module>\u001b[1;34m\u001b[0m\n\u001b[1;32m----> 1\u001b[1;33m \u001b[0mdf\u001b[0m\u001b[1;33m=\u001b[0m\u001b[0mdf\u001b[0m\u001b[1;33m.\u001b[0m\u001b[0mdf_dup\u001b[0m\u001b[1;33m(\u001b[0m\u001b[0msubset\u001b[0m\u001b[1;33m=\u001b[0m\u001b[1;33m[\u001b[0m\u001b[1;34m'title'\u001b[0m\u001b[1;33m]\u001b[0m\u001b[1;33m)\u001b[0m \u001b[1;31m#중복값 제거 drop_duplicates\u001b[0m\u001b[1;33m\u001b[0m\u001b[1;33m\u001b[0m\u001b[0m\n\u001b[0m\u001b[0;32m      2\u001b[0m \u001b[0msum_dup\u001b[0m\u001b[1;33m=\u001b[0m\u001b[0mdf\u001b[0m\u001b[1;33m.\u001b[0m\u001b[0mtitle\u001b[0m\u001b[1;33m.\u001b[0m\u001b[0mduplicated\u001b[0m\u001b[1;33m(\u001b[0m\u001b[1;33m)\u001b[0m\u001b[1;33m.\u001b[0m\u001b[0msum\u001b[0m\u001b[1;33m(\u001b[0m\u001b[1;33m)\u001b[0m\u001b[1;33m\u001b[0m\u001b[1;33m\u001b[0m\u001b[0m\n\u001b[0;32m      3\u001b[0m \u001b[0mprint\u001b[0m\u001b[1;33m(\u001b[0m\u001b[0msum_dup\u001b[0m\u001b[1;33m)\u001b[0m\u001b[1;33m\u001b[0m\u001b[1;33m\u001b[0m\u001b[0m\n",
      "\u001b[1;32mc:\\users\\024\\anaconda3\\envs\\machinelearning\\lib\\site-packages\\pandas\\core\\generic.py\u001b[0m in \u001b[0;36m__getattr__\u001b[1;34m(self, name)\u001b[0m\n\u001b[0;32m   5128\u001b[0m             \u001b[1;32mif\u001b[0m \u001b[0mself\u001b[0m\u001b[1;33m.\u001b[0m\u001b[0m_info_axis\u001b[0m\u001b[1;33m.\u001b[0m\u001b[0m_can_hold_identifiers_and_holds_name\u001b[0m\u001b[1;33m(\u001b[0m\u001b[0mname\u001b[0m\u001b[1;33m)\u001b[0m\u001b[1;33m:\u001b[0m\u001b[1;33m\u001b[0m\u001b[1;33m\u001b[0m\u001b[0m\n\u001b[0;32m   5129\u001b[0m                 \u001b[1;32mreturn\u001b[0m \u001b[0mself\u001b[0m\u001b[1;33m[\u001b[0m\u001b[0mname\u001b[0m\u001b[1;33m]\u001b[0m\u001b[1;33m\u001b[0m\u001b[1;33m\u001b[0m\u001b[0m\n\u001b[1;32m-> 5130\u001b[1;33m             \u001b[1;32mreturn\u001b[0m \u001b[0mobject\u001b[0m\u001b[1;33m.\u001b[0m\u001b[0m__getattribute__\u001b[0m\u001b[1;33m(\u001b[0m\u001b[0mself\u001b[0m\u001b[1;33m,\u001b[0m \u001b[0mname\u001b[0m\u001b[1;33m)\u001b[0m\u001b[1;33m\u001b[0m\u001b[1;33m\u001b[0m\u001b[0m\n\u001b[0m\u001b[0;32m   5131\u001b[0m \u001b[1;33m\u001b[0m\u001b[0m\n\u001b[0;32m   5132\u001b[0m     \u001b[1;32mdef\u001b[0m \u001b[0m__setattr__\u001b[0m\u001b[1;33m(\u001b[0m\u001b[0mself\u001b[0m\u001b[1;33m,\u001b[0m \u001b[0mname\u001b[0m\u001b[1;33m:\u001b[0m \u001b[0mstr\u001b[0m\u001b[1;33m,\u001b[0m \u001b[0mvalue\u001b[0m\u001b[1;33m)\u001b[0m \u001b[1;33m->\u001b[0m \u001b[1;32mNone\u001b[0m\u001b[1;33m:\u001b[0m\u001b[1;33m\u001b[0m\u001b[1;33m\u001b[0m\u001b[0m\n",
      "\u001b[1;31mAttributeError\u001b[0m: 'Series' object has no attribute 'df_dup'"
     ]
    }
   ],
   "source": [
    "df=df.df_dup(subset=['title']) #중복값 제거 drop_duplicates\n",
    "sum_dup=df.title.duplicated().sum()\n",
    "print(sum_dup)"
   ]
  },
  {
   "cell_type": "code",
   "execution_count": 117,
   "metadata": {},
   "outputs": [
    {
     "data": {
      "text/plain": [
       "0       2020-4-2\n",
       "1       2020-4-2\n",
       "2       2020-4-2\n",
       "3       2020-4-2\n",
       "4       2020-4-2\n",
       "          ...   \n",
       "2733    2020-2-4\n",
       "2734    2020-2-4\n",
       "2735    2020-2-4\n",
       "2736    2020-2-4\n",
       "2737    2020-2-4\n",
       "Name: date, Length: 2738, dtype: object"
      ]
     },
     "execution_count": 117,
     "metadata": {},
     "output_type": "execute_result"
    }
   ],
   "source": [
    "for i in range(len(df)):\n",
    "    df['date'][i] = df['date'][i].replace('최초 공개: ', '').replace('.', '').replace(' ','-')\n",
    "df['date']"
   ]
  },
  {
   "cell_type": "code",
   "execution_count": 118,
   "metadata": {},
   "outputs": [],
   "source": [
    "df['date'] = pd.to_datetime(df['date'])"
   ]
  },
  {
   "cell_type": "code",
   "execution_count": 119,
   "metadata": {},
   "outputs": [
    {
     "name": "stderr",
     "output_type": "stream",
     "text": [
      "c:\\users\\024\\anaconda3\\envs\\machinelearning\\lib\\site-packages\\ipykernel_launcher.py:2: SettingWithCopyWarning: \n",
      "A value is trying to be set on a copy of a slice from a DataFrame\n",
      "\n",
      "See the caveats in the documentation: https://pandas.pydata.org/pandas-docs/stable/user_guide/indexing.html#returning-a-view-versus-a-copy\n",
      "  \n",
      "c:\\users\\024\\anaconda3\\envs\\machinelearning\\lib\\site-packages\\pandas\\core\\indexing.py:670: SettingWithCopyWarning: \n",
      "A value is trying to be set on a copy of a slice from a DataFrame\n",
      "\n",
      "See the caveats in the documentation: https://pandas.pydata.org/pandas-docs/stable/user_guide/indexing.html#returning-a-view-versus-a-copy\n",
      "  iloc._setitem_with_indexer(indexer, value)\n"
     ]
    }
   ],
   "source": [
    "for z in range(len(df)): \n",
    "    df['date'][z] = df['date'][z].strftime('%Y-%m-%d')"
   ]
  },
  {
   "cell_type": "code",
   "execution_count": 122,
   "metadata": {},
   "outputs": [],
   "source": [
    "df.to_csv('../datasets/prj_sns_trend_crawling_youtube_치즈볼1016.csv')"
   ]
  },
  {
   "cell_type": "code",
   "execution_count": null,
   "metadata": {},
   "outputs": [],
   "source": []
  }
 ],
 "metadata": {
  "kernelspec": {
   "display_name": "Python 3",
   "language": "python",
   "name": "python3"
  },
  "language_info": {
   "codemirror_mode": {
    "name": "ipython",
    "version": 3
   },
   "file_extension": ".py",
   "mimetype": "text/x-python",
   "name": "python",
   "nbconvert_exporter": "python",
   "pygments_lexer": "ipython3",
   "version": "3.7.7"
  }
 },
 "nbformat": 4,
 "nbformat_minor": 4
}
