{
 "cells": [
  {
   "cell_type": "code",
   "execution_count": 175,
   "metadata": {},
   "outputs": [],
   "source": [
    "import pandas as pd\n",
    "import re\n",
    "import numpy as np"
   ]
  },
  {
   "cell_type": "code",
   "execution_count": 162,
   "metadata": {},
   "outputs": [],
   "source": [
    "df1 = pd.read_csv('./crawling_data/crawling_instagram_final_date_title.csv')"
   ]
  },
  {
   "cell_type": "code",
   "execution_count": 163,
   "metadata": {},
   "outputs": [],
   "source": [
    "for i in range(len(df1)):\n",
    "    if '전' in df1['date'][i]:\n",
    "        print(i)"
   ]
  },
  {
   "cell_type": "code",
   "execution_count": 164,
   "metadata": {},
   "outputs": [],
   "source": [
    "df_list = ['crawling_naver_cafe_치즈볼','crawling_naver_blog_치즈볼','crawling_youtube_final_date_title','crawling_facebook_치즈볼']"
   ]
  },
  {
   "cell_type": "code",
   "execution_count": 165,
   "metadata": {},
   "outputs": [
    {
     "data": {
      "text/html": [
       "<div>\n",
       "<style scoped>\n",
       "    .dataframe tbody tr th:only-of-type {\n",
       "        vertical-align: middle;\n",
       "    }\n",
       "\n",
       "    .dataframe tbody tr th {\n",
       "        vertical-align: top;\n",
       "    }\n",
       "\n",
       "    .dataframe thead th {\n",
       "        text-align: right;\n",
       "    }\n",
       "</style>\n",
       "<table border=\"1\" class=\"dataframe\">\n",
       "  <thead>\n",
       "    <tr style=\"text-align: right;\">\n",
       "      <th></th>\n",
       "      <th>Unnamed: 0</th>\n",
       "      <th>date</th>\n",
       "      <th>title</th>\n",
       "    </tr>\n",
       "  </thead>\n",
       "  <tbody>\n",
       "    <tr>\n",
       "      <th>0</th>\n",
       "      <td>0</td>\n",
       "      <td>2020-09-24</td>\n",
       "      <td>오백예순두 번째 호기심까까  노브랜드버거 인절미치즈볼3알2900원   리뷰요청지에서...</td>\n",
       "    </tr>\n",
       "    <tr>\n",
       "      <th>1</th>\n",
       "      <td>1</td>\n",
       "      <td>2020-10-12</td>\n",
       "      <td>광고공구예고  안녕하세요 뚜뚜네간식 뚜맘입니다  오래 기다려주신 오크리스피 최저가공...</td>\n",
       "    </tr>\n",
       "    <tr>\n",
       "      <th>2</th>\n",
       "      <td>2</td>\n",
       "      <td>2020-10-10</td>\n",
       "      <td>_ 땡스피자 _ 오랜만에 먹은 땡스피자 못본 사이에 언제 이런 네가지 맛으로 즐길수...</td>\n",
       "    </tr>\n",
       "    <tr>\n",
       "      <th>3</th>\n",
       "      <td>3</td>\n",
       "      <td>2020-10-15</td>\n",
       "      <td>광희나는메이플버터갈릭치킨 비비큐치즈볼 bbq bbqchicken 네고왕 으로 핫한 ...</td>\n",
       "    </tr>\n",
       "    <tr>\n",
       "      <th>4</th>\n",
       "      <td>4</td>\n",
       "      <td>2020-10-17</td>\n",
       "      <td>배떡  방이점  로제떡볶이12인분 9000원 ...</td>\n",
       "    </tr>\n",
       "    <tr>\n",
       "      <th>...</th>\n",
       "      <td>...</td>\n",
       "      <td>...</td>\n",
       "      <td>...</td>\n",
       "    </tr>\n",
       "    <tr>\n",
       "      <th>41059</th>\n",
       "      <td>169</td>\n",
       "      <td>2020-01-28</td>\n",
       "      <td>연휴가 끝나서 힘들고 지칠 때 #멕시카나치킨 을 찾아주세요~! 매콤단짠  #뿌리고치...</td>\n",
       "    </tr>\n",
       "    <tr>\n",
       "      <th>41060</th>\n",
       "      <td>170</td>\n",
       "      <td>2020-09-18</td>\n",
       "      <td>배달의민족 순수치킨 3000원 할인</td>\n",
       "    </tr>\n",
       "    <tr>\n",
       "      <th>41061</th>\n",
       "      <td>171</td>\n",
       "      <td>2020-09-25</td>\n",
       "      <td>금요일은 배달의민족 순수치킨  3000원 할인</td>\n",
       "    </tr>\n",
       "    <tr>\n",
       "      <th>41062</th>\n",
       "      <td>172</td>\n",
       "      <td>2020-06-05</td>\n",
       "      <td>#또래오래 #목우촌 #배달의민족 #쿠폰 #프로모션 #치킨 이번 주 금토일 치킨파티 ...</td>\n",
       "    </tr>\n",
       "    <tr>\n",
       "      <th>41063</th>\n",
       "      <td>173</td>\n",
       "      <td>2020-09-15</td>\n",
       "      <td>순수치킨이 새로 쓰는 #치킨의정석  [가성비+가성비=갓성비=순수치킨]</td>\n",
       "    </tr>\n",
       "  </tbody>\n",
       "</table>\n",
       "<p>41064 rows × 3 columns</p>\n",
       "</div>"
      ],
      "text/plain": [
       "       Unnamed: 0        date  \\\n",
       "0               0  2020-09-24   \n",
       "1               1  2020-10-12   \n",
       "2               2  2020-10-10   \n",
       "3               3  2020-10-15   \n",
       "4               4  2020-10-17   \n",
       "...           ...         ...   \n",
       "41059         169  2020-01-28   \n",
       "41060         170  2020-09-18   \n",
       "41061         171  2020-09-25   \n",
       "41062         172  2020-06-05   \n",
       "41063         173  2020-09-15   \n",
       "\n",
       "                                                   title  \n",
       "0      오백예순두 번째 호기심까까  노브랜드버거 인절미치즈볼3알2900원   리뷰요청지에서...  \n",
       "1      광고공구예고  안녕하세요 뚜뚜네간식 뚜맘입니다  오래 기다려주신 오크리스피 최저가공...  \n",
       "2      _ 땡스피자 _ 오랜만에 먹은 땡스피자 못본 사이에 언제 이런 네가지 맛으로 즐길수...  \n",
       "3      광희나는메이플버터갈릭치킨 비비큐치즈볼 bbq bbqchicken 네고왕 으로 핫한 ...  \n",
       "4      배떡  방이점  로제떡볶이12인분 9000원 ...  \n",
       "...                                                  ...  \n",
       "41059  연휴가 끝나서 힘들고 지칠 때 #멕시카나치킨 을 찾아주세요~! 매콤단짠  #뿌리고치...  \n",
       "41060                                배달의민족 순수치킨 3000원 할인  \n",
       "41061                          금요일은 배달의민족 순수치킨  3000원 할인  \n",
       "41062  #또래오래 #목우촌 #배달의민족 #쿠폰 #프로모션 #치킨 이번 주 금토일 치킨파티 ...  \n",
       "41063             순수치킨이 새로 쓰는 #치킨의정석  [가성비+가성비=갓성비=순수치킨]  \n",
       "\n",
       "[41064 rows x 3 columns]"
      ]
     },
     "execution_count": 165,
     "metadata": {},
     "output_type": "execute_result"
    }
   ],
   "source": [
    "for a in df_list:\n",
    "    df2 = pd.read_csv('./crawling_data/{}.csv'.format(a))\n",
    "    df1 = pd.concat([df1,df2], ignore_index=True)\n",
    "    \n",
    "df1"
   ]
  },
  {
   "cell_type": "code",
   "execution_count": 166,
   "metadata": {},
   "outputs": [
    {
     "data": {
      "text/html": [
       "<div>\n",
       "<style scoped>\n",
       "    .dataframe tbody tr th:only-of-type {\n",
       "        vertical-align: middle;\n",
       "    }\n",
       "\n",
       "    .dataframe tbody tr th {\n",
       "        vertical-align: top;\n",
       "    }\n",
       "\n",
       "    .dataframe thead th {\n",
       "        text-align: right;\n",
       "    }\n",
       "</style>\n",
       "<table border=\"1\" class=\"dataframe\">\n",
       "  <thead>\n",
       "    <tr style=\"text-align: right;\">\n",
       "      <th></th>\n",
       "      <th>date</th>\n",
       "      <th>title</th>\n",
       "    </tr>\n",
       "  </thead>\n",
       "  <tbody>\n",
       "    <tr>\n",
       "      <th>0</th>\n",
       "      <td>2020-09-24</td>\n",
       "      <td>오백예순두 번째 호기심까까  노브랜드버거 인절미치즈볼3알2900원   리뷰요청지에서...</td>\n",
       "    </tr>\n",
       "    <tr>\n",
       "      <th>1</th>\n",
       "      <td>2020-10-12</td>\n",
       "      <td>광고공구예고  안녕하세요 뚜뚜네간식 뚜맘입니다  오래 기다려주신 오크리스피 최저가공...</td>\n",
       "    </tr>\n",
       "    <tr>\n",
       "      <th>2</th>\n",
       "      <td>2020-10-10</td>\n",
       "      <td>_ 땡스피자 _ 오랜만에 먹은 땡스피자 못본 사이에 언제 이런 네가지 맛으로 즐길수...</td>\n",
       "    </tr>\n",
       "    <tr>\n",
       "      <th>3</th>\n",
       "      <td>2020-10-15</td>\n",
       "      <td>광희나는메이플버터갈릭치킨 비비큐치즈볼 bbq bbqchicken 네고왕 으로 핫한 ...</td>\n",
       "    </tr>\n",
       "    <tr>\n",
       "      <th>4</th>\n",
       "      <td>2020-10-17</td>\n",
       "      <td>배떡  방이점  로제떡볶이12인분 9000원 ...</td>\n",
       "    </tr>\n",
       "    <tr>\n",
       "      <th>...</th>\n",
       "      <td>...</td>\n",
       "      <td>...</td>\n",
       "    </tr>\n",
       "    <tr>\n",
       "      <th>41059</th>\n",
       "      <td>2020-01-28</td>\n",
       "      <td>연휴가 끝나서 힘들고 지칠 때 #멕시카나치킨 을 찾아주세요~! 매콤단짠  #뿌리고치...</td>\n",
       "    </tr>\n",
       "    <tr>\n",
       "      <th>41060</th>\n",
       "      <td>2020-09-18</td>\n",
       "      <td>배달의민족 순수치킨 3000원 할인</td>\n",
       "    </tr>\n",
       "    <tr>\n",
       "      <th>41061</th>\n",
       "      <td>2020-09-25</td>\n",
       "      <td>금요일은 배달의민족 순수치킨  3000원 할인</td>\n",
       "    </tr>\n",
       "    <tr>\n",
       "      <th>41062</th>\n",
       "      <td>2020-06-05</td>\n",
       "      <td>#또래오래 #목우촌 #배달의민족 #쿠폰 #프로모션 #치킨 이번 주 금토일 치킨파티 ...</td>\n",
       "    </tr>\n",
       "    <tr>\n",
       "      <th>41063</th>\n",
       "      <td>2020-09-15</td>\n",
       "      <td>순수치킨이 새로 쓰는 #치킨의정석  [가성비+가성비=갓성비=순수치킨]</td>\n",
       "    </tr>\n",
       "  </tbody>\n",
       "</table>\n",
       "<p>41064 rows × 2 columns</p>\n",
       "</div>"
      ],
      "text/plain": [
       "             date                                              title\n",
       "0      2020-09-24  오백예순두 번째 호기심까까  노브랜드버거 인절미치즈볼3알2900원   리뷰요청지에서...\n",
       "1      2020-10-12  광고공구예고  안녕하세요 뚜뚜네간식 뚜맘입니다  오래 기다려주신 오크리스피 최저가공...\n",
       "2      2020-10-10  _ 땡스피자 _ 오랜만에 먹은 땡스피자 못본 사이에 언제 이런 네가지 맛으로 즐길수...\n",
       "3      2020-10-15  광희나는메이플버터갈릭치킨 비비큐치즈볼 bbq bbqchicken 네고왕 으로 핫한 ...\n",
       "4      2020-10-17  배떡  방이점  로제떡볶이12인분 9000원 ...\n",
       "...           ...                                                ...\n",
       "41059  2020-01-28  연휴가 끝나서 힘들고 지칠 때 #멕시카나치킨 을 찾아주세요~! 매콤단짠  #뿌리고치...\n",
       "41060  2020-09-18                                배달의민족 순수치킨 3000원 할인\n",
       "41061  2020-09-25                          금요일은 배달의민족 순수치킨  3000원 할인\n",
       "41062  2020-06-05  #또래오래 #목우촌 #배달의민족 #쿠폰 #프로모션 #치킨 이번 주 금토일 치킨파티 ...\n",
       "41063  2020-09-15             순수치킨이 새로 쓰는 #치킨의정석  [가성비+가성비=갓성비=순수치킨]\n",
       "\n",
       "[41064 rows x 2 columns]"
      ]
     },
     "execution_count": 166,
     "metadata": {},
     "output_type": "execute_result"
    }
   ],
   "source": [
    "df1.drop_duplicates(inplace=True)\n",
    "df1.drop([df1.columns[0]],axis=1, inplace=True)\n",
    "df1.reset_index(drop=True, inplace=True)\n",
    "df1"
   ]
  },
  {
   "cell_type": "code",
   "execution_count": 167,
   "metadata": {},
   "outputs": [],
   "source": [
    "def cleansing(text):\n",
    "    pattern = '([a-zA-Z0-9_.+-]+@[a-zA-Z0-9-]+\\.[a-zA-Z0-9-.]+)' # E-mail주소제거\n",
    "    text = re.sub(pattern=pattern, repl='', string=text)\n",
    "    pattern = '(http|ftp|https)://(?:[-\\w.]|(?:%[\\da-fA-F]{2}))+' # URL제거\n",
    "    text = re.sub(pattern=pattern, repl='', string=text)\n",
    "    pattern = '([ㄱ-ㅎㅏ-ㅣ]+)' # 한글 자음, 모음 제거\n",
    "    text = re.sub(pattern=pattern, repl='', string=text)\n",
    "    pattern = '<[^>]*>'         # HTML 태그 제거\n",
    "    text = re.sub(pattern=pattern, repl='', string=text)\n",
    "    pattern = '[^\\w\\s]' # 특수기호제거\n",
    "    text = re.sub(pattern=pattern, repl='', string=text)\n",
    "    return text    \n"
   ]
  },
  {
   "cell_type": "code",
   "execution_count": 168,
   "metadata": {},
   "outputs": [],
   "source": [
    "for z in range(len(df1)):\n",
    "\n",
    "    df1['title'][z] = cleansing(df1['title'][z])"
   ]
  },
  {
   "cell_type": "code",
   "execution_count": 169,
   "metadata": {},
   "outputs": [],
   "source": [
    "for i in range(len(df1)):\n",
    "    if '전' in df1['date'][i]:\n",
    "        print(i)"
   ]
  },
  {
   "cell_type": "code",
   "execution_count": 171,
   "metadata": {},
   "outputs": [],
   "source": [
    "df1.to_csv('./crawling_data/crawling_치즈볼_from20200101_to20201015.csv')"
   ]
  },
  {
   "cell_type": "code",
   "execution_count": 20,
   "metadata": {},
   "outputs": [
    {
     "name": "stdout",
     "output_type": "stream",
     "text": [
      "<class 'pandas.core.frame.DataFrame'>\n",
      "RangeIndex: 36798 entries, 0 to 36797\n",
      "Data columns (total 2 columns):\n",
      " #   Column  Non-Null Count  Dtype \n",
      "---  ------  --------------  ----- \n",
      " 0   title   36798 non-null  object\n",
      " 1   date    36798 non-null  object\n",
      "dtypes: object(2)\n",
      "memory usage: 575.1+ KB\n",
      "None\n"
     ]
    }
   ],
   "source": [
    "print(df1.info())"
   ]
  },
  {
   "cell_type": "code",
   "execution_count": null,
   "metadata": {},
   "outputs": [],
   "source": []
  }
 ],
 "metadata": {
  "kernelspec": {
   "display_name": "Python 3",
   "language": "python",
   "name": "python3"
  },
  "language_info": {
   "codemirror_mode": {
    "name": "ipython",
    "version": 3
   },
   "file_extension": ".py",
   "mimetype": "text/x-python",
   "name": "python",
   "nbconvert_exporter": "python",
   "pygments_lexer": "ipython3",
   "version": "3.7.7"
  }
 },
 "nbformat": 4,
 "nbformat_minor": 4
}
